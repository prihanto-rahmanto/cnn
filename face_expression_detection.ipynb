{
  "cells": [
    {
      "cell_type": "code",
      "execution_count": 1,
      "metadata": {
        "colab": {
          "base_uri": "https://localhost:8080/"
        },
        "id": "N3O33hnwzprk",
        "outputId": "5f302e44-bb1d-4759-9dc2-3be85f544da2"
      },
      "outputs": [
        {
          "output_type": "stream",
          "name": "stdout",
          "text": [
            "Looking in indexes: https://pypi.org/simple, https://us-python.pkg.dev/colab-wheels/public/simple/\n",
            "Collecting wget\n",
            "  Downloading wget-3.2.zip (10 kB)\n",
            "Building wheels for collected packages: wget\n",
            "  Building wheel for wget (setup.py) ... \u001b[?25l\u001b[?25hdone\n",
            "  Created wheel for wget: filename=wget-3.2-py3-none-any.whl size=9675 sha256=0a4c34ea1bea3e6463ffe177bb854abad20c98cd2b4c9ffda2e88042d2d33090\n",
            "  Stored in directory: /root/.cache/pip/wheels/a1/b6/7c/0e63e34eb06634181c63adacca38b79ff8f35c37e3c13e3c02\n",
            "Successfully built wget\n",
            "Installing collected packages: wget\n",
            "Successfully installed wget-3.2\n",
            "Looking in indexes: https://pypi.org/simple, https://us-python.pkg.dev/colab-wheels/public/simple/\n",
            "\u001b[31mERROR: Could not find a version that satisfies the requirement shutil (from versions: none)\u001b[0m\n",
            "\u001b[31mERROR: No matching distribution found for shutil\u001b[0m\n",
            "Looking in indexes: https://pypi.org/simple, https://us-python.pkg.dev/colab-wheels/public/simple/\n",
            "Collecting cutmix-keras\n",
            "  Downloading cutmix_keras-1.0.0-py3-none-any.whl (3.6 kB)\n",
            "Installing collected packages: cutmix-keras\n",
            "Successfully installed cutmix-keras-1.0.0\n"
          ]
        }
      ],
      "source": [
        "import pandas as pd\n",
        "import numpy as np\n",
        "import matplotlib.pyplot as plt\n",
        "import tensorflow as tf\n",
        "import matplotlib.image as mpimg\n",
        "import seaborn as sns\n",
        "import sys\n",
        "!{sys.executable} -m pip install wget\n",
        "!{sys.executable} -m pip install shutil\n",
        "!{sys.executable} -m pip install cutmix-keras\n",
        "\n",
        "import cv2\n",
        "from tqdm import tqdm\n",
        "\n",
        "import os\n",
        "from shutil import unpack_archive\n",
        "pd.set_option(\"display.max_columns\", 101)\n",
        "\n",
        "from cutmix_keras import CutMixImageDataGenerator\n",
        "from tensorflow.keras.preprocessing.image import ImageDataGenerator\n",
        "from tensorflow.keras.models import Sequential\n",
        "from tensorflow.keras.layers import Dense\n",
        "from tensorflow.keras.layers import Dropout, Flatten,Activation\n",
        "from tensorflow.keras.layers import Conv2D, MaxPooling2D, BatchNormalization\n",
        "from tensorflow.keras.optimizers import Adam,SGD,Adagrad,Adadelta,RMSprop"
      ]
    },
    {
      "cell_type": "code",
      "execution_count": 2,
      "metadata": {
        "colab": {
          "base_uri": "https://localhost:8080/"
        },
        "id": "PhTuHbNBLmVV",
        "outputId": "6683ae53-31f4-45c2-af43-008e71498211"
      },
      "outputs": [
        {
          "output_type": "stream",
          "name": "stdout",
          "text": [
            "--2022-07-23 13:44:14--  https://docs.google.com/uc?export=download&confirm=t&id=1b4DZIS7VfBI_V8-DbpsaCP0ij8u1K3hJ\n",
            "Resolving docs.google.com (docs.google.com)... 142.251.10.100, 142.251.10.139, 142.251.10.138, ...\n",
            "Connecting to docs.google.com (docs.google.com)|142.251.10.100|:443... connected.\n",
            "HTTP request sent, awaiting response... 303 See Other\n",
            "Location: https://doc-00-90-docs.googleusercontent.com/docs/securesc/ha0ro937gcuc7l7deffksulhg5h7mbp1/477l9s4oqu8649oo3bt3ovgpvl52t943/1658583825000/11309364930090306574/*/1b4DZIS7VfBI_V8-DbpsaCP0ij8u1K3hJ?e=download&uuid=2fb15fa5-5cb4-4040-a9f9-16979448dab8 [following]\n",
            "Warning: wildcards not supported in HTTP.\n",
            "--2022-07-23 13:44:15--  https://doc-00-90-docs.googleusercontent.com/docs/securesc/ha0ro937gcuc7l7deffksulhg5h7mbp1/477l9s4oqu8649oo3bt3ovgpvl52t943/1658583825000/11309364930090306574/*/1b4DZIS7VfBI_V8-DbpsaCP0ij8u1K3hJ?e=download&uuid=2fb15fa5-5cb4-4040-a9f9-16979448dab8\n",
            "Resolving doc-00-90-docs.googleusercontent.com (doc-00-90-docs.googleusercontent.com)... 74.125.24.132, 2404:6800:4003:c03::84\n",
            "Connecting to doc-00-90-docs.googleusercontent.com (doc-00-90-docs.googleusercontent.com)|74.125.24.132|:443... connected.\n",
            "HTTP request sent, awaiting response... 200 OK\n",
            "Length: 62282324 (59M) [application/x-zip-compressed]\n",
            "Saving to: ‘dataset.zip’\n",
            "\n",
            "dataset.zip         100%[===================>]  59.40M   224MB/s    in 0.3s    \n",
            "\n",
            "2022-07-23 13:44:15 (224 MB/s) - ‘dataset.zip’ saved [62282324/62282324]\n",
            "\n"
          ]
        }
      ],
      "source": [
        "# Download dan extract dataset\n",
        "\n",
        "!wget --load-cookies /tmp/cookies.txt \"https://docs.google.com/uc?export=download&confirm=$(wget --quiet --save-cookies /tmp/cookies.txt --keep-session-cookies --no-check-certificate 'https://docs.google.com/uc?export=download&id=1b4DZIS7VfBI_V8-DbpsaCP0ij8u1K3hJ' -O- | sed -rn 's/.*confirm=([0-9A-Za-z_]+).*/\\1\\n/p')&id=1b4DZIS7VfBI_V8-DbpsaCP0ij8u1K3hJ\" -O dataset.zip && rm -rf /tmp/cookies.txt\n",
        "\n",
        "unpack_archive('dataset.zip', '')\n",
        "\n",
        "os.remove('dataset.zip')"
      ]
    },
    {
      "cell_type": "code",
      "execution_count": 3,
      "metadata": {
        "colab": {
          "base_uri": "https://localhost:8080/"
        },
        "id": "lqJMTvKizwQw",
        "outputId": "ae795779-0ccc-4824-8a06-213e22be3300"
      },
      "outputs": [
        {
          "output_type": "stream",
          "name": "stdout",
          "text": [
            "['angry', 'fear', 'neutral', 'happy', 'surprise', 'sad', 'disgust']\n"
          ]
        }
      ],
      "source": [
        "# get label\n",
        "label = os.listdir('train')\n",
        "print(label)"
      ]
    },
    {
      "cell_type": "code",
      "execution_count": 4,
      "metadata": {
        "colab": {
          "base_uri": "https://localhost:8080/"
        },
        "id": "T526KBxe9GOP",
        "outputId": "cde9dffa-2042-4f61-a95a-05992da788c1"
      },
      "outputs": [
        {
          "output_type": "stream",
          "name": "stdout",
          "text": [
            "[['angry', 3993], ['fear', 4103], ['neutral', 4982], ['happy', 7164], ['surprise', 3205], ['sad', 4938], ['disgust', 436]]\n"
          ]
        }
      ],
      "source": [
        "data_label = []\n",
        "for nama_label in label:\n",
        "    jumlah = len(os.listdir(os.path.join('train', nama_label)))\n",
        "    #print(jumlah)\n",
        "    detail_label = [nama_label, jumlah]\n",
        "    data_label.append(detail_label)\n",
        "\n",
        "print(data_label)"
      ]
    },
    {
      "cell_type": "code",
      "execution_count": 5,
      "metadata": {
        "colab": {
          "base_uri": "https://localhost:8080/",
          "height": 269
        },
        "id": "37xW2HQR9Mz2",
        "outputId": "96b9c175-7efc-4f90-d2b6-2b83f45570c6"
      },
      "outputs": [
        {
          "output_type": "execute_result",
          "data": {
            "text/plain": [
              "   Ekspresi  Jumlah\n",
              "0     angry    3993\n",
              "1      fear    4103\n",
              "2   neutral    4982\n",
              "3     happy    7164\n",
              "4  surprise    3205\n",
              "5       sad    4938\n",
              "6   disgust     436"
            ],
            "text/html": [
              "\n",
              "  <div id=\"df-d5dd3f8d-d193-4acb-81b7-0e8ae6a72162\">\n",
              "    <div class=\"colab-df-container\">\n",
              "      <div>\n",
              "<style scoped>\n",
              "    .dataframe tbody tr th:only-of-type {\n",
              "        vertical-align: middle;\n",
              "    }\n",
              "\n",
              "    .dataframe tbody tr th {\n",
              "        vertical-align: top;\n",
              "    }\n",
              "\n",
              "    .dataframe thead th {\n",
              "        text-align: right;\n",
              "    }\n",
              "</style>\n",
              "<table border=\"1\" class=\"dataframe\">\n",
              "  <thead>\n",
              "    <tr style=\"text-align: right;\">\n",
              "      <th></th>\n",
              "      <th>Ekspresi</th>\n",
              "      <th>Jumlah</th>\n",
              "    </tr>\n",
              "  </thead>\n",
              "  <tbody>\n",
              "    <tr>\n",
              "      <th>0</th>\n",
              "      <td>angry</td>\n",
              "      <td>3993</td>\n",
              "    </tr>\n",
              "    <tr>\n",
              "      <th>1</th>\n",
              "      <td>fear</td>\n",
              "      <td>4103</td>\n",
              "    </tr>\n",
              "    <tr>\n",
              "      <th>2</th>\n",
              "      <td>neutral</td>\n",
              "      <td>4982</td>\n",
              "    </tr>\n",
              "    <tr>\n",
              "      <th>3</th>\n",
              "      <td>happy</td>\n",
              "      <td>7164</td>\n",
              "    </tr>\n",
              "    <tr>\n",
              "      <th>4</th>\n",
              "      <td>surprise</td>\n",
              "      <td>3205</td>\n",
              "    </tr>\n",
              "    <tr>\n",
              "      <th>5</th>\n",
              "      <td>sad</td>\n",
              "      <td>4938</td>\n",
              "    </tr>\n",
              "    <tr>\n",
              "      <th>6</th>\n",
              "      <td>disgust</td>\n",
              "      <td>436</td>\n",
              "    </tr>\n",
              "  </tbody>\n",
              "</table>\n",
              "</div>\n",
              "      <button class=\"colab-df-convert\" onclick=\"convertToInteractive('df-d5dd3f8d-d193-4acb-81b7-0e8ae6a72162')\"\n",
              "              title=\"Convert this dataframe to an interactive table.\"\n",
              "              style=\"display:none;\">\n",
              "        \n",
              "  <svg xmlns=\"http://www.w3.org/2000/svg\" height=\"24px\"viewBox=\"0 0 24 24\"\n",
              "       width=\"24px\">\n",
              "    <path d=\"M0 0h24v24H0V0z\" fill=\"none\"/>\n",
              "    <path d=\"M18.56 5.44l.94 2.06.94-2.06 2.06-.94-2.06-.94-.94-2.06-.94 2.06-2.06.94zm-11 1L8.5 8.5l.94-2.06 2.06-.94-2.06-.94L8.5 2.5l-.94 2.06-2.06.94zm10 10l.94 2.06.94-2.06 2.06-.94-2.06-.94-.94-2.06-.94 2.06-2.06.94z\"/><path d=\"M17.41 7.96l-1.37-1.37c-.4-.4-.92-.59-1.43-.59-.52 0-1.04.2-1.43.59L10.3 9.45l-7.72 7.72c-.78.78-.78 2.05 0 2.83L4 21.41c.39.39.9.59 1.41.59.51 0 1.02-.2 1.41-.59l7.78-7.78 2.81-2.81c.8-.78.8-2.07 0-2.86zM5.41 20L4 18.59l7.72-7.72 1.47 1.35L5.41 20z\"/>\n",
              "  </svg>\n",
              "      </button>\n",
              "      \n",
              "  <style>\n",
              "    .colab-df-container {\n",
              "      display:flex;\n",
              "      flex-wrap:wrap;\n",
              "      gap: 12px;\n",
              "    }\n",
              "\n",
              "    .colab-df-convert {\n",
              "      background-color: #E8F0FE;\n",
              "      border: none;\n",
              "      border-radius: 50%;\n",
              "      cursor: pointer;\n",
              "      display: none;\n",
              "      fill: #1967D2;\n",
              "      height: 32px;\n",
              "      padding: 0 0 0 0;\n",
              "      width: 32px;\n",
              "    }\n",
              "\n",
              "    .colab-df-convert:hover {\n",
              "      background-color: #E2EBFA;\n",
              "      box-shadow: 0px 1px 2px rgba(60, 64, 67, 0.3), 0px 1px 3px 1px rgba(60, 64, 67, 0.15);\n",
              "      fill: #174EA6;\n",
              "    }\n",
              "\n",
              "    [theme=dark] .colab-df-convert {\n",
              "      background-color: #3B4455;\n",
              "      fill: #D2E3FC;\n",
              "    }\n",
              "\n",
              "    [theme=dark] .colab-df-convert:hover {\n",
              "      background-color: #434B5C;\n",
              "      box-shadow: 0px 1px 3px 1px rgba(0, 0, 0, 0.15);\n",
              "      filter: drop-shadow(0px 1px 2px rgba(0, 0, 0, 0.3));\n",
              "      fill: #FFFFFF;\n",
              "    }\n",
              "  </style>\n",
              "\n",
              "      <script>\n",
              "        const buttonEl =\n",
              "          document.querySelector('#df-d5dd3f8d-d193-4acb-81b7-0e8ae6a72162 button.colab-df-convert');\n",
              "        buttonEl.style.display =\n",
              "          google.colab.kernel.accessAllowed ? 'block' : 'none';\n",
              "\n",
              "        async function convertToInteractive(key) {\n",
              "          const element = document.querySelector('#df-d5dd3f8d-d193-4acb-81b7-0e8ae6a72162');\n",
              "          const dataTable =\n",
              "            await google.colab.kernel.invokeFunction('convertToInteractive',\n",
              "                                                     [key], {});\n",
              "          if (!dataTable) return;\n",
              "\n",
              "          const docLinkHtml = 'Like what you see? Visit the ' +\n",
              "            '<a target=\"_blank\" href=https://colab.research.google.com/notebooks/data_table.ipynb>data table notebook</a>'\n",
              "            + ' to learn more about interactive tables.';\n",
              "          element.innerHTML = '';\n",
              "          dataTable['output_type'] = 'display_data';\n",
              "          await google.colab.output.renderOutput(dataTable, element);\n",
              "          const docLink = document.createElement('div');\n",
              "          docLink.innerHTML = docLinkHtml;\n",
              "          element.appendChild(docLink);\n",
              "        }\n",
              "      </script>\n",
              "    </div>\n",
              "  </div>\n",
              "  "
            ]
          },
          "metadata": {},
          "execution_count": 5
        }
      ],
      "source": [
        "df_label = pd.DataFrame(data_label)\n",
        "df_label.columns = ['Ekspresi', 'Jumlah']\n",
        "df_label"
      ]
    },
    {
      "cell_type": "code",
      "execution_count": 6,
      "metadata": {
        "colab": {
          "base_uri": "https://localhost:8080/",
          "height": 353
        },
        "id": "z3vue9vngYxj",
        "outputId": "dfd6059e-c78d-4d3b-b894-7280ec041684"
      },
      "outputs": [
        {
          "output_type": "stream",
          "name": "stderr",
          "text": [
            "/usr/local/lib/python3.7/dist-packages/seaborn/_decorators.py:43: FutureWarning: Pass the following variables as keyword args: x, y. From version 0.12, the only valid positional argument will be `data`, and passing other arguments without an explicit keyword will result in an error or misinterpretation.\n",
            "  FutureWarning\n"
          ]
        },
        {
          "output_type": "display_data",
          "data": {
            "text/plain": [
              "<Figure size 432x288 with 1 Axes>"
            ],
            "image/png": "[encoded data removed]"
          },
          "metadata": {
            "needs_background": "light"
          }
        }
      ],
      "source": [
        "plt.figure(figsize=(6,4))\n",
        "sns.barplot(df_label.Ekspresi, df_label.Jumlah)\n",
        "plt.title('Class distribution')\n",
        "plt.ylabel('Jumlah', fontsize=12)\n",
        "plt.xlabel('Ekspresi', fontsize=12)\n",
        "plt.show()"
      ]
    },
    {
      "cell_type": "code",
      "execution_count": 7,
      "metadata": {
        "colab": {
          "base_uri": "https://localhost:8080/"
        },
        "id": "vxh1N_I925AG",
        "outputId": "b0495773-e230-4ea6-bfb7-3214ac7b478b"
      },
      "outputs": [
        {
          "output_type": "stream",
          "name": "stdout",
          "text": [
            "jumlah data training sebanyak 28821\n",
            "jumlah data validaiton sebanyak 7066\n"
          ]
        }
      ],
      "source": [
        "# Jumlah data training\n",
        "\n",
        "jumlah_training = 0\n",
        "jumlah_validation = 0 \n",
        "for nama_label in label:\n",
        "    jumlah_train = len(os.listdir(os.path.join('train', nama_label)))\n",
        "    jumlah_val = len(os.listdir(os.path.join('validation', nama_label)))\n",
        "    jumlah_training += jumlah_train\n",
        "    jumlah_validation += jumlah_val\n",
        "\n",
        "print('jumlah data training sebanyak', jumlah_training)\n",
        "print('jumlah data validaiton sebanyak', jumlah_validation)"
      ]
    },
    {
      "cell_type": "code",
      "execution_count": 8,
      "metadata": {
        "colab": {
          "base_uri": "https://localhost:8080/",
          "height": 554
        },
        "id": "FNb9GeDigeZr",
        "outputId": "e60983f8-f733-4180-9217-f0dc03226fd0"
      },
      "outputs": [
        {
          "output_type": "display_data",
          "data": {
            "text/plain": [
              "<Figure size 1152x720 with 7 Axes>"
            ],
            "image/png": "[encoded data removed]"
          },
          "metadata": {
            "needs_background": "light"
          }
        }
      ],
      "source": [
        "def gambarWajah(gambar, jenis_ekpresi, path):\n",
        "    #pixels, emotion = row['pixels'], emotion_map[row['emotion']]\n",
        "    #img = np.array(pixels.split())\n",
        "    gambar_dir = os.path.join(path, jenis_ekpresi)\n",
        "    gambar_path = os.path.join(gambar_dir, gambar)\n",
        "    img = mpimg.imread(gambar_path)\n",
        "    img = img.reshape(48,48)\n",
        "    image = np.zeros((48,48,3))\n",
        "    image[:,:,0] = img\n",
        "    image[:,:,1] = img\n",
        "    image[:,:,2] = img\n",
        "    return np.array([image.astype(np.uint8), jenis_ekpresi], dtype=object)\n",
        "\n",
        "plt.figure(0, figsize=(16,10))\n",
        "i = 1;\n",
        "for nama_ekspresi in label:\n",
        "    #print(nama_ekspresi)\n",
        "    gambar_dir = os.path.join('train', nama_ekspresi)\n",
        "    list_gambar_ekspresi = os.listdir(gambar_dir)\n",
        "    nama_gambar = list_gambar_ekspresi[0]\n",
        "    img = gambarWajah(nama_gambar, nama_ekspresi, 'train')\n",
        "    plt.subplot(2,4,i)\n",
        "    plt.imshow(img[0])\n",
        "    plt.title(img[1])\n",
        "    i+=1\n",
        "\n",
        "plt.show()  "
      ]
    },
    {
      "cell_type": "code",
      "execution_count": 9,
      "metadata": {
        "colab": {
          "base_uri": "https://localhost:8080/"
        },
        "id": "JNhGBfEIIi6q",
        "outputId": "16e09c37-c31d-4c7c-a90c-e209b1257c70"
      },
      "outputs": [
        {
          "output_type": "stream",
          "name": "stdout",
          "text": [
            "<class 'pandas.core.frame.DataFrame'>\n",
            "RangeIndex: 28821 entries, 0 to 28820\n",
            "Data columns (total 2 columns):\n",
            " #   Column  Non-Null Count  Dtype \n",
            "---  ------  --------------  ----- \n",
            " 0   image   28821 non-null  object\n",
            " 1   label   28821 non-null  object\n",
            "dtypes: object(2)\n",
            "memory usage: 450.5+ KB\n",
            "<class 'pandas.core.frame.DataFrame'>\n",
            "RangeIndex: 7066 entries, 0 to 7065\n",
            "Data columns (total 2 columns):\n",
            " #   Column  Non-Null Count  Dtype \n",
            "---  ------  --------------  ----- \n",
            " 0   image   7066 non-null   object\n",
            " 1   label   7066 non-null   object\n",
            "dtypes: object(2)\n",
            "memory usage: 110.5+ KB\n"
          ]
        }
      ],
      "source": [
        "# Membuat Dataframe\n",
        "\n",
        "data_foto_1 = []\n",
        "nama_class_1 = []\n",
        "for label in os.listdir(os.path.join('train')):\n",
        "  for img in os.listdir(os.path.join('train', label)):\n",
        "    data_foto_1.append(img)\n",
        "    nama_class_1.append(label)\n",
        "\n",
        "training_df = pd.DataFrame({'image' : data_foto_1, 'label' : nama_class_1})\n",
        "\n",
        "data_foto_2 = []\n",
        "nama_class_2 = []\n",
        "for label in os.listdir(os.path.join('validation')):\n",
        "  for img in os.listdir(os.path.join('validation', label)):\n",
        "    data_foto_2.append(img)\n",
        "    nama_class_2.append(label)\n",
        "\n",
        "validation_df = pd.DataFrame({'image' : data_foto_2, 'label' : nama_class_2})\n",
        "\n",
        "training_df.info()\n",
        "validation_df.info()"
      ]
    },
    {
      "cell_type": "code",
      "execution_count": 22,
      "metadata": {
        "id": "AYspHTghA8IR"
      },
      "outputs": [],
      "source": [
        "#initilize parameters\n",
        "jumlah_class = 7\n",
        "#width, height = 48, 48\n",
        "jumlah_epochs = 200\n",
        "ukuran_batch = 64\n",
        "jumlah_features = 64"
      ]
    },
    {
      "cell_type": "code",
      "execution_count": 11,
      "metadata": {
        "id": "L8M5Rc3BgoFB"
      },
      "outputs": [],
      "source": [
        "# Image Data Generator\n",
        "train_datagen = ImageDataGenerator(\n",
        "      # featurewise_center = True,\n",
        "      # featurewise_std_normalization = True,\n",
        "      rotation_range = 10,\n",
        "      width_shift_range = 0.1,\n",
        "      height_shift_range = 0.1,\n",
        "      zoom_range = 0.1,\n",
        "      horizontal_flip = True,\n",
        "      fill_mode = 'nearest'\n",
        ")\n",
        "validation_datagen = ImageDataGenerator(horizontal_flip = True)"
      ]
    },
    {
      "cell_type": "code",
      "execution_count": 12,
      "metadata": {
        "colab": {
          "base_uri": "https://localhost:8080/"
        },
        "id": "SgtX3bXes79N",
        "outputId": "f02b6360-3af4-49dc-d789-a861ea886bc7"
      },
      "outputs": [
        {
          "output_type": "stream",
          "name": "stdout",
          "text": [
            "Found 28821 images belonging to 7 classes.\n",
            "Found 7066 images belonging to 7 classes.\n"
          ]
        }
      ],
      "source": [
        "# Preprocess Data Biasa\n",
        "\n",
        "train_generator = train_datagen.flow_from_directory(\n",
        "    \"train/\",\n",
        "    target_size=(48,48),\n",
        "    batch_size = ukuran_batch,\n",
        "    color_mode = 'grayscale',\n",
        "    class_mode = \"categorical\"\n",
        ")\n",
        "\n",
        "validation_generator = validation_datagen.flow_from_directory(\n",
        "    \"validation/\",\n",
        "    target_size=(48,48),\n",
        "    batch_size = ukuran_batch,\n",
        "    color_mode = 'grayscale',\n",
        "    class_mode = \"categorical\"\n",
        ")"
      ]
    },
    {
      "cell_type": "markdown",
      "source": [
        "Model terbaik saat ini dengan akurasi train 0.59 dan akurasi validation 0.60 adalah\n",
        "model = tf.keras.models.Sequential([\n",
        "                                    tf.keras.layers.Conv2D(64, (3,3), activation=\"relu\", input_shape=(48,48,1)),\n",
        "                                    tf.keras.layers.BatchNormalization(),\n",
        "                                    tf.keras.layers.MaxPooling2D(2,2),\n",
        "                                    tf.keras.layers.Conv2D(32, (3,3), activation=\"relu\"),\n",
        "                                    tf.keras.layers.BatchNormalization(),\n",
        "                                    tf.keras.layers.MaxPooling2D(2,2),\n",
        "                                    tf.keras.layers.Conv2D(32, (3,3), activation=\"relu\"),\n",
        "                                    tf.keras.layers.BatchNormalization(),\n",
        "                                    tf.keras.layers.MaxPooling2D(2,2),\n",
        "                                    tf.keras.layers.Conv2D(16, (3,3), activation=\"relu\"),\n",
        "                                    tf.keras.layers.BatchNormalization(),\n",
        "                                    tf.keras.layers.MaxPooling2D(2,2),\n",
        "                                    tf.keras.layers.Flatten(),\n",
        "                                    tf.keras.layers.Dense(128, activation=\"relu\"),\n",
        "                                    tf.keras.layers.BatchNormalization(),\n",
        "                                    tf.keras.layers.Dense(7, activation=\"softmax\")\n",
        "])"
      ],
      "metadata": {
        "id": "fSuK18KBLfjV"
      }
    },
    {
      "cell_type": "code",
      "execution_count": 23,
      "metadata": {
        "colab": {
          "base_uri": "https://localhost:8080/"
        },
        "id": "x4W-Vszz0B2i",
        "outputId": "115a276f-ddfc-4725-cfcb-8d8faf4a5e12"
      },
      "outputs": [
        {
          "output_type": "stream",
          "name": "stdout",
          "text": [
            "Model: \"sequential_3\"\n",
            "_________________________________________________________________\n",
            " Layer (type)                Output Shape              Param #   \n",
            "=================================================================\n",
            " conv2d_12 (Conv2D)          (None, 46, 46, 64)        640       \n",
            "                                                                 \n",
            " batch_normalization_16 (Bat  (None, 46, 46, 64)       256       \n",
            " chNormalization)                                                \n",
            "                                                                 \n",
            " max_pooling2d_12 (MaxPoolin  (None, 23, 23, 64)       0         \n",
            " g2D)                                                            \n",
            "                                                                 \n",
            " conv2d_13 (Conv2D)          (None, 21, 21, 32)        18464     \n",
            "                                                                 \n",
            " batch_normalization_17 (Bat  (None, 21, 21, 32)       128       \n",
            " chNormalization)                                                \n",
            "                                                                 \n",
            " max_pooling2d_13 (MaxPoolin  (None, 10, 10, 32)       0         \n",
            " g2D)                                                            \n",
            "                                                                 \n",
            " conv2d_14 (Conv2D)          (None, 8, 8, 32)          9248      \n",
            "                                                                 \n",
            " batch_normalization_18 (Bat  (None, 8, 8, 32)         128       \n",
            " chNormalization)                                                \n",
            "                                                                 \n",
            " max_pooling2d_14 (MaxPoolin  (None, 4, 4, 32)         0         \n",
            " g2D)                                                            \n",
            "                                                                 \n",
            " conv2d_15 (Conv2D)          (None, 2, 2, 16)          4624      \n",
            "                                                                 \n",
            " batch_normalization_19 (Bat  (None, 2, 2, 16)         64        \n",
            " chNormalization)                                                \n",
            "                                                                 \n",
            " max_pooling2d_15 (MaxPoolin  (None, 1, 1, 16)         0         \n",
            " g2D)                                                            \n",
            "                                                                 \n",
            " flatten_3 (Flatten)         (None, 16)                0         \n",
            "                                                                 \n",
            " dense_7 (Dense)             (None, 128)               2176      \n",
            "                                                                 \n",
            " batch_normalization_20 (Bat  (None, 128)              512       \n",
            " chNormalization)                                                \n",
            "                                                                 \n",
            " dense_8 (Dense)             (None, 7)                 903       \n",
            "                                                                 \n",
            "=================================================================\n",
            "Total params: 37,143\n",
            "Trainable params: 36,599\n",
            "Non-trainable params: 544\n",
            "_________________________________________________________________\n"
          ]
        }
      ],
      "source": [
        "model = tf.keras.models.Sequential([\n",
        "                                    tf.keras.layers.Conv2D(64, (3,3), activation=\"relu\", input_shape=(48,48,1)),\n",
        "                                    tf.keras.layers.BatchNormalization(),\n",
        "                                    tf.keras.layers.MaxPooling2D(2,2),\n",
        "                                    # tf.keras.layers.Dropout(0.2),\n",
        "                                    tf.keras.layers.Conv2D(32, (3,3), activation=\"relu\"),\n",
        "                                    tf.keras.layers.BatchNormalization(),\n",
        "                                    tf.keras.layers.MaxPooling2D(2,2),\n",
        "                                    # tf.keras.layers.Dropout(0.2),\n",
        "                                    tf.keras.layers.Conv2D(32, (3,3), activation=\"relu\"),\n",
        "                                    tf.keras.layers.BatchNormalization(),\n",
        "                                    tf.keras.layers.MaxPooling2D(2,2),\n",
        "                                    # tf.keras.layers.Dropout(0.2),\n",
        "                                    tf.keras.layers.Conv2D(16, (3,3), activation=\"relu\"),\n",
        "                                    tf.keras.layers.BatchNormalization(),\n",
        "                                    tf.keras.layers.MaxPooling2D(2,2),\n",
        "                                    # tf.keras.layers.Dropout(0.2),\n",
        "                                    tf.keras.layers.Flatten(),\n",
        "                                    tf.keras.layers.Dense(128, activation=\"relu\"),\n",
        "                                    tf.keras.layers.BatchNormalization(),\n",
        "                                    # tf.keras.layers.Dropout(0.2),\n",
        "                                    # tf.keras.layers.Dense(64, activation=\"relu\"),\n",
        "                                    # tf.keras.layers.BatchNormalization(),\n",
        "                                    # tf.keras.layers.Dropout(0.2),\n",
        "                                    # tf.keras.layers.Dense(16, activation=\"relu\"),\n",
        "                                    # tf.keras.layers.BatchNormalization(),\n",
        "                                    # tf.keras.layers.Dropout(0.2),\n",
        "                                    tf.keras.layers.Dense(7, activation=\"softmax\")\n",
        "])\n",
        "\n",
        "model.summary()"
      ]
    },
    {
      "cell_type": "code",
      "execution_count": 24,
      "metadata": {
        "colab": {
          "base_uri": "https://localhost:8080/"
        },
        "id": "NWl9RxGT0La9",
        "outputId": "c4344c15-109a-4b46-9e6a-6c5fcaeade4d"
      },
      "outputs": [
        {
          "output_type": "stream",
          "name": "stderr",
          "text": [
            "/usr/local/lib/python3.7/dist-packages/keras/optimizer_v2/adam.py:105: UserWarning: The `lr` argument is deprecated, use `learning_rate` instead.\n",
            "  super(Adam, self).__init__(name, **kwargs)\n"
          ]
        }
      ],
      "source": [
        "# Compile model\n",
        "\n",
        "model.compile(optimizer=Adam(lr=0.0001), loss=\"categorical_crossentropy\", metrics = [\"accuracy\"])"
      ]
    },
    {
      "cell_type": "code",
      "execution_count": 25,
      "metadata": {
        "colab": {
          "base_uri": "https://localhost:8080/"
        },
        "id": "80GtPHS70OQe",
        "outputId": "5293dd89-c418-40cc-8eee-cbfe54df4f79"
      },
      "outputs": [
        {
          "output_type": "stream",
          "name": "stdout",
          "text": [
            "Epoch 1/200\n",
            "450/450 [==============================] - 20s 43ms/step - loss: 2.1440 - accuracy: 0.1960 - val_loss: 1.9888 - val_accuracy: 0.2297\n",
            "Epoch 2/200\n",
            "450/450 [==============================] - 19s 43ms/step - loss: 1.8977 - accuracy: 0.2480 - val_loss: 1.9184 - val_accuracy: 0.2784\n",
            "Epoch 3/200\n",
            "450/450 [==============================] - 19s 43ms/step - loss: 1.8027 - accuracy: 0.2827 - val_loss: 1.8347 - val_accuracy: 0.2935\n",
            "Epoch 4/200\n",
            "450/450 [==============================] - 19s 43ms/step - loss: 1.7366 - accuracy: 0.3078 - val_loss: 1.7283 - val_accuracy: 0.3296\n",
            "Epoch 5/200\n",
            "450/450 [==============================] - 20s 45ms/step - loss: 1.6881 - accuracy: 0.3297 - val_loss: 1.6772 - val_accuracy: 0.3521\n",
            "Epoch 6/200\n",
            "450/450 [==============================] - 19s 43ms/step - loss: 1.6453 - accuracy: 0.3490 - val_loss: 1.6382 - val_accuracy: 0.3721\n",
            "Epoch 7/200\n",
            "450/450 [==============================] - 20s 44ms/step - loss: 1.6028 - accuracy: 0.3703 - val_loss: 1.6533 - val_accuracy: 0.3733\n",
            "Epoch 8/200\n",
            "450/450 [==============================] - 20s 43ms/step - loss: 1.5748 - accuracy: 0.3842 - val_loss: 1.5932 - val_accuracy: 0.3900\n",
            "Epoch 9/200\n",
            "450/450 [==============================] - 19s 43ms/step - loss: 1.5406 - accuracy: 0.3970 - val_loss: 1.6240 - val_accuracy: 0.3866\n",
            "Epoch 10/200\n",
            "450/450 [==============================] - 20s 45ms/step - loss: 1.5213 - accuracy: 0.4076 - val_loss: 1.4894 - val_accuracy: 0.4280\n",
            "Epoch 11/200\n",
            "450/450 [==============================] - 20s 44ms/step - loss: 1.5008 - accuracy: 0.4163 - val_loss: 1.5494 - val_accuracy: 0.4172\n",
            "Epoch 12/200\n",
            "450/450 [==============================] - 20s 44ms/step - loss: 1.4830 - accuracy: 0.4240 - val_loss: 1.5162 - val_accuracy: 0.4213\n",
            "Epoch 13/200\n",
            "450/450 [==============================] - 20s 44ms/step - loss: 1.4671 - accuracy: 0.4331 - val_loss: 1.4456 - val_accuracy: 0.4472\n",
            "Epoch 14/200\n",
            "450/450 [==============================] - 19s 43ms/step - loss: 1.4460 - accuracy: 0.4414 - val_loss: 1.4895 - val_accuracy: 0.4321\n",
            "Epoch 15/200\n",
            "450/450 [==============================] - 20s 45ms/step - loss: 1.4226 - accuracy: 0.4504 - val_loss: 1.4071 - val_accuracy: 0.4629\n",
            "Epoch 16/200\n",
            "450/450 [==============================] - 19s 43ms/step - loss: 1.4153 - accuracy: 0.4538 - val_loss: 1.3975 - val_accuracy: 0.4622\n",
            "Epoch 17/200\n",
            "450/450 [==============================] - 19s 43ms/step - loss: 1.4022 - accuracy: 0.4585 - val_loss: 1.3764 - val_accuracy: 0.4697\n",
            "Epoch 18/200\n",
            "450/450 [==============================] - 19s 43ms/step - loss: 1.3879 - accuracy: 0.4650 - val_loss: 1.3834 - val_accuracy: 0.4744\n",
            "Epoch 19/200\n",
            "450/450 [==============================] - 20s 43ms/step - loss: 1.3804 - accuracy: 0.4672 - val_loss: 1.4290 - val_accuracy: 0.4523\n",
            "Epoch 20/200\n",
            "450/450 [==============================] - 20s 45ms/step - loss: 1.3672 - accuracy: 0.4723 - val_loss: 1.3441 - val_accuracy: 0.4907\n",
            "Epoch 21/200\n",
            "450/450 [==============================] - 19s 43ms/step - loss: 1.3575 - accuracy: 0.4767 - val_loss: 1.3404 - val_accuracy: 0.4834\n",
            "Epoch 22/200\n",
            "450/450 [==============================] - 19s 43ms/step - loss: 1.3467 - accuracy: 0.4845 - val_loss: 1.3463 - val_accuracy: 0.4822\n",
            "Epoch 23/200\n",
            "450/450 [==============================] - 20s 43ms/step - loss: 1.3337 - accuracy: 0.4883 - val_loss: 1.3009 - val_accuracy: 0.5016\n",
            "Epoch 24/200\n",
            "450/450 [==============================] - 20s 44ms/step - loss: 1.3276 - accuracy: 0.4893 - val_loss: 1.3874 - val_accuracy: 0.4718\n",
            "Epoch 25/200\n",
            "450/450 [==============================] - 20s 43ms/step - loss: 1.3233 - accuracy: 0.4956 - val_loss: 1.2834 - val_accuracy: 0.5167\n",
            "Epoch 26/200\n",
            "450/450 [==============================] - 19s 43ms/step - loss: 1.3159 - accuracy: 0.4908 - val_loss: 1.2832 - val_accuracy: 0.5116\n",
            "Epoch 27/200\n",
            "450/450 [==============================] - 19s 43ms/step - loss: 1.3104 - accuracy: 0.4973 - val_loss: 1.3009 - val_accuracy: 0.4977\n",
            "Epoch 28/200\n",
            "450/450 [==============================] - 19s 43ms/step - loss: 1.2911 - accuracy: 0.5067 - val_loss: 1.2694 - val_accuracy: 0.5156\n",
            "Epoch 29/200\n",
            "450/450 [==============================] - 20s 44ms/step - loss: 1.2961 - accuracy: 0.5066 - val_loss: 1.2714 - val_accuracy: 0.5191\n",
            "Epoch 30/200\n",
            "450/450 [==============================] - 19s 43ms/step - loss: 1.2908 - accuracy: 0.5054 - val_loss: 1.2694 - val_accuracy: 0.5167\n",
            "Epoch 31/200\n",
            "450/450 [==============================] - 19s 43ms/step - loss: 1.2822 - accuracy: 0.5056 - val_loss: 1.2646 - val_accuracy: 0.5192\n",
            "Epoch 32/200\n",
            "450/450 [==============================] - 19s 43ms/step - loss: 1.2782 - accuracy: 0.5116 - val_loss: 1.2521 - val_accuracy: 0.5323\n",
            "Epoch 33/200\n",
            "450/450 [==============================] - 19s 43ms/step - loss: 1.2689 - accuracy: 0.5124 - val_loss: 1.2911 - val_accuracy: 0.5099\n",
            "Epoch 34/200\n",
            "450/450 [==============================] - 20s 45ms/step - loss: 1.2648 - accuracy: 0.5182 - val_loss: 1.2601 - val_accuracy: 0.5236\n",
            "Epoch 35/200\n",
            "450/450 [==============================] - 20s 43ms/step - loss: 1.2563 - accuracy: 0.5194 - val_loss: 1.2584 - val_accuracy: 0.5190\n",
            "Epoch 36/200\n",
            "450/450 [==============================] - 19s 43ms/step - loss: 1.2568 - accuracy: 0.5206 - val_loss: 1.2515 - val_accuracy: 0.5270\n",
            "Epoch 37/200\n",
            "450/450 [==============================] - 19s 43ms/step - loss: 1.2479 - accuracy: 0.5239 - val_loss: 1.2449 - val_accuracy: 0.5246\n",
            "Epoch 38/200\n",
            "450/450 [==============================] - 19s 43ms/step - loss: 1.2395 - accuracy: 0.5240 - val_loss: 1.2550 - val_accuracy: 0.5272\n",
            "Epoch 39/200\n",
            "450/450 [==============================] - 20s 45ms/step - loss: 1.2356 - accuracy: 0.5276 - val_loss: 1.2312 - val_accuracy: 0.5276\n",
            "Epoch 40/200\n",
            "450/450 [==============================] - 20s 44ms/step - loss: 1.2320 - accuracy: 0.5324 - val_loss: 1.3349 - val_accuracy: 0.4839\n",
            "Epoch 41/200\n",
            "450/450 [==============================] - 19s 43ms/step - loss: 1.2254 - accuracy: 0.5316 - val_loss: 1.2489 - val_accuracy: 0.5168\n",
            "Epoch 42/200\n",
            "450/450 [==============================] - 20s 43ms/step - loss: 1.2325 - accuracy: 0.5312 - val_loss: 1.2413 - val_accuracy: 0.5249\n",
            "Epoch 43/200\n",
            "450/450 [==============================] - 19s 43ms/step - loss: 1.2227 - accuracy: 0.5374 - val_loss: 1.2343 - val_accuracy: 0.5309\n",
            "Epoch 44/200\n",
            "450/450 [==============================] - 20s 45ms/step - loss: 1.2239 - accuracy: 0.5355 - val_loss: 1.2292 - val_accuracy: 0.5296\n",
            "Epoch 45/200\n",
            "450/450 [==============================] - 19s 43ms/step - loss: 1.2194 - accuracy: 0.5345 - val_loss: 1.1958 - val_accuracy: 0.5422\n",
            "Epoch 46/200\n",
            "450/450 [==============================] - 19s 43ms/step - loss: 1.2177 - accuracy: 0.5347 - val_loss: 1.2028 - val_accuracy: 0.5412\n",
            "Epoch 47/200\n",
            "450/450 [==============================] - 19s 43ms/step - loss: 1.2041 - accuracy: 0.5401 - val_loss: 1.1910 - val_accuracy: 0.5417\n",
            "Epoch 48/200\n",
            "450/450 [==============================] - 20s 43ms/step - loss: 1.2051 - accuracy: 0.5414 - val_loss: 1.1957 - val_accuracy: 0.5457\n",
            "Epoch 49/200\n",
            "450/450 [==============================] - 20s 45ms/step - loss: 1.2051 - accuracy: 0.5384 - val_loss: 1.2422 - val_accuracy: 0.5267\n",
            "Epoch 50/200\n",
            "450/450 [==============================] - 20s 43ms/step - loss: 1.2005 - accuracy: 0.5421 - val_loss: 1.2636 - val_accuracy: 0.5191\n",
            "Epoch 51/200\n",
            "450/450 [==============================] - 19s 43ms/step - loss: 1.1996 - accuracy: 0.5426 - val_loss: 1.2059 - val_accuracy: 0.5425\n",
            "Epoch 52/200\n",
            "450/450 [==============================] - 19s 43ms/step - loss: 1.1924 - accuracy: 0.5470 - val_loss: 1.1929 - val_accuracy: 0.5444\n",
            "Epoch 53/200\n",
            "450/450 [==============================] - 19s 43ms/step - loss: 1.1934 - accuracy: 0.5482 - val_loss: 1.2206 - val_accuracy: 0.5324\n",
            "Epoch 54/200\n",
            "450/450 [==============================] - 20s 45ms/step - loss: 1.1918 - accuracy: 0.5485 - val_loss: 1.1666 - val_accuracy: 0.5545\n",
            "Epoch 55/200\n",
            "450/450 [==============================] - 19s 43ms/step - loss: 1.1857 - accuracy: 0.5496 - val_loss: 1.2019 - val_accuracy: 0.5440\n",
            "Epoch 56/200\n",
            "450/450 [==============================] - 19s 43ms/step - loss: 1.1838 - accuracy: 0.5472 - val_loss: 1.1854 - val_accuracy: 0.5534\n",
            "Epoch 57/200\n",
            "450/450 [==============================] - 19s 43ms/step - loss: 1.1747 - accuracy: 0.5537 - val_loss: 1.2181 - val_accuracy: 0.5355\n",
            "Epoch 58/200\n",
            "450/450 [==============================] - 19s 43ms/step - loss: 1.1767 - accuracy: 0.5530 - val_loss: 1.1601 - val_accuracy: 0.5556\n",
            "Epoch 59/200\n",
            "450/450 [==============================] - 20s 45ms/step - loss: 1.1807 - accuracy: 0.5525 - val_loss: 1.1470 - val_accuracy: 0.5681\n",
            "Epoch 60/200\n",
            "450/450 [==============================] - 20s 43ms/step - loss: 1.1702 - accuracy: 0.5527 - val_loss: 1.1875 - val_accuracy: 0.5507\n",
            "Epoch 61/200\n",
            "450/450 [==============================] - 19s 43ms/step - loss: 1.1739 - accuracy: 0.5549 - val_loss: 1.1866 - val_accuracy: 0.5481\n",
            "Epoch 62/200\n",
            "450/450 [==============================] - 19s 43ms/step - loss: 1.1694 - accuracy: 0.5560 - val_loss: 1.1540 - val_accuracy: 0.5597\n",
            "Epoch 63/200\n",
            "450/450 [==============================] - 19s 43ms/step - loss: 1.1665 - accuracy: 0.5553 - val_loss: 1.1756 - val_accuracy: 0.5572\n",
            "Epoch 64/200\n",
            "450/450 [==============================] - 20s 45ms/step - loss: 1.1640 - accuracy: 0.5562 - val_loss: 1.1942 - val_accuracy: 0.5459\n",
            "Epoch 65/200\n",
            "450/450 [==============================] - 19s 43ms/step - loss: 1.1600 - accuracy: 0.5586 - val_loss: 1.1650 - val_accuracy: 0.5589\n",
            "Epoch 66/200\n",
            "450/450 [==============================] - 19s 43ms/step - loss: 1.1602 - accuracy: 0.5567 - val_loss: 1.1883 - val_accuracy: 0.5480\n",
            "Epoch 67/200\n",
            "450/450 [==============================] - 19s 43ms/step - loss: 1.1581 - accuracy: 0.5615 - val_loss: 1.1619 - val_accuracy: 0.5569\n",
            "Epoch 68/200\n",
            "450/450 [==============================] - 20s 43ms/step - loss: 1.1529 - accuracy: 0.5628 - val_loss: 1.1424 - val_accuracy: 0.5661\n",
            "Epoch 69/200\n",
            "450/450 [==============================] - 20s 45ms/step - loss: 1.1479 - accuracy: 0.5627 - val_loss: 1.1557 - val_accuracy: 0.5633\n",
            "Epoch 70/200\n",
            "450/450 [==============================] - 19s 43ms/step - loss: 1.1521 - accuracy: 0.5635 - val_loss: 1.1473 - val_accuracy: 0.5686\n",
            "Epoch 71/200\n",
            "450/450 [==============================] - 19s 43ms/step - loss: 1.1497 - accuracy: 0.5646 - val_loss: 1.1589 - val_accuracy: 0.5596\n",
            "Epoch 72/200\n",
            "450/450 [==============================] - 20s 43ms/step - loss: 1.1492 - accuracy: 0.5620 - val_loss: 1.1593 - val_accuracy: 0.5641\n"
          ]
        }
      ],
      "source": [
        "# Fit model\n",
        "\n",
        "history = model.fit(\n",
        "    train_generator, \n",
        "    validation_data = validation_generator,\n",
        "    epochs=jumlah_epochs, \n",
        "    steps_per_epoch = jumlah_training/ukuran_batch,\n",
        "    validation_steps = jumlah_validation/ukuran_batch,\n",
        "    verbose = 1,\n",
        "    callbacks = tf.keras.callbacks.EarlyStopping(monitor='loss', patience=3)\n",
        ")"
      ]
    },
    {
      "cell_type": "code",
      "execution_count": null,
      "metadata": {
        "id": "6VZEbkXC1UQg"
      },
      "outputs": [],
      "source": [
        ""
      ]
    }
  ],
  "metadata": {
    "colab": {
      "collapsed_sections": [],
      "name": "Project Akhir MLT.ipynb",
      "provenance": []
    },
    "kernelspec": {
      "display_name": "Python 3",
      "name": "python3"
    },
    "language_info": {
      "name": "python"
    },
    "accelerator": "GPU",
    "gpuClass": "standard"
  },
  "nbformat": 4,
  "nbformat_minor": 0
}