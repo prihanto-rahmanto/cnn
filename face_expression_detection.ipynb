{
  "cells": [
    {
      "cell_type": "code",
      "execution_count": 1,
      "metadata": {
        "colab": {
          "base_uri": "https://localhost:8080/"
        },
        "id": "N3O33hnwzprk",
        "outputId": "77681072-3309-4d93-e641-6cd984aa963e"
      },
      "outputs": [
        {
          "output_type": "stream",
          "name": "stdout",
          "text": [
            "Looking in indexes: https://pypi.org/simple, https://us-python.pkg.dev/colab-wheels/public/simple/\n",
            "Collecting wget\n",
            "  Downloading wget-3.2.zip (10 kB)\n",
            "Building wheels for collected packages: wget\n",
            "  Building wheel for wget (setup.py) ... \u001b[?25l\u001b[?25hdone\n",
            "  Created wheel for wget: filename=wget-3.2-py3-none-any.whl size=9675 sha256=7a7771f8819d2048af0765bff0cf43d3d61dd2d7435d56c0163e7e533c69a0c6\n",
            "  Stored in directory: /root/.cache/pip/wheels/a1/b6/7c/0e63e34eb06634181c63adacca38b79ff8f35c37e3c13e3c02\n",
            "Successfully built wget\n",
            "Installing collected packages: wget\n",
            "Successfully installed wget-3.2\n",
            "Looking in indexes: https://pypi.org/simple, https://us-python.pkg.dev/colab-wheels/public/simple/\n",
            "\u001b[31mERROR: Could not find a version that satisfies the requirement shutil (from versions: none)\u001b[0m\n",
            "\u001b[31mERROR: No matching distribution found for shutil\u001b[0m\n",
            "Looking in indexes: https://pypi.org/simple, https://us-python.pkg.dev/colab-wheels/public/simple/\n",
            "Collecting cutmix-keras\n",
            "  Downloading cutmix_keras-1.0.0-py3-none-any.whl (3.6 kB)\n",
            "Installing collected packages: cutmix-keras\n",
            "Successfully installed cutmix-keras-1.0.0\n"
          ]
        }
      ],
      "source": [
        "import pandas as pd\n",
        "import numpy as np\n",
        "import matplotlib.pyplot as plt\n",
        "import tensorflow as tf\n",
        "import matplotlib.image as mpimg\n",
        "import seaborn as sns\n",
        "import sys\n",
        "!{sys.executable} -m pip install wget\n",
        "!{sys.executable} -m pip install shutil\n",
        "!{sys.executable} -m pip install cutmix-keras\n",
        "\n",
        "import cv2\n",
        "from tqdm import tqdm\n",
        "\n",
        "import os\n",
        "from shutil import unpack_archive\n",
        "pd.set_option(\"display.max_columns\", 101)\n",
        "\n",
        "from cutmix_keras import CutMixImageDataGenerator\n",
        "from tensorflow.keras.preprocessing.image import ImageDataGenerator\n",
        "from tensorflow.keras.models import Sequential\n",
        "from tensorflow.keras.layers import Dense\n",
        "from tensorflow.keras.layers import Dropout, Flatten,Activation\n",
        "from tensorflow.keras.layers import Conv2D, MaxPooling2D, BatchNormalization\n",
        "from tensorflow.keras.optimizers import Adam,SGD,Adagrad,Adadelta,RMSprop"
      ]
    },
    {
      "cell_type": "code",
      "execution_count": 2,
      "metadata": {
        "colab": {
          "base_uri": "https://localhost:8080/"
        },
        "id": "PhTuHbNBLmVV",
        "outputId": "cfb3321c-5a70-488b-ae7f-ad56b1ae6014"
      },
      "outputs": [
        {
          "output_type": "stream",
          "name": "stdout",
          "text": [
            "--2022-07-24 03:09:07--  https://docs.google.com/uc?export=download&confirm=t&id=1b4DZIS7VfBI_V8-DbpsaCP0ij8u1K3hJ\n",
            "Resolving docs.google.com (docs.google.com)... 74.125.142.102, 74.125.142.113, 74.125.142.139, ...\n",
            "Connecting to docs.google.com (docs.google.com)|74.125.142.102|:443... connected.\n",
            "HTTP request sent, awaiting response... 303 See Other\n",
            "Location: https://doc-00-90-docs.googleusercontent.com/docs/securesc/ha0ro937gcuc7l7deffksulhg5h7mbp1/i0un9269vuk7cabit7920tbf1ku7d9al/1658632125000/11309364930090306574/*/1b4DZIS7VfBI_V8-DbpsaCP0ij8u1K3hJ?e=download&uuid=d106cf81-e96b-4534-9716-be11f4b5fb42 [following]\n",
            "Warning: wildcards not supported in HTTP.\n",
            "--2022-07-24 03:09:07--  https://doc-00-90-docs.googleusercontent.com/docs/securesc/ha0ro937gcuc7l7deffksulhg5h7mbp1/i0un9269vuk7cabit7920tbf1ku7d9al/1658632125000/11309364930090306574/*/1b4DZIS7VfBI_V8-DbpsaCP0ij8u1K3hJ?e=download&uuid=d106cf81-e96b-4534-9716-be11f4b5fb42\n",
            "Resolving doc-00-90-docs.googleusercontent.com (doc-00-90-docs.googleusercontent.com)... 74.125.142.132, 2607:f8b0:400e:c08::84\n",
            "Connecting to doc-00-90-docs.googleusercontent.com (doc-00-90-docs.googleusercontent.com)|74.125.142.132|:443... connected.\n",
            "HTTP request sent, awaiting response... 200 OK\n",
            "Length: 62282324 (59M) [application/x-zip-compressed]\n",
            "Saving to: ‘dataset.zip’\n",
            "\n",
            "dataset.zip         100%[===================>]  59.40M   116MB/s    in 0.5s    \n",
            "\n",
            "2022-07-24 03:09:08 (116 MB/s) - ‘dataset.zip’ saved [62282324/62282324]\n",
            "\n"
          ]
        }
      ],
      "source": [
        "# Download dan extract dataset\n",
        "\n",
        "!wget --load-cookies /tmp/cookies.txt \"https://docs.google.com/uc?export=download&confirm=$(wget --quiet --save-cookies /tmp/cookies.txt --keep-session-cookies --no-check-certificate 'https://docs.google.com/uc?export=download&id=1b4DZIS7VfBI_V8-DbpsaCP0ij8u1K3hJ' -O- | sed -rn 's/.*confirm=([0-9A-Za-z_]+).*/\\1\\n/p')&id=1b4DZIS7VfBI_V8-DbpsaCP0ij8u1K3hJ\" -O dataset.zip && rm -rf /tmp/cookies.txt\n",
        "\n",
        "unpack_archive('dataset.zip', '')\n",
        "\n",
        "os.remove('dataset.zip')"
      ]
    },
    {
      "cell_type": "code",
      "execution_count": 3,
      "metadata": {
        "colab": {
          "base_uri": "https://localhost:8080/"
        },
        "id": "lqJMTvKizwQw",
        "outputId": "beadf06c-93b2-4969-db76-c1d27783ed0c"
      },
      "outputs": [
        {
          "output_type": "stream",
          "name": "stdout",
          "text": [
            "['angry', 'fear', 'neutral', 'happy', 'surprise', 'sad', 'disgust']\n"
          ]
        }
      ],
      "source": [
        "# get label\n",
        "label = os.listdir('train')\n",
        "print(label)"
      ]
    },
    {
      "cell_type": "code",
      "execution_count": 4,
      "metadata": {
        "colab": {
          "base_uri": "https://localhost:8080/"
        },
        "id": "T526KBxe9GOP",
        "outputId": "caca75c0-7152-47de-8d08-9a50faf91dea"
      },
      "outputs": [
        {
          "output_type": "stream",
          "name": "stdout",
          "text": [
            "[['angry', 3993], ['fear', 4103], ['neutral', 4982], ['happy', 7164], ['surprise', 3205], ['sad', 4938], ['disgust', 436]]\n"
          ]
        }
      ],
      "source": [
        "data_label = []\n",
        "for nama_label in label:\n",
        "    jumlah = len(os.listdir(os.path.join('train', nama_label)))\n",
        "    #print(jumlah)\n",
        "    detail_label = [nama_label, jumlah]\n",
        "    data_label.append(detail_label)\n",
        "\n",
        "print(data_label)"
      ]
    },
    {
      "cell_type": "code",
      "execution_count": 5,
      "metadata": {
        "colab": {
          "base_uri": "https://localhost:8080/",
          "height": 269
        },
        "id": "37xW2HQR9Mz2",
        "outputId": "4e5bf704-9ce7-4936-94d6-70d37a14897d"
      },
      "outputs": [
        {
          "output_type": "execute_result",
          "data": {
            "text/plain": [
              "   Ekspresi  Jumlah\n",
              "0     angry    3993\n",
              "1      fear    4103\n",
              "2   neutral    4982\n",
              "3     happy    7164\n",
              "4  surprise    3205\n",
              "5       sad    4938\n",
              "6   disgust     436"
            ],
            "text/html": [
              "\n",
              "  <div id=\"df-cde9b7c6-c01f-4d14-9e52-512c4fd76b0f\">\n",
              "    <div class=\"colab-df-container\">\n",
              "      <div>\n",
              "<style scoped>\n",
              "    .dataframe tbody tr th:only-of-type {\n",
              "        vertical-align: middle;\n",
              "    }\n",
              "\n",
              "    .dataframe tbody tr th {\n",
              "        vertical-align: top;\n",
              "    }\n",
              "\n",
              "    .dataframe thead th {\n",
              "        text-align: right;\n",
              "    }\n",
              "</style>\n",
              "<table border=\"1\" class=\"dataframe\">\n",
              "  <thead>\n",
              "    <tr style=\"text-align: right;\">\n",
              "      <th></th>\n",
              "      <th>Ekspresi</th>\n",
              "      <th>Jumlah</th>\n",
              "    </tr>\n",
              "  </thead>\n",
              "  <tbody>\n",
              "    <tr>\n",
              "      <th>0</th>\n",
              "      <td>angry</td>\n",
              "      <td>3993</td>\n",
              "    </tr>\n",
              "    <tr>\n",
              "      <th>1</th>\n",
              "      <td>fear</td>\n",
              "      <td>4103</td>\n",
              "    </tr>\n",
              "    <tr>\n",
              "      <th>2</th>\n",
              "      <td>neutral</td>\n",
              "      <td>4982</td>\n",
              "    </tr>\n",
              "    <tr>\n",
              "      <th>3</th>\n",
              "      <td>happy</td>\n",
              "      <td>7164</td>\n",
              "    </tr>\n",
              "    <tr>\n",
              "      <th>4</th>\n",
              "      <td>surprise</td>\n",
              "      <td>3205</td>\n",
              "    </tr>\n",
              "    <tr>\n",
              "      <th>5</th>\n",
              "      <td>sad</td>\n",
              "      <td>4938</td>\n",
              "    </tr>\n",
              "    <tr>\n",
              "      <th>6</th>\n",
              "      <td>disgust</td>\n",
              "      <td>436</td>\n",
              "    </tr>\n",
              "  </tbody>\n",
              "</table>\n",
              "</div>\n",
              "      <button class=\"colab-df-convert\" onclick=\"convertToInteractive('df-cde9b7c6-c01f-4d14-9e52-512c4fd76b0f')\"\n",
              "              title=\"Convert this dataframe to an interactive table.\"\n",
              "              style=\"display:none;\">\n",
              "        \n",
              "  <svg xmlns=\"http://www.w3.org/2000/svg\" height=\"24px\"viewBox=\"0 0 24 24\"\n",
              "       width=\"24px\">\n",
              "    <path d=\"M0 0h24v24H0V0z\" fill=\"none\"/>\n",
              "    <path d=\"M18.56 5.44l.94 2.06.94-2.06 2.06-.94-2.06-.94-.94-2.06-.94 2.06-2.06.94zm-11 1L8.5 8.5l.94-2.06 2.06-.94-2.06-.94L8.5 2.5l-.94 2.06-2.06.94zm10 10l.94 2.06.94-2.06 2.06-.94-2.06-.94-.94-2.06-.94 2.06-2.06.94z\"/><path d=\"M17.41 7.96l-1.37-1.37c-.4-.4-.92-.59-1.43-.59-.52 0-1.04.2-1.43.59L10.3 9.45l-7.72 7.72c-.78.78-.78 2.05 0 2.83L4 21.41c.39.39.9.59 1.41.59.51 0 1.02-.2 1.41-.59l7.78-7.78 2.81-2.81c.8-.78.8-2.07 0-2.86zM5.41 20L4 18.59l7.72-7.72 1.47 1.35L5.41 20z\"/>\n",
              "  </svg>\n",
              "      </button>\n",
              "      \n",
              "  <style>\n",
              "    .colab-df-container {\n",
              "      display:flex;\n",
              "      flex-wrap:wrap;\n",
              "      gap: 12px;\n",
              "    }\n",
              "\n",
              "    .colab-df-convert {\n",
              "      background-color: #E8F0FE;\n",
              "      border: none;\n",
              "      border-radius: 50%;\n",
              "      cursor: pointer;\n",
              "      display: none;\n",
              "      fill: #1967D2;\n",
              "      height: 32px;\n",
              "      padding: 0 0 0 0;\n",
              "      width: 32px;\n",
              "    }\n",
              "\n",
              "    .colab-df-convert:hover {\n",
              "      background-color: #E2EBFA;\n",
              "      box-shadow: 0px 1px 2px rgba(60, 64, 67, 0.3), 0px 1px 3px 1px rgba(60, 64, 67, 0.15);\n",
              "      fill: #174EA6;\n",
              "    }\n",
              "\n",
              "    [theme=dark] .colab-df-convert {\n",
              "      background-color: #3B4455;\n",
              "      fill: #D2E3FC;\n",
              "    }\n",
              "\n",
              "    [theme=dark] .colab-df-convert:hover {\n",
              "      background-color: #434B5C;\n",
              "      box-shadow: 0px 1px 3px 1px rgba(0, 0, 0, 0.15);\n",
              "      filter: drop-shadow(0px 1px 2px rgba(0, 0, 0, 0.3));\n",
              "      fill: #FFFFFF;\n",
              "    }\n",
              "  </style>\n",
              "\n",
              "      <script>\n",
              "        const buttonEl =\n",
              "          document.querySelector('#df-cde9b7c6-c01f-4d14-9e52-512c4fd76b0f button.colab-df-convert');\n",
              "        buttonEl.style.display =\n",
              "          google.colab.kernel.accessAllowed ? 'block' : 'none';\n",
              "\n",
              "        async function convertToInteractive(key) {\n",
              "          const element = document.querySelector('#df-cde9b7c6-c01f-4d14-9e52-512c4fd76b0f');\n",
              "          const dataTable =\n",
              "            await google.colab.kernel.invokeFunction('convertToInteractive',\n",
              "                                                     [key], {});\n",
              "          if (!dataTable) return;\n",
              "\n",
              "          const docLinkHtml = 'Like what you see? Visit the ' +\n",
              "            '<a target=\"_blank\" href=https://colab.research.google.com/notebooks/data_table.ipynb>data table notebook</a>'\n",
              "            + ' to learn more about interactive tables.';\n",
              "          element.innerHTML = '';\n",
              "          dataTable['output_type'] = 'display_data';\n",
              "          await google.colab.output.renderOutput(dataTable, element);\n",
              "          const docLink = document.createElement('div');\n",
              "          docLink.innerHTML = docLinkHtml;\n",
              "          element.appendChild(docLink);\n",
              "        }\n",
              "      </script>\n",
              "    </div>\n",
              "  </div>\n",
              "  "
            ]
          },
          "metadata": {},
          "execution_count": 5
        }
      ],
      "source": [
        "df_label = pd.DataFrame(data_label)\n",
        "df_label.columns = ['Ekspresi', 'Jumlah']\n",
        "df_label"
      ]
    },
    {
      "cell_type": "code",
      "execution_count": 6,
      "metadata": {
        "colab": {
          "base_uri": "https://localhost:8080/",
          "height": 353
        },
        "id": "z3vue9vngYxj",
        "outputId": "af43805d-eb16-4678-d1c8-84c4db5229e3"
      },
      "outputs": [
        {
          "output_type": "stream",
          "name": "stderr",
          "text": [
            "/usr/local/lib/python3.7/dist-packages/seaborn/_decorators.py:43: FutureWarning: Pass the following variables as keyword args: x, y. From version 0.12, the only valid positional argument will be `data`, and passing other arguments without an explicit keyword will result in an error or misinterpretation.\n",
            "  FutureWarning\n"
          ]
        },
        {
          "output_type": "display_data",
          "data": {
            "text/plain": [
              "<Figure size 432x288 with 1 Axes>"
            ],
            "image/png": "[encoded data removed]"
          },
          "metadata": {
            "needs_background": "light"
          }
        }
      ],
      "source": [
        "plt.figure(figsize=(6,4))\n",
        "sns.barplot(df_label.Ekspresi, df_label.Jumlah)\n",
        "plt.title('Class distribution')\n",
        "plt.ylabel('Jumlah', fontsize=12)\n",
        "plt.xlabel('Ekspresi', fontsize=12)\n",
        "plt.show()"
      ]
    },
    {
      "cell_type": "code",
      "execution_count": 7,
      "metadata": {
        "colab": {
          "base_uri": "https://localhost:8080/"
        },
        "id": "vxh1N_I925AG",
        "outputId": "fad7f781-5537-46f0-9181-0a2956f4b6b7"
      },
      "outputs": [
        {
          "output_type": "stream",
          "name": "stdout",
          "text": [
            "jumlah data training sebanyak 28821\n",
            "jumlah data validaiton sebanyak 7066\n"
          ]
        }
      ],
      "source": [
        "# Jumlah data training\n",
        "\n",
        "jumlah_training = 0\n",
        "jumlah_validation = 0 \n",
        "for nama_label in label:\n",
        "    jumlah_train = len(os.listdir(os.path.join('train', nama_label)))\n",
        "    jumlah_val = len(os.listdir(os.path.join('validation', nama_label)))\n",
        "    jumlah_training += jumlah_train\n",
        "    jumlah_validation += jumlah_val\n",
        "\n",
        "print('jumlah data training sebanyak', jumlah_training)\n",
        "print('jumlah data validaiton sebanyak', jumlah_validation)"
      ]
    },
    {
      "cell_type": "code",
      "execution_count": 8,
      "metadata": {
        "colab": {
          "base_uri": "https://localhost:8080/",
          "height": 554
        },
        "id": "FNb9GeDigeZr",
        "outputId": "ede43eeb-ed40-4153-eb3a-3aade2985160"
      },
      "outputs": [
        {
          "output_type": "display_data",
          "data": {
            "text/plain": [
              "<Figure size 1152x720 with 7 Axes>"
            ],
            "image/png": "[encoded data removed]"
          },
          "metadata": {
            "needs_background": "light"
          }
        }
      ],
      "source": [
        "def gambarWajah(gambar, jenis_ekpresi, path):\n",
        "    #pixels, emotion = row['pixels'], emotion_map[row['emotion']]\n",
        "    #img = np.array(pixels.split())\n",
        "    gambar_dir = os.path.join(path, jenis_ekpresi)\n",
        "    gambar_path = os.path.join(gambar_dir, gambar)\n",
        "    img = mpimg.imread(gambar_path)\n",
        "    img = img.reshape(48,48)\n",
        "    image = np.zeros((48,48,3))\n",
        "    image[:,:,0] = img\n",
        "    image[:,:,1] = img\n",
        "    image[:,:,2] = img\n",
        "    return np.array([image.astype(np.uint8), jenis_ekpresi], dtype=object)\n",
        "\n",
        "plt.figure(0, figsize=(16,10))\n",
        "i = 1;\n",
        "for nama_ekspresi in label:\n",
        "    #print(nama_ekspresi)\n",
        "    gambar_dir = os.path.join('train', nama_ekspresi)\n",
        "    list_gambar_ekspresi = os.listdir(gambar_dir)\n",
        "    nama_gambar = list_gambar_ekspresi[0]\n",
        "    img = gambarWajah(nama_gambar, nama_ekspresi, 'train')\n",
        "    plt.subplot(2,4,i)\n",
        "    plt.imshow(img[0])\n",
        "    plt.title(img[1])\n",
        "    i+=1\n",
        "\n",
        "plt.show()  "
      ]
    },
    {
      "cell_type": "code",
      "execution_count": 9,
      "metadata": {
        "colab": {
          "base_uri": "https://localhost:8080/"
        },
        "id": "JNhGBfEIIi6q",
        "outputId": "44335d7e-7237-4ecc-f4ed-194afa2dc873"
      },
      "outputs": [
        {
          "output_type": "stream",
          "name": "stdout",
          "text": [
            "<class 'pandas.core.frame.DataFrame'>\n",
            "RangeIndex: 28821 entries, 0 to 28820\n",
            "Data columns (total 2 columns):\n",
            " #   Column  Non-Null Count  Dtype \n",
            "---  ------  --------------  ----- \n",
            " 0   image   28821 non-null  object\n",
            " 1   label   28821 non-null  object\n",
            "dtypes: object(2)\n",
            "memory usage: 450.5+ KB\n",
            "<class 'pandas.core.frame.DataFrame'>\n",
            "RangeIndex: 7066 entries, 0 to 7065\n",
            "Data columns (total 2 columns):\n",
            " #   Column  Non-Null Count  Dtype \n",
            "---  ------  --------------  ----- \n",
            " 0   image   7066 non-null   object\n",
            " 1   label   7066 non-null   object\n",
            "dtypes: object(2)\n",
            "memory usage: 110.5+ KB\n"
          ]
        }
      ],
      "source": [
        "# Membuat Dataframe\n",
        "\n",
        "data_foto_1 = []\n",
        "nama_class_1 = []\n",
        "for label in os.listdir(os.path.join('train')):\n",
        "  for img in os.listdir(os.path.join('train', label)):\n",
        "    data_foto_1.append(img)\n",
        "    nama_class_1.append(label)\n",
        "\n",
        "training_df = pd.DataFrame({'image' : data_foto_1, 'label' : nama_class_1})\n",
        "\n",
        "data_foto_2 = []\n",
        "nama_class_2 = []\n",
        "for label in os.listdir(os.path.join('validation')):\n",
        "  for img in os.listdir(os.path.join('validation', label)):\n",
        "    data_foto_2.append(img)\n",
        "    nama_class_2.append(label)\n",
        "\n",
        "validation_df = pd.DataFrame({'image' : data_foto_2, 'label' : nama_class_2})\n",
        "\n",
        "training_df.info()\n",
        "validation_df.info()"
      ]
    },
    {
      "cell_type": "code",
      "execution_count": 10,
      "metadata": {
        "id": "AYspHTghA8IR"
      },
      "outputs": [],
      "source": [
        "#initilize parameters\n",
        "jumlah_class = 7\n",
        "#width, height = 48, 48\n",
        "jumlah_epochs = 200\n",
        "ukuran_batch = 64\n",
        "jumlah_features = 64"
      ]
    },
    {
      "cell_type": "code",
      "execution_count": 11,
      "metadata": {
        "id": "L8M5Rc3BgoFB"
      },
      "outputs": [],
      "source": [
        "# Image Data Generator\n",
        "train_datagen = ImageDataGenerator(\n",
        "      # featurewise_center = True,\n",
        "      # featurewise_std_normalization = True,\n",
        "      rotation_range = 10,\n",
        "      width_shift_range = 0.1,\n",
        "      height_shift_range = 0.1,\n",
        "      zoom_range = 0.1,\n",
        "      horizontal_flip = True,\n",
        "      fill_mode = 'nearest'\n",
        ")\n",
        "validation_datagen = ImageDataGenerator(horizontal_flip = True)"
      ]
    },
    {
      "cell_type": "code",
      "execution_count": 12,
      "metadata": {
        "colab": {
          "base_uri": "https://localhost:8080/"
        },
        "id": "SgtX3bXes79N",
        "outputId": "b98516de-58e6-473a-b4ae-9b9777b8f2c6"
      },
      "outputs": [
        {
          "output_type": "stream",
          "name": "stdout",
          "text": [
            "Found 28821 images belonging to 7 classes.\n",
            "Found 7066 images belonging to 7 classes.\n"
          ]
        }
      ],
      "source": [
        "# Preprocess Data Biasa\n",
        "\n",
        "train_generator = train_datagen.flow_from_directory(\n",
        "    \"train/\",\n",
        "    target_size=(48,48),\n",
        "    batch_size = ukuran_batch,\n",
        "    color_mode = 'grayscale',\n",
        "    class_mode = \"categorical\"\n",
        ")\n",
        "\n",
        "validation_generator = validation_datagen.flow_from_directory(\n",
        "    \"validation/\",\n",
        "    target_size=(48,48),\n",
        "    batch_size = ukuran_batch,\n",
        "    color_mode = 'grayscale',\n",
        "    class_mode = \"categorical\"\n",
        ")"
      ]
    },
    {
      "cell_type": "markdown",
      "source": [
        "Model terbaik saat ini dengan akurasi train 0.59 dan akurasi validation 0.60 adalah\n",
        "model = tf.keras.models.Sequential([\n",
        "                                    tf.keras.layers.Conv2D(64, (3,3), activation=\"relu\", input_shape=(48,48,1)),\n",
        "                                    tf.keras.layers.BatchNormalization(),\n",
        "                                    tf.keras.layers.MaxPooling2D(2,2),\n",
        "                                    tf.keras.layers.Conv2D(32, (3,3), activation=\"relu\"),\n",
        "                                    tf.keras.layers.BatchNormalization(),\n",
        "                                    tf.keras.layers.MaxPooling2D(2,2),\n",
        "                                    tf.keras.layers.Conv2D(32, (3,3), activation=\"relu\"),\n",
        "                                    tf.keras.layers.BatchNormalization(),\n",
        "                                    tf.keras.layers.MaxPooling2D(2,2),\n",
        "                                    tf.keras.layers.Conv2D(16, (3,3), activation=\"relu\"),\n",
        "                                    tf.keras.layers.BatchNormalization(),\n",
        "                                    tf.keras.layers.MaxPooling2D(2,2),\n",
        "                                    tf.keras.layers.Flatten(),\n",
        "                                    tf.keras.layers.Dense(128, activation=\"relu\"),\n",
        "                                    tf.keras.layers.BatchNormalization(),\n",
        "                                    tf.keras.layers.Dense(7, activation=\"softmax\")\n",
        "])"
      ],
      "metadata": {
        "id": "fSuK18KBLfjV"
      }
    },
    {
      "cell_type": "code",
      "execution_count": 13,
      "metadata": {
        "colab": {
          "base_uri": "https://localhost:8080/"
        },
        "id": "x4W-Vszz0B2i",
        "outputId": "c762c246-1b62-431f-ee82-e6f10f2a4f98"
      },
      "outputs": [
        {
          "output_type": "stream",
          "name": "stdout",
          "text": [
            "Model: \"sequential\"\n",
            "_________________________________________________________________\n",
            " Layer (type)                Output Shape              Param #   \n",
            "=================================================================\n",
            " conv2d (Conv2D)             (None, 46, 46, 256)       2560      \n",
            "                                                                 \n",
            " batch_normalization (BatchN  (None, 46, 46, 256)      1024      \n",
            " ormalization)                                                   \n",
            "                                                                 \n",
            " max_pooling2d (MaxPooling2D  (None, 23, 23, 256)      0         \n",
            " )                                                               \n",
            "                                                                 \n",
            " conv2d_1 (Conv2D)           (None, 21, 21, 128)       295040    \n",
            "                                                                 \n",
            " batch_normalization_1 (Batc  (None, 21, 21, 128)      512       \n",
            " hNormalization)                                                 \n",
            "                                                                 \n",
            " max_pooling2d_1 (MaxPooling  (None, 10, 10, 128)      0         \n",
            " 2D)                                                             \n",
            "                                                                 \n",
            " conv2d_2 (Conv2D)           (None, 8, 8, 64)          73792     \n",
            "                                                                 \n",
            " batch_normalization_2 (Batc  (None, 8, 8, 64)         256       \n",
            " hNormalization)                                                 \n",
            "                                                                 \n",
            " max_pooling2d_2 (MaxPooling  (None, 4, 4, 64)         0         \n",
            " 2D)                                                             \n",
            "                                                                 \n",
            " conv2d_3 (Conv2D)           (None, 2, 2, 32)          18464     \n",
            "                                                                 \n",
            " batch_normalization_3 (Batc  (None, 2, 2, 32)         128       \n",
            " hNormalization)                                                 \n",
            "                                                                 \n",
            " max_pooling2d_3 (MaxPooling  (None, 1, 1, 32)         0         \n",
            " 2D)                                                             \n",
            "                                                                 \n",
            " flatten (Flatten)           (None, 32)                0         \n",
            "                                                                 \n",
            " dense (Dense)               (None, 128)               4224      \n",
            "                                                                 \n",
            " batch_normalization_4 (Batc  (None, 128)              512       \n",
            " hNormalization)                                                 \n",
            "                                                                 \n",
            " dense_1 (Dense)             (None, 7)                 903       \n",
            "                                                                 \n",
            "=================================================================\n",
            "Total params: 397,415\n",
            "Trainable params: 396,199\n",
            "Non-trainable params: 1,216\n",
            "_________________________________________________________________\n"
          ]
        }
      ],
      "source": [
        "model = tf.keras.models.Sequential([\n",
        "                                    tf.keras.layers.Conv2D(256, (3,3), activation=\"relu\", input_shape=(48,48,1)),\n",
        "                                    tf.keras.layers.BatchNormalization(),\n",
        "                                    tf.keras.layers.MaxPooling2D(2,2),\n",
        "                                    # tf.keras.layers.Dropout(0.2),\n",
        "                                    tf.keras.layers.Conv2D(128, (3,3), activation=\"relu\"),\n",
        "                                    tf.keras.layers.BatchNormalization(),\n",
        "                                    tf.keras.layers.MaxPooling2D(2,2),\n",
        "                                    # tf.keras.layers.Dropout(0.2),\n",
        "                                    tf.keras.layers.Conv2D(64, (3,3), activation=\"relu\"),\n",
        "                                    tf.keras.layers.BatchNormalization(),\n",
        "                                    tf.keras.layers.MaxPooling2D(2,2),\n",
        "                                    # tf.keras.layers.Dropout(0.2),\n",
        "                                    tf.keras.layers.Conv2D(32, (3,3), activation=\"relu\"),\n",
        "                                    tf.keras.layers.BatchNormalization(),\n",
        "                                    tf.keras.layers.MaxPooling2D(2,2),\n",
        "                                    # tf.keras.layers.Dropout(0.2),\n",
        "                                    tf.keras.layers.Flatten(),\n",
        "                                    tf.keras.layers.Dense(128, activation=\"relu\"),\n",
        "                                    tf.keras.layers.BatchNormalization(),\n",
        "                                    # tf.keras.layers.Dropout(0.2),\n",
        "                                    # tf.keras.layers.Dense(64, activation=\"relu\"),\n",
        "                                    # tf.keras.layers.BatchNormalization(),\n",
        "                                    # tf.keras.layers.Dropout(0.2),\n",
        "                                    # tf.keras.layers.Dense(16, activation=\"relu\"),\n",
        "                                    # tf.keras.layers.BatchNormalization(),\n",
        "                                    # tf.keras.layers.Dropout(0.2),\n",
        "                                    tf.keras.layers.Dense(7, activation=\"softmax\")\n",
        "])\n",
        "\n",
        "model.summary()"
      ]
    },
    {
      "cell_type": "code",
      "execution_count": 14,
      "metadata": {
        "colab": {
          "base_uri": "https://localhost:8080/"
        },
        "id": "NWl9RxGT0La9",
        "outputId": "05246a92-cb7a-4320-902b-df4dff61e47f"
      },
      "outputs": [
        {
          "output_type": "stream",
          "name": "stderr",
          "text": [
            "/usr/local/lib/python3.7/dist-packages/keras/optimizer_v2/adam.py:105: UserWarning: The `lr` argument is deprecated, use `learning_rate` instead.\n",
            "  super(Adam, self).__init__(name, **kwargs)\n"
          ]
        }
      ],
      "source": [
        "# Compile model\n",
        "\n",
        "model.compile(optimizer=Adam(lr=0.0001), loss=\"categorical_crossentropy\", metrics = [\"accuracy\"])"
      ]
    },
    {
      "cell_type": "code",
      "execution_count": 15,
      "metadata": {
        "colab": {
          "base_uri": "https://localhost:8080/"
        },
        "id": "80GtPHS70OQe",
        "outputId": "6d433264-8d4c-4227-ac80-135fbddd75c3"
      },
      "outputs": [
        {
          "output_type": "stream",
          "name": "stdout",
          "text": [
            "Epoch 1/200\n",
            "450/450 [==============================] - 36s 54ms/step - loss: 2.0222 - accuracy: 0.2368 - val_loss: 1.8491 - val_accuracy: 0.2955\n",
            "Epoch 2/200\n",
            "450/450 [==============================] - 23s 52ms/step - loss: 1.7615 - accuracy: 0.3217 - val_loss: 1.6880 - val_accuracy: 0.3657\n",
            "Epoch 3/200\n",
            "450/450 [==============================] - 23s 52ms/step - loss: 1.6428 - accuracy: 0.3698 - val_loss: 1.6349 - val_accuracy: 0.3763\n",
            "Epoch 4/200\n",
            "450/450 [==============================] - 23s 52ms/step - loss: 1.5706 - accuracy: 0.3943 - val_loss: 1.5395 - val_accuracy: 0.4084\n",
            "Epoch 5/200\n",
            "450/450 [==============================] - 23s 51ms/step - loss: 1.5086 - accuracy: 0.4170 - val_loss: 1.4867 - val_accuracy: 0.4314\n",
            "Epoch 6/200\n",
            "450/450 [==============================] - 23s 51ms/step - loss: 1.4667 - accuracy: 0.4328 - val_loss: 1.4741 - val_accuracy: 0.4432\n",
            "Epoch 7/200\n",
            "450/450 [==============================] - 23s 51ms/step - loss: 1.4224 - accuracy: 0.4514 - val_loss: 1.3968 - val_accuracy: 0.4672\n",
            "Epoch 8/200\n",
            "450/450 [==============================] - 23s 52ms/step - loss: 1.3824 - accuracy: 0.4706 - val_loss: 1.3634 - val_accuracy: 0.4795\n",
            "Epoch 9/200\n",
            "450/450 [==============================] - 23s 52ms/step - loss: 1.3558 - accuracy: 0.4819 - val_loss: 1.3269 - val_accuracy: 0.4950\n",
            "Epoch 10/200\n",
            "450/450 [==============================] - 23s 51ms/step - loss: 1.3279 - accuracy: 0.4886 - val_loss: 1.3668 - val_accuracy: 0.4740\n",
            "Epoch 11/200\n",
            "450/450 [==============================] - 23s 52ms/step - loss: 1.3060 - accuracy: 0.4984 - val_loss: 1.3064 - val_accuracy: 0.4999\n",
            "Epoch 12/200\n",
            "450/450 [==============================] - 23s 51ms/step - loss: 1.2857 - accuracy: 0.5099 - val_loss: 1.2721 - val_accuracy: 0.5088\n",
            "Epoch 13/200\n",
            "450/450 [==============================] - 23s 51ms/step - loss: 1.2706 - accuracy: 0.5135 - val_loss: 1.2205 - val_accuracy: 0.5341\n",
            "Epoch 14/200\n",
            "450/450 [==============================] - 23s 51ms/step - loss: 1.2515 - accuracy: 0.5222 - val_loss: 1.2346 - val_accuracy: 0.5283\n",
            "Epoch 15/200\n",
            "450/450 [==============================] - 23s 51ms/step - loss: 1.2355 - accuracy: 0.5279 - val_loss: 1.2124 - val_accuracy: 0.5386\n",
            "Epoch 16/200\n",
            "450/450 [==============================] - 23s 52ms/step - loss: 1.2262 - accuracy: 0.5286 - val_loss: 1.2200 - val_accuracy: 0.5369\n",
            "Epoch 17/200\n",
            "450/450 [==============================] - 23s 51ms/step - loss: 1.2135 - accuracy: 0.5378 - val_loss: 1.2009 - val_accuracy: 0.5406\n",
            "Epoch 18/200\n",
            "450/450 [==============================] - 23s 52ms/step - loss: 1.2040 - accuracy: 0.5421 - val_loss: 1.2807 - val_accuracy: 0.5126\n",
            "Epoch 19/200\n",
            "450/450 [==============================] - 23s 51ms/step - loss: 1.1948 - accuracy: 0.5460 - val_loss: 1.2487 - val_accuracy: 0.5248\n",
            "Epoch 20/200\n",
            "450/450 [==============================] - 23s 51ms/step - loss: 1.1900 - accuracy: 0.5446 - val_loss: 1.1805 - val_accuracy: 0.5514\n",
            "Epoch 21/200\n",
            "450/450 [==============================] - 23s 51ms/step - loss: 1.1757 - accuracy: 0.5522 - val_loss: 1.1651 - val_accuracy: 0.5566\n",
            "Epoch 22/200\n",
            "450/450 [==============================] - 23s 51ms/step - loss: 1.1674 - accuracy: 0.5547 - val_loss: 1.1615 - val_accuracy: 0.5607\n",
            "Epoch 23/200\n",
            "450/450 [==============================] - 23s 51ms/step - loss: 1.1593 - accuracy: 0.5587 - val_loss: 1.1842 - val_accuracy: 0.5467\n",
            "Epoch 24/200\n",
            "450/450 [==============================] - 23s 51ms/step - loss: 1.1545 - accuracy: 0.5601 - val_loss: 1.2320 - val_accuracy: 0.5283\n",
            "Epoch 25/200\n",
            "450/450 [==============================] - 23s 51ms/step - loss: 1.1431 - accuracy: 0.5657 - val_loss: 1.1444 - val_accuracy: 0.5655\n",
            "Epoch 26/200\n",
            "450/450 [==============================] - 23s 50ms/step - loss: 1.1391 - accuracy: 0.5653 - val_loss: 1.1837 - val_accuracy: 0.5442\n",
            "Epoch 27/200\n",
            "450/450 [==============================] - 23s 51ms/step - loss: 1.1283 - accuracy: 0.5716 - val_loss: 1.1935 - val_accuracy: 0.5478\n",
            "Epoch 28/200\n",
            "450/450 [==============================] - 23s 51ms/step - loss: 1.1243 - accuracy: 0.5726 - val_loss: 1.1296 - val_accuracy: 0.5764\n",
            "Epoch 29/200\n",
            "450/450 [==============================] - 23s 51ms/step - loss: 1.1187 - accuracy: 0.5717 - val_loss: 1.1459 - val_accuracy: 0.5698\n",
            "Epoch 30/200\n",
            "450/450 [==============================] - 23s 50ms/step - loss: 1.1098 - accuracy: 0.5751 - val_loss: 1.1244 - val_accuracy: 0.5784\n",
            "Epoch 31/200\n",
            "450/450 [==============================] - 23s 51ms/step - loss: 1.1050 - accuracy: 0.5790 - val_loss: 1.1589 - val_accuracy: 0.5594\n",
            "Epoch 32/200\n",
            "450/450 [==============================] - 23s 51ms/step - loss: 1.1016 - accuracy: 0.5804 - val_loss: 1.1164 - val_accuracy: 0.5784\n",
            "Epoch 33/200\n",
            "450/450 [==============================] - 23s 51ms/step - loss: 1.0986 - accuracy: 0.5864 - val_loss: 1.1124 - val_accuracy: 0.5825\n",
            "Epoch 34/200\n",
            "450/450 [==============================] - 23s 51ms/step - loss: 1.0913 - accuracy: 0.5868 - val_loss: 1.1208 - val_accuracy: 0.5776\n",
            "Epoch 35/200\n",
            "450/450 [==============================] - 23s 51ms/step - loss: 1.0825 - accuracy: 0.5856 - val_loss: 1.1810 - val_accuracy: 0.5457\n",
            "Epoch 36/200\n",
            "450/450 [==============================] - 23s 51ms/step - loss: 1.0836 - accuracy: 0.5887 - val_loss: 1.1544 - val_accuracy: 0.5589\n",
            "Epoch 37/200\n",
            "450/450 [==============================] - 23s 51ms/step - loss: 1.0732 - accuracy: 0.5929 - val_loss: 1.1239 - val_accuracy: 0.5733\n",
            "Epoch 38/200\n",
            "450/450 [==============================] - 23s 50ms/step - loss: 1.0734 - accuracy: 0.5934 - val_loss: 1.1987 - val_accuracy: 0.5371\n",
            "Epoch 39/200\n",
            "450/450 [==============================] - 23s 51ms/step - loss: 1.0691 - accuracy: 0.5953 - val_loss: 1.1354 - val_accuracy: 0.5825\n",
            "Epoch 40/200\n",
            "450/450 [==============================] - 23s 51ms/step - loss: 1.0611 - accuracy: 0.5986 - val_loss: 1.1050 - val_accuracy: 0.5750\n",
            "Epoch 41/200\n",
            "450/450 [==============================] - 23s 51ms/step - loss: 1.0620 - accuracy: 0.5986 - val_loss: 1.0804 - val_accuracy: 0.5935\n",
            "Epoch 42/200\n",
            "450/450 [==============================] - 23s 50ms/step - loss: 1.0551 - accuracy: 0.6014 - val_loss: 1.1041 - val_accuracy: 0.5907\n",
            "Epoch 43/200\n",
            "450/450 [==============================] - 23s 51ms/step - loss: 1.0527 - accuracy: 0.6039 - val_loss: 1.0762 - val_accuracy: 0.5880\n",
            "Epoch 44/200\n",
            "450/450 [==============================] - 23s 50ms/step - loss: 1.0565 - accuracy: 0.6005 - val_loss: 1.1648 - val_accuracy: 0.5631\n",
            "Epoch 45/200\n",
            "450/450 [==============================] - 23s 51ms/step - loss: 1.0454 - accuracy: 0.6054 - val_loss: 1.0940 - val_accuracy: 0.5863\n",
            "Epoch 46/200\n",
            "450/450 [==============================] - 23s 51ms/step - loss: 1.0395 - accuracy: 0.6071 - val_loss: 1.0976 - val_accuracy: 0.5838\n",
            "Epoch 47/200\n",
            "450/450 [==============================] - 23s 50ms/step - loss: 1.0342 - accuracy: 0.6092 - val_loss: 1.1207 - val_accuracy: 0.5708\n",
            "Epoch 48/200\n",
            "450/450 [==============================] - 23s 51ms/step - loss: 1.0283 - accuracy: 0.6123 - val_loss: 1.0871 - val_accuracy: 0.5948\n",
            "Epoch 49/200\n",
            "450/450 [==============================] - 23s 50ms/step - loss: 1.0350 - accuracy: 0.6098 - val_loss: 1.2085 - val_accuracy: 0.5743\n",
            "Epoch 50/200\n",
            "450/450 [==============================] - 23s 51ms/step - loss: 1.0287 - accuracy: 0.6116 - val_loss: 1.1254 - val_accuracy: 0.5723\n",
            "Epoch 51/200\n",
            "450/450 [==============================] - 23s 52ms/step - loss: 1.0204 - accuracy: 0.6138 - val_loss: 1.1165 - val_accuracy: 0.5798\n",
            "Epoch 52/200\n",
            "450/450 [==============================] - 23s 50ms/step - loss: 1.0231 - accuracy: 0.6141 - val_loss: 1.0936 - val_accuracy: 0.5877\n",
            "Epoch 53/200\n",
            "450/450 [==============================] - 23s 50ms/step - loss: 1.0200 - accuracy: 0.6180 - val_loss: 1.0813 - val_accuracy: 0.5968\n",
            "Epoch 54/200\n",
            "450/450 [==============================] - 23s 50ms/step - loss: 1.0151 - accuracy: 0.6182 - val_loss: 1.0768 - val_accuracy: 0.5907\n",
            "Epoch 55/200\n",
            "450/450 [==============================] - 23s 50ms/step - loss: 1.0148 - accuracy: 0.6165 - val_loss: 1.0617 - val_accuracy: 0.6032\n",
            "Epoch 56/200\n",
            "450/450 [==============================] - 23s 50ms/step - loss: 1.0106 - accuracy: 0.6207 - val_loss: 1.0600 - val_accuracy: 0.6030\n",
            "Epoch 57/200\n",
            "450/450 [==============================] - 23s 50ms/step - loss: 1.0094 - accuracy: 0.6177 - val_loss: 1.1014 - val_accuracy: 0.5836\n",
            "Epoch 58/200\n",
            "450/450 [==============================] - 23s 50ms/step - loss: 1.0026 - accuracy: 0.6246 - val_loss: 1.0535 - val_accuracy: 0.6098\n",
            "Epoch 59/200\n",
            "450/450 [==============================] - 23s 50ms/step - loss: 1.0041 - accuracy: 0.6183 - val_loss: 1.0682 - val_accuracy: 0.5887\n",
            "Epoch 60/200\n",
            "450/450 [==============================] - 23s 50ms/step - loss: 1.0000 - accuracy: 0.6216 - val_loss: 1.0900 - val_accuracy: 0.5877\n",
            "Epoch 61/200\n",
            "450/450 [==============================] - 23s 51ms/step - loss: 0.9952 - accuracy: 0.6202 - val_loss: 1.0935 - val_accuracy: 0.5961\n",
            "Epoch 62/200\n",
            "450/450 [==============================] - 23s 50ms/step - loss: 0.9893 - accuracy: 0.6264 - val_loss: 1.0839 - val_accuracy: 0.5995\n",
            "Epoch 63/200\n",
            "450/450 [==============================] - 23s 50ms/step - loss: 0.9906 - accuracy: 0.6257 - val_loss: 1.1111 - val_accuracy: 0.5834\n",
            "Epoch 64/200\n",
            "450/450 [==============================] - 23s 51ms/step - loss: 0.9881 - accuracy: 0.6255 - val_loss: 1.0350 - val_accuracy: 0.6047\n",
            "Epoch 65/200\n",
            "450/450 [==============================] - 23s 50ms/step - loss: 0.9825 - accuracy: 0.6264 - val_loss: 1.0912 - val_accuracy: 0.5909\n",
            "Epoch 66/200\n",
            "450/450 [==============================] - 23s 50ms/step - loss: 0.9781 - accuracy: 0.6283 - val_loss: 1.0924 - val_accuracy: 0.5828\n",
            "Epoch 67/200\n",
            "450/450 [==============================] - 23s 50ms/step - loss: 0.9753 - accuracy: 0.6319 - val_loss: 1.1234 - val_accuracy: 0.5794\n",
            "Epoch 68/200\n",
            "450/450 [==============================] - 23s 51ms/step - loss: 0.9792 - accuracy: 0.6316 - val_loss: 1.1142 - val_accuracy: 0.5967\n",
            "Epoch 69/200\n",
            "450/450 [==============================] - 23s 50ms/step - loss: 0.9765 - accuracy: 0.6302 - val_loss: 1.1108 - val_accuracy: 0.5856\n",
            "Epoch 70/200\n",
            "450/450 [==============================] - 23s 50ms/step - loss: 0.9743 - accuracy: 0.6326 - val_loss: 1.0919 - val_accuracy: 0.5974\n",
            "Epoch 71/200\n",
            "450/450 [==============================] - 23s 51ms/step - loss: 0.9689 - accuracy: 0.6345 - val_loss: 1.0755 - val_accuracy: 0.6016\n",
            "Epoch 72/200\n",
            "450/450 [==============================] - 23s 50ms/step - loss: 0.9726 - accuracy: 0.6328 - val_loss: 1.1012 - val_accuracy: 0.5877\n",
            "Epoch 73/200\n",
            "450/450 [==============================] - 23s 50ms/step - loss: 0.9678 - accuracy: 0.6371 - val_loss: 1.0636 - val_accuracy: 0.6047\n",
            "Epoch 74/200\n",
            "450/450 [==============================] - 23s 50ms/step - loss: 0.9586 - accuracy: 0.6383 - val_loss: 1.0991 - val_accuracy: 0.5852\n",
            "Epoch 75/200\n",
            "450/450 [==============================] - 27s 61ms/step - loss: 0.9630 - accuracy: 0.6376 - val_loss: 1.1031 - val_accuracy: 0.5808\n",
            "Epoch 76/200\n",
            "450/450 [==============================] - 26s 58ms/step - loss: 0.9610 - accuracy: 0.6385 - val_loss: 1.0466 - val_accuracy: 0.6108\n",
            "Epoch 77/200\n",
            "450/450 [==============================] - 23s 50ms/step - loss: 0.9589 - accuracy: 0.6376 - val_loss: 1.0555 - val_accuracy: 0.6064\n"
          ]
        }
      ],
      "source": [
        "# Fit model\n",
        "\n",
        "history = model.fit(\n",
        "    train_generator, \n",
        "    validation_data = validation_generator,\n",
        "    epochs=jumlah_epochs, \n",
        "    steps_per_epoch = jumlah_training/ukuran_batch,\n",
        "    validation_steps = jumlah_validation/ukuran_batch,\n",
        "    verbose = 1,\n",
        "    callbacks = tf.keras.callbacks.EarlyStopping(monitor='loss', patience=3)\n",
        ")"
      ]
    },
    {
      "cell_type": "code",
      "execution_count": 16,
      "metadata": {
        "id": "6VZEbkXC1UQg",
        "colab": {
          "base_uri": "https://localhost:8080/",
          "height": 545
        },
        "outputId": "a23bb0a6-753e-41e8-f5ff-80bb67afa8ff"
      },
      "outputs": [
        {
          "output_type": "display_data",
          "data": {
            "text/plain": [
              "<Figure size 432x288 with 1 Axes>"
            ],
            "image/png": "[encoded data removed]"
          },
          "metadata": {
            "needs_background": "light"
          }
        },
        {
          "output_type": "display_data",
          "data": {
            "text/plain": [
              "<Figure size 432x288 with 1 Axes>"
            ],
            "image/png": "[encoded data removed]"
          },
          "metadata": {
            "needs_background": "light"
          }
        }
      ],
      "source": [
        "acc = history.history['accuracy']\n",
        "val_acc = history.history['val_accuracy']\n",
        "loss = history.history['loss']\n",
        "val_loss = history.history['val_loss']\n",
        "\n",
        "epochs = range(len(acc))\n",
        "\n",
        "plt.plot(epochs, acc, 'r', label='Training accuracy')\n",
        "plt.plot(epochs, val_acc, 'b', label='Validation accuracy')\n",
        "plt.title('Training and validation accuracy')\n",
        "plt.legend()\n",
        "\n",
        "plt.figure()\n",
        "\n",
        "plt.plot(epochs, loss, 'r', label='Training Loss')\n",
        "plt.plot(epochs, val_loss, 'b', label='Validation Loss')\n",
        "plt.title('Training and validation loss')\n",
        "plt.legend()\n",
        "\n",
        "plt.show()"
      ]
    },
    {
      "cell_type": "code",
      "source": [
        ""
      ],
      "metadata": {
        "id": "GW9qbho6UWFj"
      },
      "execution_count": null,
      "outputs": []
    }
  ],
  "metadata": {
    "colab": {
      "collapsed_sections": [],
      "name": "Project Akhir MLT.ipynb",
      "provenance": []
    },
    "kernelspec": {
      "display_name": "Python 3",
      "name": "python3"
    },
    "language_info": {
      "name": "python"
    },
    "accelerator": "GPU",
    "gpuClass": "standard"
  },
  "nbformat": 4,
  "nbformat_minor": 0
}