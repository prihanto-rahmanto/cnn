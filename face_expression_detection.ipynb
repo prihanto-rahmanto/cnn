{
  "cells": [
    {
      "cell_type": "code",
      "execution_count": 1,
      "metadata": {
        "colab": {
          "base_uri": "https://localhost:8080/"
        },
        "id": "N3O33hnwzprk",
        "outputId": "77681072-3309-4d93-e641-6cd984aa963e"
      },
      "outputs": [
        {
          "output_type": "stream",
          "name": "stdout",
          "text": [
            "Looking in indexes: https://pypi.org/simple, https://us-python.pkg.dev/colab-wheels/public/simple/\n",
            "Collecting wget\n",
            "  Downloading wget-3.2.zip (10 kB)\n",
            "Building wheels for collected packages: wget\n",
            "  Building wheel for wget (setup.py) ... \u001b[?25l\u001b[?25hdone\n",
            "  Created wheel for wget: filename=wget-3.2-py3-none-any.whl size=9675 sha256=7a7771f8819d2048af0765bff0cf43d3d61dd2d7435d56c0163e7e533c69a0c6\n",
            "  Stored in directory: /root/.cache/pip/wheels/a1/b6/7c/0e63e34eb06634181c63adacca38b79ff8f35c37e3c13e3c02\n",
            "Successfully built wget\n",
            "Installing collected packages: wget\n",
            "Successfully installed wget-3.2\n",
            "Looking in indexes: https://pypi.org/simple, https://us-python.pkg.dev/colab-wheels/public/simple/\n",
            "\u001b[31mERROR: Could not find a version that satisfies the requirement shutil (from versions: none)\u001b[0m\n",
            "\u001b[31mERROR: No matching distribution found for shutil\u001b[0m\n",
            "Looking in indexes: https://pypi.org/simple, https://us-python.pkg.dev/colab-wheels/public/simple/\n",
            "Collecting cutmix-keras\n",
            "  Downloading cutmix_keras-1.0.0-py3-none-any.whl (3.6 kB)\n",
            "Installing collected packages: cutmix-keras\n",
            "Successfully installed cutmix-keras-1.0.0\n"
          ]
        }
      ],
      "source": [
        "import pandas as pd\n",
        "import numpy as np\n",
        "import matplotlib.pyplot as plt\n",
        "import tensorflow as tf\n",
        "import matplotlib.image as mpimg\n",
        "import seaborn as sns\n",
        "import sys\n",
        "!{sys.executable} -m pip install wget\n",
        "!{sys.executable} -m pip install shutil\n",
        "\n",
        "import os\n",
        "from shutil import unpack_archive\n",
        "pd.set_option(\"display.max_columns\", 101)\n",
        "\n",
        "from tensorflow.keras.preprocessing.image import ImageDataGenerator\n",
        "from tensorflow.keras.optimizers import Adam"
      ]
    },
    {
      "cell_type": "code",
      "execution_count": 2,
      "metadata": {
        "colab": {
          "base_uri": "https://localhost:8080/"
        },
        "id": "PhTuHbNBLmVV",
        "outputId": "cfb3321c-5a70-488b-ae7f-ad56b1ae6014"
      },
      "outputs": [
        {
          "output_type": "stream",
          "name": "stdout",
          "text": [
            "--2022-07-24 03:09:07--  https://docs.google.com/uc?export=download&confirm=t&id=1b4DZIS7VfBI_V8-DbpsaCP0ij8u1K3hJ\n",
            "Resolving docs.google.com (docs.google.com)... 74.125.142.102, 74.125.142.113, 74.125.142.139, ...\n",
            "Connecting to docs.google.com (docs.google.com)|74.125.142.102|:443... connected.\n",
            "HTTP request sent, awaiting response... 303 See Other\n",
            "Location: https://doc-00-90-docs.googleusercontent.com/docs/securesc/ha0ro937gcuc7l7deffksulhg5h7mbp1/i0un9269vuk7cabit7920tbf1ku7d9al/1658632125000/11309364930090306574/*/1b4DZIS7VfBI_V8-DbpsaCP0ij8u1K3hJ?e=download&uuid=d106cf81-e96b-4534-9716-be11f4b5fb42 [following]\n",
            "Warning: wildcards not supported in HTTP.\n",
            "--2022-07-24 03:09:07--  https://doc-00-90-docs.googleusercontent.com/docs/securesc/ha0ro937gcuc7l7deffksulhg5h7mbp1/i0un9269vuk7cabit7920tbf1ku7d9al/1658632125000/11309364930090306574/*/1b4DZIS7VfBI_V8-DbpsaCP0ij8u1K3hJ?e=download&uuid=d106cf81-e96b-4534-9716-be11f4b5fb42\n",
            "Resolving doc-00-90-docs.googleusercontent.com (doc-00-90-docs.googleusercontent.com)... 74.125.142.132, 2607:f8b0:400e:c08::84\n",
            "Connecting to doc-00-90-docs.googleusercontent.com (doc-00-90-docs.googleusercontent.com)|74.125.142.132|:443... connected.\n",
            "HTTP request sent, awaiting response... 200 OK\n",
            "Length: 62282324 (59M) [application/x-zip-compressed]\n",
            "Saving to: ‘dataset.zip’\n",
            "\n",
            "dataset.zip         100%[===================>]  59.40M   116MB/s    in 0.5s    \n",
            "\n",
            "2022-07-24 03:09:08 (116 MB/s) - ‘dataset.zip’ saved [62282324/62282324]\n",
            "\n"
          ]
        }
      ],
      "source": [
        "# Download dan extract dataset\n",
        "\n",
        "!wget --load-cookies /tmp/cookies.txt \"https://docs.google.com/uc?export=download&confirm=$(wget --quiet --save-cookies /tmp/cookies.txt --keep-session-cookies --no-check-certificate 'https://docs.google.com/uc?export=download&id=1b4DZIS7VfBI_V8-DbpsaCP0ij8u1K3hJ' -O- | sed -rn 's/.*confirm=([0-9A-Za-z_]+).*/\\1\\n/p')&id=1b4DZIS7VfBI_V8-DbpsaCP0ij8u1K3hJ\" -O dataset.zip && rm -rf /tmp/cookies.txt\n",
        "\n",
        "unpack_archive('dataset.zip', '')\n",
        "\n",
        "os.remove('dataset.zip')"
      ]
    },
    {
      "cell_type": "code",
      "execution_count": 3,
      "metadata": {
        "colab": {
          "base_uri": "https://localhost:8080/"
        },
        "id": "lqJMTvKizwQw",
        "outputId": "beadf06c-93b2-4969-db76-c1d27783ed0c"
      },
      "outputs": [
        {
          "output_type": "stream",
          "name": "stdout",
          "text": [
            "['angry', 'fear', 'neutral', 'happy', 'surprise', 'sad', 'disgust']\n"
          ]
        }
      ],
      "source": [
        "# get label\n",
        "label = os.listdir('train')\n",
        "print(label)"
      ]
    },
    {
      "cell_type": "code",
      "execution_count": 4,
      "metadata": {
        "colab": {
          "base_uri": "https://localhost:8080/"
        },
        "id": "T526KBxe9GOP",
        "outputId": "caca75c0-7152-47de-8d08-9a50faf91dea"
      },
      "outputs": [
        {
          "output_type": "stream",
          "name": "stdout",
          "text": [
            "[['angry', 3993], ['fear', 4103], ['neutral', 4982], ['happy', 7164], ['surprise', 3205], ['sad', 4938], ['disgust', 436]]\n"
          ]
        }
      ],
      "source": [
        "data_label = []\n",
        "for nama_label in label:\n",
        "    jumlah = len(os.listdir(os.path.join('train', nama_label)))\n",
        "    #print(jumlah)\n",
        "    detail_label = [nama_label, jumlah]\n",
        "    data_label.append(detail_label)\n",
        "\n",
        "print(data_label)"
      ]
    },
    {
      "cell_type": "code",
      "execution_count": 5,
      "metadata": {
        "colab": {
          "base_uri": "https://localhost:8080/",
          "height": 269
        },
        "id": "37xW2HQR9Mz2",
        "outputId": "4e5bf704-9ce7-4936-94d6-70d37a14897d"
      },
      "outputs": [
        {
          "output_type": "execute_result",
          "data": {
            "text/plain": [
              "   Ekspresi  Jumlah\n",
              "0     angry    3993\n",
              "1      fear    4103\n",
              "2   neutral    4982\n",
              "3     happy    7164\n",
              "4  surprise    3205\n",
              "5       sad    4938\n",
              "6   disgust     436"
            ],
            "text/html": [
              "\n",
              "  <div id=\"df-cde9b7c6-c01f-4d14-9e52-512c4fd76b0f\">\n",
              "    <div class=\"colab-df-container\">\n",
              "      <div>\n",
              "<style scoped>\n",
              "    .dataframe tbody tr th:only-of-type {\n",
              "        vertical-align: middle;\n",
              "    }\n",
              "\n",
              "    .dataframe tbody tr th {\n",
              "        vertical-align: top;\n",
              "    }\n",
              "\n",
              "    .dataframe thead th {\n",
              "        text-align: right;\n",
              "    }\n",
              "</style>\n",
              "<table border=\"1\" class=\"dataframe\">\n",
              "  <thead>\n",
              "    <tr style=\"text-align: right;\">\n",
              "      <th></th>\n",
              "      <th>Ekspresi</th>\n",
              "      <th>Jumlah</th>\n",
              "    </tr>\n",
              "  </thead>\n",
              "  <tbody>\n",
              "    <tr>\n",
              "      <th>0</th>\n",
              "      <td>angry</td>\n",
              "      <td>3993</td>\n",
              "    </tr>\n",
              "    <tr>\n",
              "      <th>1</th>\n",
              "      <td>fear</td>\n",
              "      <td>4103</td>\n",
              "    </tr>\n",
              "    <tr>\n",
              "      <th>2</th>\n",
              "      <td>neutral</td>\n",
              "      <td>4982</td>\n",
              "    </tr>\n",
              "    <tr>\n",
              "      <th>3</th>\n",
              "      <td>happy</td>\n",
              "      <td>7164</td>\n",
              "    </tr>\n",
              "    <tr>\n",
              "      <th>4</th>\n",
              "      <td>surprise</td>\n",
              "      <td>3205</td>\n",
              "    </tr>\n",
              "    <tr>\n",
              "      <th>5</th>\n",
              "      <td>sad</td>\n",
              "      <td>4938</td>\n",
              "    </tr>\n",
              "    <tr>\n",
              "      <th>6</th>\n",
              "      <td>disgust</td>\n",
              "      <td>436</td>\n",
              "    </tr>\n",
              "  </tbody>\n",
              "</table>\n",
              "</div>\n",
              "      <button class=\"colab-df-convert\" onclick=\"convertToInteractive('df-cde9b7c6-c01f-4d14-9e52-512c4fd76b0f')\"\n",
              "              title=\"Convert this dataframe to an interactive table.\"\n",
              "              style=\"display:none;\">\n",
              "        \n",
              "  <svg xmlns=\"http://www.w3.org/2000/svg\" height=\"24px\"viewBox=\"0 0 24 24\"\n",
              "       width=\"24px\">\n",
              "    <path d=\"M0 0h24v24H0V0z\" fill=\"none\"/>\n",
              "    <path d=\"M18.56 5.44l.94 2.06.94-2.06 2.06-.94-2.06-.94-.94-2.06-.94 2.06-2.06.94zm-11 1L8.5 8.5l.94-2.06 2.06-.94-2.06-.94L8.5 2.5l-.94 2.06-2.06.94zm10 10l.94 2.06.94-2.06 2.06-.94-2.06-.94-.94-2.06-.94 2.06-2.06.94z\"/><path d=\"M17.41 7.96l-1.37-1.37c-.4-.4-.92-.59-1.43-.59-.52 0-1.04.2-1.43.59L10.3 9.45l-7.72 7.72c-.78.78-.78 2.05 0 2.83L4 21.41c.39.39.9.59 1.41.59.51 0 1.02-.2 1.41-.59l7.78-7.78 2.81-2.81c.8-.78.8-2.07 0-2.86zM5.41 20L4 18.59l7.72-7.72 1.47 1.35L5.41 20z\"/>\n",
              "  </svg>\n",
              "      </button>\n",
              "      \n",
              "  <style>\n",
              "    .colab-df-container {\n",
              "      display:flex;\n",
              "      flex-wrap:wrap;\n",
              "      gap: 12px;\n",
              "    }\n",
              "\n",
              "    .colab-df-convert {\n",
              "      background-color: #E8F0FE;\n",
              "      border: none;\n",
              "      border-radius: 50%;\n",
              "      cursor: pointer;\n",
              "      display: none;\n",
              "      fill: #1967D2;\n",
              "      height: 32px;\n",
              "      padding: 0 0 0 0;\n",
              "      width: 32px;\n",
              "    }\n",
              "\n",
              "    .colab-df-convert:hover {\n",
              "      background-color: #E2EBFA;\n",
              "      box-shadow: 0px 1px 2px rgba(60, 64, 67, 0.3), 0px 1px 3px 1px rgba(60, 64, 67, 0.15);\n",
              "      fill: #174EA6;\n",
              "    }\n",
              "\n",
              "    [theme=dark] .colab-df-convert {\n",
              "      background-color: #3B4455;\n",
              "      fill: #D2E3FC;\n",
              "    }\n",
              "\n",
              "    [theme=dark] .colab-df-convert:hover {\n",
              "      background-color: #434B5C;\n",
              "      box-shadow: 0px 1px 3px 1px rgba(0, 0, 0, 0.15);\n",
              "      filter: drop-shadow(0px 1px 2px rgba(0, 0, 0, 0.3));\n",
              "      fill: #FFFFFF;\n",
              "    }\n",
              "  </style>\n",
              "\n",
              "      <script>\n",
              "        const buttonEl =\n",
              "          document.querySelector('#df-cde9b7c6-c01f-4d14-9e52-512c4fd76b0f button.colab-df-convert');\n",
              "        buttonEl.style.display =\n",
              "          google.colab.kernel.accessAllowed ? 'block' : 'none';\n",
              "\n",
              "        async function convertToInteractive(key) {\n",
              "          const element = document.querySelector('#df-cde9b7c6-c01f-4d14-9e52-512c4fd76b0f');\n",
              "          const dataTable =\n",
              "            await google.colab.kernel.invokeFunction('convertToInteractive',\n",
              "                                                     [key], {});\n",
              "          if (!dataTable) return;\n",
              "\n",
              "          const docLinkHtml = 'Like what you see? Visit the ' +\n",
              "            '<a target=\"_blank\" href=https://colab.research.google.com/notebooks/data_table.ipynb>data table notebook</a>'\n",
              "            + ' to learn more about interactive tables.';\n",
              "          element.innerHTML = '';\n",
              "          dataTable['output_type'] = 'display_data';\n",
              "          await google.colab.output.renderOutput(dataTable, element);\n",
              "          const docLink = document.createElement('div');\n",
              "          docLink.innerHTML = docLinkHtml;\n",
              "          element.appendChild(docLink);\n",
              "        }\n",
              "      </script>\n",
              "    </div>\n",
              "  </div>\n",
              "  "
            ]
          },
          "metadata": {},
          "execution_count": 5
        }
      ],
      "source": [
        "df_label = pd.DataFrame(data_label)\n",
        "df_label.columns = ['Ekspresi', 'Jumlah']\n",
        "df_label"
      ]
    },
    {
      "cell_type": "code",
      "execution_count": 6,
      "metadata": {
        "colab": {
          "base_uri": "https://localhost:8080/",
          "height": 353
        },
        "id": "z3vue9vngYxj",
        "outputId": "af43805d-eb16-4678-d1c8-84c4db5229e3"
      },
      "outputs": [
        {
          "output_type": "stream",
          "name": "stderr",
          "text": [
            "/usr/local/lib/python3.7/dist-packages/seaborn/_decorators.py:43: FutureWarning: Pass the following variables as keyword args: x, y. From version 0.12, the only valid positional argument will be `data`, and passing other arguments without an explicit keyword will result in an error or misinterpretation.\n",
            "  FutureWarning\n"
          ]
        },
        {
          "output_type": "display_data",
          "data": {
            "text/plain": [
              "<Figure size 432x288 with 1 Axes>"
            ],
            "image/png": "[encoded data removed]"
          },
          "metadata": {
            "needs_background": "light"
          }
        }
      ],
      "source": [
        "plt.figure(figsize=(6,4))\n",
        "sns.barplot(df_label.Ekspresi, df_label.Jumlah)\n",
        "plt.title('Class distribution')\n",
        "plt.ylabel('Jumlah', fontsize=12)\n",
        "plt.xlabel('Ekspresi', fontsize=12)\n",
        "plt.show()"
      ]
    },
    {
      "cell_type": "code",
      "execution_count": 7,
      "metadata": {
        "colab": {
          "base_uri": "https://localhost:8080/"
        },
        "id": "vxh1N_I925AG",
        "outputId": "fad7f781-5537-46f0-9181-0a2956f4b6b7"
      },
      "outputs": [
        {
          "output_type": "stream",
          "name": "stdout",
          "text": [
            "jumlah data training sebanyak 28821\n",
            "jumlah data validaiton sebanyak 7066\n"
          ]
        }
      ],
      "source": [
        "# Jumlah data training\n",
        "\n",
        "jumlah_training = 0\n",
        "jumlah_validation = 0 \n",
        "for nama_label in label:\n",
        "    jumlah_train = len(os.listdir(os.path.join('train', nama_label)))\n",
        "    jumlah_val = len(os.listdir(os.path.join('validation', nama_label)))\n",
        "    jumlah_training += jumlah_train\n",
        "    jumlah_validation += jumlah_val\n",
        "\n",
        "print('jumlah data training sebanyak', jumlah_training)\n",
        "print('jumlah data validaiton sebanyak', jumlah_validation)"
      ]
    },
    {
      "cell_type": "code",
      "execution_count": 8,
      "metadata": {
        "colab": {
          "base_uri": "https://localhost:8080/",
          "height": 554
        },
        "id": "FNb9GeDigeZr",
        "outputId": "ede43eeb-ed40-4153-eb3a-3aade2985160"
      },
      "outputs": [
        {
          "output_type": "display_data",
          "data": {
            "text/plain": [
              "<Figure size 1152x720 with 7 Axes>"
            ],
            "image/png": "[encoded data removed]"
          },
          "metadata": {
            "needs_background": "light"
          }
        }
      ],
      "source": [
        "def gambarWajah(gambar, jenis_ekpresi, path):\n",
        "    #pixels, emotion = row['pixels'], emotion_map[row['emotion']]\n",
        "    #img = np.array(pixels.split())\n",
        "    gambar_dir = os.path.join(path, jenis_ekpresi)\n",
        "    gambar_path = os.path.join(gambar_dir, gambar)\n",
        "    img = mpimg.imread(gambar_path)\n",
        "    img = img.reshape(48,48)\n",
        "    image = np.zeros((48,48,3))\n",
        "    image[:,:,0] = img\n",
        "    image[:,:,1] = img\n",
        "    image[:,:,2] = img\n",
        "    return np.array([image.astype(np.uint8), jenis_ekpresi], dtype=object)\n",
        "\n",
        "plt.figure(0, figsize=(16,10))\n",
        "i = 1;\n",
        "for nama_ekspresi in label:\n",
        "    #print(nama_ekspresi)\n",
        "    gambar_dir = os.path.join('train', nama_ekspresi)\n",
        "    list_gambar_ekspresi = os.listdir(gambar_dir)\n",
        "    nama_gambar = list_gambar_ekspresi[0]\n",
        "    img = gambarWajah(nama_gambar, nama_ekspresi, 'train')\n",
        "    plt.subplot(2,4,i)\n",
        "    plt.imshow(img[0])\n",
        "    plt.title(img[1])\n",
        "    i+=1\n",
        "\n",
        "plt.show()  "
      ]
    },
    {
      "cell_type": "code",
      "execution_count": 9,
      "metadata": {
        "colab": {
          "base_uri": "https://localhost:8080/"
        },
        "id": "JNhGBfEIIi6q",
        "outputId": "44335d7e-7237-4ecc-f4ed-194afa2dc873"
      },
      "outputs": [
        {
          "output_type": "stream",
          "name": "stdout",
          "text": [
            "<class 'pandas.core.frame.DataFrame'>\n",
            "RangeIndex: 28821 entries, 0 to 28820\n",
            "Data columns (total 2 columns):\n",
            " #   Column  Non-Null Count  Dtype \n",
            "---  ------  --------------  ----- \n",
            " 0   image   28821 non-null  object\n",
            " 1   label   28821 non-null  object\n",
            "dtypes: object(2)\n",
            "memory usage: 450.5+ KB\n",
            "<class 'pandas.core.frame.DataFrame'>\n",
            "RangeIndex: 7066 entries, 0 to 7065\n",
            "Data columns (total 2 columns):\n",
            " #   Column  Non-Null Count  Dtype \n",
            "---  ------  --------------  ----- \n",
            " 0   image   7066 non-null   object\n",
            " 1   label   7066 non-null   object\n",
            "dtypes: object(2)\n",
            "memory usage: 110.5+ KB\n"
          ]
        }
      ],
      "source": [
        "# Membuat Dataframe\n",
        "\n",
        "data_foto_1 = []\n",
        "nama_class_1 = []\n",
        "for label in os.listdir(os.path.join('train')):\n",
        "  for img in os.listdir(os.path.join('train', label)):\n",
        "    data_foto_1.append(img)\n",
        "    nama_class_1.append(label)\n",
        "\n",
        "training_df = pd.DataFrame({'image' : data_foto_1, 'label' : nama_class_1})\n",
        "\n",
        "data_foto_2 = []\n",
        "nama_class_2 = []\n",
        "for label in os.listdir(os.path.join('validation')):\n",
        "  for img in os.listdir(os.path.join('validation', label)):\n",
        "    data_foto_2.append(img)\n",
        "    nama_class_2.append(label)\n",
        "\n",
        "validation_df = pd.DataFrame({'image' : data_foto_2, 'label' : nama_class_2})\n",
        "\n",
        "training_df.info()\n",
        "validation_df.info()"
      ]
    },
    {
      "cell_type": "code",
      "execution_count": 10,
      "metadata": {
        "id": "AYspHTghA8IR"
      },
      "outputs": [],
      "source": [
        "#initilize parameters\n",
        "jumlah_class = 7\n",
        "#width, height = 48, 48\n",
        "jumlah_epochs = 200\n",
        "ukuran_batch = 64\n",
        "jumlah_features = 64"
      ]
    },
    {
      "cell_type": "code",
      "execution_count": 11,
      "metadata": {
        "id": "L8M5Rc3BgoFB"
      },
      "outputs": [],
      "source": [
        "# Image Data Generator\n",
        "train_datagen = ImageDataGenerator(\n",
        "      # featurewise_center = True,\n",
        "      # featurewise_std_normalization = True,\n",
        "      rotation_range = 10,\n",
        "      width_shift_range = 0.1,\n",
        "      height_shift_range = 0.1,\n",
        "      zoom_range = 0.1,\n",
        "      horizontal_flip = True,\n",
        "      fill_mode = 'nearest'\n",
        ")\n",
        "validation_datagen = ImageDataGenerator(horizontal_flip = True)"
      ]
    },
    {
      "cell_type": "code",
      "execution_count": 12,
      "metadata": {
        "colab": {
          "base_uri": "https://localhost:8080/"
        },
        "id": "SgtX3bXes79N",
        "outputId": "b98516de-58e6-473a-b4ae-9b9777b8f2c6"
      },
      "outputs": [
        {
          "output_type": "stream",
          "name": "stdout",
          "text": [
            "Found 28821 images belonging to 7 classes.\n",
            "Found 7066 images belonging to 7 classes.\n"
          ]
        }
      ],
      "source": [
        "# Preprocess Data Biasa\n",
        "\n",
        "train_generator = train_datagen.flow_from_directory(\n",
        "    \"train/\",\n",
        "    target_size=(48,48),\n",
        "    batch_size = ukuran_batch,\n",
        "    color_mode = 'grayscale',\n",
        "    class_mode = \"categorical\"\n",
        ")\n",
        "\n",
        "validation_generator = validation_datagen.flow_from_directory(\n",
        "    \"validation/\",\n",
        "    target_size=(48,48),\n",
        "    batch_size = ukuran_batch,\n",
        "    color_mode = 'grayscale',\n",
        "    class_mode = \"categorical\"\n",
        ")"
      ]
    },
    {
      "cell_type": "markdown",
      "source": [
        "Model terbaik saat ini dengan akurasi train 0.59 dan akurasi validation 0.60 adalah\n",
        "model = tf.keras.models.Sequential([\n",
        "                                    tf.keras.layers.Conv2D(64, (3,3), activation=\"relu\", input_shape=(48,48,1)),\n",
        "                                    tf.keras.layers.BatchNormalization(),\n",
        "                                    tf.keras.layers.MaxPooling2D(2,2),\n",
        "                                    tf.keras.layers.Conv2D(32, (3,3), activation=\"relu\"),\n",
        "                                    tf.keras.layers.BatchNormalization(),\n",
        "                                    tf.keras.layers.MaxPooling2D(2,2),\n",
        "                                    tf.keras.layers.Conv2D(32, (3,3), activation=\"relu\"),\n",
        "                                    tf.keras.layers.BatchNormalization(),\n",
        "                                    tf.keras.layers.MaxPooling2D(2,2),\n",
        "                                    tf.keras.layers.Conv2D(16, (3,3), activation=\"relu\"),\n",
        "                                    tf.keras.layers.BatchNormalization(),\n",
        "                                    tf.keras.layers.MaxPooling2D(2,2),\n",
        "                                    tf.keras.layers.Flatten(),\n",
        "                                    tf.keras.layers.Dense(128, activation=\"relu\"),\n",
        "                                    tf.keras.layers.BatchNormalization(),\n",
        "                                    tf.keras.layers.Dense(7, activation=\"softmax\")\n",
        "])"
      ],
      "metadata": {
        "id": "fSuK18KBLfjV"
      }
    },
    {
      "cell_type": "code",
      "execution_count": 33,
      "metadata": {
        "colab": {
          "base_uri": "https://localhost:8080/"
        },
        "id": "x4W-Vszz0B2i",
        "outputId": "f86d81dc-e17f-4580-f324-fb694fc14d0e"
      },
      "outputs": [
        {
          "output_type": "stream",
          "name": "stdout",
          "text": [
            "Model: \"sequential_8\"\n",
            "_________________________________________________________________\n",
            " Layer (type)                Output Shape              Param #   \n",
            "=================================================================\n",
            " conv2d_29 (Conv2D)          (None, 46, 46, 512)       5120      \n",
            "                                                                 \n",
            " batch_normalization_51 (Bat  (None, 46, 46, 512)      2048      \n",
            " chNormalization)                                                \n",
            "                                                                 \n",
            " max_pooling2d_29 (MaxPoolin  (None, 23, 23, 512)      0         \n",
            " g2D)                                                            \n",
            "                                                                 \n",
            " conv2d_30 (Conv2D)          (None, 23, 23, 256)       1179904   \n",
            "                                                                 \n",
            " batch_normalization_52 (Bat  (None, 23, 23, 256)      1024      \n",
            " chNormalization)                                                \n",
            "                                                                 \n",
            " max_pooling2d_30 (MaxPoolin  (None, 11, 11, 256)      0         \n",
            " g2D)                                                            \n",
            "                                                                 \n",
            " conv2d_31 (Conv2D)          (None, 11, 11, 256)       590080    \n",
            "                                                                 \n",
            " batch_normalization_53 (Bat  (None, 11, 11, 256)      1024      \n",
            " chNormalization)                                                \n",
            "                                                                 \n",
            " max_pooling2d_31 (MaxPoolin  (None, 5, 5, 256)        0         \n",
            " g2D)                                                            \n",
            "                                                                 \n",
            " conv2d_32 (Conv2D)          (None, 5, 5, 128)         295040    \n",
            "                                                                 \n",
            " batch_normalization_54 (Bat  (None, 5, 5, 128)        512       \n",
            " chNormalization)                                                \n",
            "                                                                 \n",
            " max_pooling2d_32 (MaxPoolin  (None, 2, 2, 128)        0         \n",
            " g2D)                                                            \n",
            "                                                                 \n",
            " flatten_8 (Flatten)         (None, 512)               0         \n",
            "                                                                 \n",
            " dense_30 (Dense)            (None, 128)               65664     \n",
            "                                                                 \n",
            " batch_normalization_55 (Bat  (None, 128)              512       \n",
            " chNormalization)                                                \n",
            "                                                                 \n",
            " dense_31 (Dense)            (None, 64)                8256      \n",
            "                                                                 \n",
            " batch_normalization_56 (Bat  (None, 64)               256       \n",
            " chNormalization)                                                \n",
            "                                                                 \n",
            " dense_32 (Dense)            (None, 32)                2080      \n",
            "                                                                 \n",
            " batch_normalization_57 (Bat  (None, 32)               128       \n",
            " chNormalization)                                                \n",
            "                                                                 \n",
            " dense_33 (Dense)            (None, 7)                 231       \n",
            "                                                                 \n",
            "=================================================================\n",
            "Total params: 2,151,879\n",
            "Trainable params: 2,149,127\n",
            "Non-trainable params: 2,752\n",
            "_________________________________________________________________\n"
          ]
        }
      ],
      "source": [
        "model = tf.keras.models.Sequential([\n",
        "                                    tf.keras.layers.Conv2D(512, (3,3), activation=\"relu\", input_shape=(48,48,1)),\n",
        "                                    tf.keras.layers.BatchNormalization(),\n",
        "                                    tf.keras.layers.MaxPooling2D(2,2),\n",
        "                                    # tf.keras.layers.Dropout(0.2),\n",
        "                                    tf.keras.layers.Conv2D(256, (3,3), activation=\"relu\", padding='same'),\n",
        "                                    tf.keras.layers.BatchNormalization(),\n",
        "                                    tf.keras.layers.MaxPooling2D(2,2),\n",
        "                                    # tf.keras.layers.Dropout(0.2),\n",
        "                                    tf.keras.layers.Conv2D(256, (3,3), activation=\"relu\", padding='same'),\n",
        "                                    tf.keras.layers.BatchNormalization(),\n",
        "                                    tf.keras.layers.MaxPooling2D(2,2),\n",
        "                                    # tf.keras.layers.Dropout(0.2),\n",
        "                                    tf.keras.layers.Conv2D(128, (3,3), activation=\"relu\", padding='same'),\n",
        "                                    tf.keras.layers.BatchNormalization(),\n",
        "                                    tf.keras.layers.MaxPooling2D(2,2),\n",
        "                                    # tf.keras.layers.Dropout(0.2),\n",
        "                                    tf.keras.layers.Flatten(),\n",
        "                                    tf.keras.layers.Dense(128, activation=\"relu\"),\n",
        "                                    tf.keras.layers.BatchNormalization(),\n",
        "                                    # tf.keras.layers.Dropout(0.2),\n",
        "                                    tf.keras.layers.Dense(64, activation=\"relu\"),\n",
        "                                    tf.keras.layers.BatchNormalization(),\n",
        "                                    # tf.keras.layers.Dropout(0.2),\n",
        "                                    tf.keras.layers.Dense(32, activation=\"relu\"),\n",
        "                                    tf.keras.layers.BatchNormalization(),\n",
        "                                    # tf.keras.layers.Dropout(0.2),\n",
        "                                    tf.keras.layers.Dense(7, activation=\"softmax\")\n",
        "])\n",
        "\n",
        "model.summary()"
      ]
    },
    {
      "cell_type": "code",
      "execution_count": 34,
      "metadata": {
        "colab": {
          "base_uri": "https://localhost:8080/"
        },
        "id": "NWl9RxGT0La9",
        "outputId": "b48edd66-97aa-49d9-e892-9e9e401a37c1"
      },
      "outputs": [
        {
          "output_type": "stream",
          "name": "stderr",
          "text": [
            "/usr/local/lib/python3.7/dist-packages/keras/optimizer_v2/adam.py:105: UserWarning: The `lr` argument is deprecated, use `learning_rate` instead.\n",
            "  super(Adam, self).__init__(name, **kwargs)\n"
          ]
        }
      ],
      "source": [
        "# Compile model\n",
        "\n",
        "model.compile(optimizer=Adam(lr=0.0001), loss=\"categorical_crossentropy\", metrics = [\"accuracy\"])"
      ]
    },
    {
      "cell_type": "code",
      "execution_count": 35,
      "metadata": {
        "colab": {
          "base_uri": "https://localhost:8080/"
        },
        "id": "80GtPHS70OQe",
        "outputId": "153ab839-9de4-4450-bd1b-27038f3d7f66"
      },
      "outputs": [
        {
          "output_type": "stream",
          "name": "stdout",
          "text": [
            "Epoch 1/200\n",
            "450/450 [==============================] - 37s 76ms/step - loss: 2.0678 - accuracy: 0.2190 - val_loss: 1.8933 - val_accuracy: 0.2673\n",
            "Epoch 2/200\n",
            "450/450 [==============================] - 33s 72ms/step - loss: 1.8111 - accuracy: 0.2986 - val_loss: 1.7461 - val_accuracy: 0.3388\n",
            "Epoch 3/200\n",
            "450/450 [==============================] - 33s 74ms/step - loss: 1.6648 - accuracy: 0.3703 - val_loss: 1.6360 - val_accuracy: 0.3900\n",
            "Epoch 4/200\n",
            "450/450 [==============================] - 33s 73ms/step - loss: 1.5569 - accuracy: 0.4124 - val_loss: 1.5202 - val_accuracy: 0.4332\n",
            "Epoch 5/200\n",
            "450/450 [==============================] - 33s 73ms/step - loss: 1.4756 - accuracy: 0.4395 - val_loss: 1.4466 - val_accuracy: 0.4602\n",
            "Epoch 6/200\n",
            "450/450 [==============================] - 33s 73ms/step - loss: 1.4189 - accuracy: 0.4658 - val_loss: 1.4351 - val_accuracy: 0.4655\n",
            "Epoch 7/200\n",
            "450/450 [==============================] - 33s 73ms/step - loss: 1.3578 - accuracy: 0.4867 - val_loss: 1.4403 - val_accuracy: 0.4475\n",
            "Epoch 8/200\n",
            "450/450 [==============================] - 33s 73ms/step - loss: 1.3233 - accuracy: 0.5014 - val_loss: 1.2883 - val_accuracy: 0.5178\n",
            "Epoch 9/200\n",
            "450/450 [==============================] - 33s 73ms/step - loss: 1.2851 - accuracy: 0.5172 - val_loss: 1.3604 - val_accuracy: 0.4823\n",
            "Epoch 10/200\n",
            "450/450 [==============================] - 33s 73ms/step - loss: 1.2510 - accuracy: 0.5301 - val_loss: 1.3576 - val_accuracy: 0.5023\n",
            "Epoch 11/200\n",
            "450/450 [==============================] - 33s 73ms/step - loss: 1.2219 - accuracy: 0.5411 - val_loss: 1.2143 - val_accuracy: 0.5481\n",
            "Epoch 12/200\n",
            "450/450 [==============================] - 33s 73ms/step - loss: 1.1951 - accuracy: 0.5501 - val_loss: 1.1784 - val_accuracy: 0.5524\n",
            "Epoch 13/200\n",
            "450/450 [==============================] - 33s 73ms/step - loss: 1.1732 - accuracy: 0.5581 - val_loss: 1.1592 - val_accuracy: 0.5648\n",
            "Epoch 14/200\n",
            "450/450 [==============================] - 33s 73ms/step - loss: 1.1605 - accuracy: 0.5624 - val_loss: 1.2125 - val_accuracy: 0.5395\n",
            "Epoch 15/200\n",
            "450/450 [==============================] - 33s 73ms/step - loss: 1.1359 - accuracy: 0.5723 - val_loss: 1.2284 - val_accuracy: 0.5529\n",
            "Epoch 16/200\n",
            "450/450 [==============================] - 33s 73ms/step - loss: 1.1257 - accuracy: 0.5744 - val_loss: 1.1702 - val_accuracy: 0.5606\n",
            "Epoch 17/200\n",
            "450/450 [==============================] - 33s 73ms/step - loss: 1.1021 - accuracy: 0.5857 - val_loss: 1.1766 - val_accuracy: 0.5702\n",
            "Epoch 18/200\n",
            "450/450 [==============================] - 33s 73ms/step - loss: 1.0922 - accuracy: 0.5895 - val_loss: 1.1373 - val_accuracy: 0.5679\n",
            "Epoch 19/200\n",
            "450/450 [==============================] - 33s 73ms/step - loss: 1.0796 - accuracy: 0.5915 - val_loss: 1.1592 - val_accuracy: 0.5691\n",
            "Epoch 20/200\n",
            "450/450 [==============================] - 33s 73ms/step - loss: 1.0681 - accuracy: 0.5943 - val_loss: 1.1260 - val_accuracy: 0.5759\n",
            "Epoch 21/200\n",
            "450/450 [==============================] - 33s 73ms/step - loss: 1.0555 - accuracy: 0.6041 - val_loss: 1.1050 - val_accuracy: 0.5941\n",
            "Epoch 22/200\n",
            "450/450 [==============================] - 33s 73ms/step - loss: 1.0494 - accuracy: 0.6063 - val_loss: 1.2791 - val_accuracy: 0.5423\n",
            "Epoch 23/200\n",
            "450/450 [==============================] - 33s 73ms/step - loss: 1.0341 - accuracy: 0.6084 - val_loss: 1.1580 - val_accuracy: 0.5655\n",
            "Epoch 24/200\n",
            "450/450 [==============================] - 33s 73ms/step - loss: 1.0234 - accuracy: 0.6170 - val_loss: 1.0644 - val_accuracy: 0.6022\n",
            "Epoch 25/200\n",
            "450/450 [==============================] - 33s 73ms/step - loss: 1.0139 - accuracy: 0.6185 - val_loss: 1.1152 - val_accuracy: 0.5781\n",
            "Epoch 26/200\n",
            "450/450 [==============================] - 33s 73ms/step - loss: 1.0040 - accuracy: 0.6216 - val_loss: 1.3066 - val_accuracy: 0.5103\n",
            "Epoch 27/200\n",
            "450/450 [==============================] - 33s 73ms/step - loss: 0.9885 - accuracy: 0.6280 - val_loss: 1.0867 - val_accuracy: 0.5979\n",
            "Epoch 28/200\n",
            "450/450 [==============================] - 33s 73ms/step - loss: 0.9839 - accuracy: 0.6290 - val_loss: 1.0937 - val_accuracy: 0.5903\n",
            "Epoch 29/200\n",
            "450/450 [==============================] - 33s 73ms/step - loss: 0.9748 - accuracy: 0.6349 - val_loss: 1.0796 - val_accuracy: 0.5901\n",
            "Epoch 30/200\n",
            "450/450 [==============================] - 33s 73ms/step - loss: 0.9622 - accuracy: 0.6378 - val_loss: 1.0713 - val_accuracy: 0.6060\n",
            "Epoch 31/200\n",
            "450/450 [==============================] - 33s 73ms/step - loss: 0.9554 - accuracy: 0.6417 - val_loss: 1.1548 - val_accuracy: 0.5668\n",
            "Epoch 32/200\n",
            "450/450 [==============================] - 33s 73ms/step - loss: 0.9479 - accuracy: 0.6440 - val_loss: 1.1288 - val_accuracy: 0.5773\n",
            "Epoch 33/200\n",
            "450/450 [==============================] - 33s 73ms/step - loss: 0.9391 - accuracy: 0.6503 - val_loss: 1.1553 - val_accuracy: 0.5750\n",
            "Epoch 34/200\n",
            "450/450 [==============================] - 33s 73ms/step - loss: 0.9301 - accuracy: 0.6519 - val_loss: 1.0296 - val_accuracy: 0.6179\n",
            "Epoch 35/200\n",
            "450/450 [==============================] - 33s 73ms/step - loss: 0.9241 - accuracy: 0.6531 - val_loss: 1.1069 - val_accuracy: 0.5826\n",
            "Epoch 36/200\n",
            "450/450 [==============================] - 33s 73ms/step - loss: 0.9172 - accuracy: 0.6577 - val_loss: 1.0850 - val_accuracy: 0.5989\n",
            "Epoch 37/200\n",
            "450/450 [==============================] - 33s 73ms/step - loss: 0.9084 - accuracy: 0.6603 - val_loss: 1.0498 - val_accuracy: 0.6151\n",
            "Epoch 38/200\n",
            "450/450 [==============================] - 33s 73ms/step - loss: 0.9018 - accuracy: 0.6668 - val_loss: 1.0416 - val_accuracy: 0.6192\n",
            "Epoch 39/200\n",
            "450/450 [==============================] - 33s 73ms/step - loss: 0.8926 - accuracy: 0.6699 - val_loss: 1.1123 - val_accuracy: 0.5931\n",
            "Epoch 40/200\n",
            "450/450 [==============================] - 33s 72ms/step - loss: 0.8824 - accuracy: 0.6715 - val_loss: 1.1447 - val_accuracy: 0.5761\n",
            "Epoch 41/200\n",
            "450/450 [==============================] - 33s 72ms/step - loss: 0.8824 - accuracy: 0.6706 - val_loss: 1.1703 - val_accuracy: 0.5669\n",
            "Epoch 42/200\n",
            "450/450 [==============================] - 32s 72ms/step - loss: 0.8749 - accuracy: 0.6735 - val_loss: 1.1738 - val_accuracy: 0.5624\n",
            "Epoch 43/200\n",
            "450/450 [==============================] - 33s 72ms/step - loss: 0.8696 - accuracy: 0.6782 - val_loss: 1.0210 - val_accuracy: 0.6240\n",
            "Epoch 44/200\n",
            "450/450 [==============================] - 32s 72ms/step - loss: 0.8584 - accuracy: 0.6798 - val_loss: 1.1234 - val_accuracy: 0.5906\n",
            "Epoch 45/200\n",
            "450/450 [==============================] - 33s 72ms/step - loss: 0.8573 - accuracy: 0.6804 - val_loss: 1.1126 - val_accuracy: 0.6136\n",
            "Epoch 46/200\n",
            "450/450 [==============================] - 32s 72ms/step - loss: 0.8516 - accuracy: 0.6799 - val_loss: 1.0593 - val_accuracy: 0.6160\n",
            "Epoch 47/200\n",
            "450/450 [==============================] - 32s 72ms/step - loss: 0.8448 - accuracy: 0.6869 - val_loss: 0.9986 - val_accuracy: 0.6364\n",
            "Epoch 48/200\n",
            "450/450 [==============================] - 33s 72ms/step - loss: 0.8342 - accuracy: 0.6911 - val_loss: 1.0238 - val_accuracy: 0.6311\n",
            "Epoch 49/200\n",
            "450/450 [==============================] - 32s 72ms/step - loss: 0.8325 - accuracy: 0.6927 - val_loss: 0.9878 - val_accuracy: 0.6402\n",
            "Epoch 50/200\n",
            "450/450 [==============================] - 33s 72ms/step - loss: 0.8254 - accuracy: 0.6933 - val_loss: 1.0284 - val_accuracy: 0.6291\n",
            "Epoch 51/200\n",
            "450/450 [==============================] - 32s 72ms/step - loss: 0.8141 - accuracy: 0.6977 - val_loss: 1.1744 - val_accuracy: 0.5742\n",
            "Epoch 52/200\n",
            "450/450 [==============================] - 33s 72ms/step - loss: 0.8162 - accuracy: 0.6966 - val_loss: 1.1251 - val_accuracy: 0.5882\n",
            "Epoch 53/200\n",
            "450/450 [==============================] - 33s 72ms/step - loss: 0.8038 - accuracy: 0.7024 - val_loss: 1.0057 - val_accuracy: 0.6388\n",
            "Epoch 54/200\n",
            "450/450 [==============================] - 33s 72ms/step - loss: 0.8072 - accuracy: 0.6986 - val_loss: 1.2140 - val_accuracy: 0.5944\n",
            "Epoch 55/200\n",
            "450/450 [==============================] - 33s 72ms/step - loss: 0.7965 - accuracy: 0.7056 - val_loss: 1.0243 - val_accuracy: 0.6272\n",
            "Epoch 56/200\n",
            "450/450 [==============================] - 32s 72ms/step - loss: 0.7930 - accuracy: 0.7051 - val_loss: 1.0654 - val_accuracy: 0.6134\n",
            "Epoch 57/200\n",
            "450/450 [==============================] - 32s 72ms/step - loss: 0.7832 - accuracy: 0.7081 - val_loss: 1.0537 - val_accuracy: 0.6352\n",
            "Epoch 58/200\n",
            "450/450 [==============================] - 33s 72ms/step - loss: 0.7866 - accuracy: 0.7079 - val_loss: 1.0158 - val_accuracy: 0.6336\n",
            "Epoch 59/200\n",
            "450/450 [==============================] - 32s 72ms/step - loss: 0.7747 - accuracy: 0.7117 - val_loss: 1.0680 - val_accuracy: 0.6245\n",
            "Epoch 60/200\n",
            "450/450 [==============================] - 33s 72ms/step - loss: 0.7674 - accuracy: 0.7169 - val_loss: 1.0852 - val_accuracy: 0.6211\n",
            "Epoch 61/200\n",
            "450/450 [==============================] - 32s 72ms/step - loss: 0.7646 - accuracy: 0.7183 - val_loss: 1.1776 - val_accuracy: 0.5790\n",
            "Epoch 62/200\n",
            "450/450 [==============================] - 32s 72ms/step - loss: 0.7622 - accuracy: 0.7150 - val_loss: 1.0460 - val_accuracy: 0.6302\n",
            "Epoch 63/200\n",
            "450/450 [==============================] - 33s 72ms/step - loss: 0.7537 - accuracy: 0.7219 - val_loss: 1.0463 - val_accuracy: 0.6294\n",
            "Epoch 64/200\n",
            "450/450 [==============================] - 33s 72ms/step - loss: 0.7495 - accuracy: 0.7212 - val_loss: 1.0734 - val_accuracy: 0.6265\n",
            "Epoch 65/200\n",
            "450/450 [==============================] - 33s 72ms/step - loss: 0.7410 - accuracy: 0.7266 - val_loss: 1.0853 - val_accuracy: 0.6281\n",
            "Epoch 66/200\n",
            "450/450 [==============================] - 32s 72ms/step - loss: 0.7378 - accuracy: 0.7256 - val_loss: 1.0693 - val_accuracy: 0.6172\n",
            "Epoch 67/200\n",
            "450/450 [==============================] - 32s 72ms/step - loss: 0.7351 - accuracy: 0.7276 - val_loss: 1.0329 - val_accuracy: 0.6346\n",
            "Epoch 68/200\n",
            "450/450 [==============================] - 33s 72ms/step - loss: 0.7290 - accuracy: 0.7301 - val_loss: 1.0492 - val_accuracy: 0.6349\n",
            "Epoch 69/200\n",
            "450/450 [==============================] - 32s 72ms/step - loss: 0.7244 - accuracy: 0.7327 - val_loss: 1.0314 - val_accuracy: 0.6438\n",
            "Epoch 70/200\n",
            "450/450 [==============================] - 33s 72ms/step - loss: 0.7187 - accuracy: 0.7368 - val_loss: 1.0594 - val_accuracy: 0.6248\n",
            "Epoch 71/200\n",
            "450/450 [==============================] - 32s 72ms/step - loss: 0.7112 - accuracy: 0.7363 - val_loss: 1.0699 - val_accuracy: 0.6272\n",
            "Epoch 72/200\n",
            "450/450 [==============================] - 33s 72ms/step - loss: 0.7193 - accuracy: 0.7337 - val_loss: 1.0793 - val_accuracy: 0.6305\n",
            "Epoch 73/200\n",
            "450/450 [==============================] - 33s 73ms/step - loss: 0.7083 - accuracy: 0.7357 - val_loss: 1.1098 - val_accuracy: 0.6145\n",
            "Epoch 74/200\n",
            "450/450 [==============================] - 33s 73ms/step - loss: 0.7051 - accuracy: 0.7387 - val_loss: 1.0469 - val_accuracy: 0.6377\n",
            "Epoch 75/200\n",
            "450/450 [==============================] - 33s 73ms/step - loss: 0.6976 - accuracy: 0.7429 - val_loss: 1.0522 - val_accuracy: 0.6384\n",
            "Epoch 76/200\n",
            "450/450 [==============================] - 33s 72ms/step - loss: 0.6943 - accuracy: 0.7449 - val_loss: 1.0531 - val_accuracy: 0.6397\n",
            "Epoch 77/200\n",
            "450/450 [==============================] - 33s 72ms/step - loss: 0.6946 - accuracy: 0.7446 - val_loss: 1.1496 - val_accuracy: 0.6002\n",
            "Epoch 78/200\n",
            "450/450 [==============================] - 33s 72ms/step - loss: 0.6837 - accuracy: 0.7484 - val_loss: 1.0380 - val_accuracy: 0.6446\n",
            "Epoch 79/200\n",
            "450/450 [==============================] - 33s 72ms/step - loss: 0.6809 - accuracy: 0.7468 - val_loss: 1.0730 - val_accuracy: 0.6301\n",
            "Epoch 80/200\n",
            "450/450 [==============================] - 33s 72ms/step - loss: 0.6765 - accuracy: 0.7470 - val_loss: 1.0926 - val_accuracy: 0.6271\n",
            "Epoch 81/200\n",
            "450/450 [==============================] - 33s 72ms/step - loss: 0.6729 - accuracy: 0.7524 - val_loss: 1.0928 - val_accuracy: 0.6359\n",
            "Epoch 82/200\n",
            "450/450 [==============================] - 33s 73ms/step - loss: 0.6659 - accuracy: 0.7538 - val_loss: 1.0940 - val_accuracy: 0.6279\n",
            "Epoch 83/200\n",
            "450/450 [==============================] - 33s 73ms/step - loss: 0.6635 - accuracy: 0.7547 - val_loss: 1.1403 - val_accuracy: 0.6117\n",
            "Epoch 84/200\n",
            "450/450 [==============================] - 33s 72ms/step - loss: 0.6640 - accuracy: 0.7543 - val_loss: 1.3386 - val_accuracy: 0.5613\n",
            "Epoch 85/200\n",
            "450/450 [==============================] - 33s 73ms/step - loss: 0.6521 - accuracy: 0.7598 - val_loss: 1.1859 - val_accuracy: 0.5968\n",
            "Epoch 86/200\n",
            "450/450 [==============================] - 33s 73ms/step - loss: 0.6571 - accuracy: 0.7561 - val_loss: 1.1397 - val_accuracy: 0.6132\n",
            "Epoch 87/200\n",
            "450/450 [==============================] - 33s 73ms/step - loss: 0.6462 - accuracy: 0.7618 - val_loss: 1.2091 - val_accuracy: 0.5943\n",
            "Epoch 88/200\n",
            "450/450 [==============================] - 33s 72ms/step - loss: 0.6550 - accuracy: 0.7571 - val_loss: 1.0534 - val_accuracy: 0.6469\n",
            "Epoch 89/200\n",
            "450/450 [==============================] - 33s 72ms/step - loss: 0.6447 - accuracy: 0.7625 - val_loss: 1.0693 - val_accuracy: 0.6439\n",
            "Epoch 90/200\n",
            "450/450 [==============================] - 33s 72ms/step - loss: 0.6471 - accuracy: 0.7640 - val_loss: 1.0710 - val_accuracy: 0.6419\n",
            "Epoch 91/200\n",
            "450/450 [==============================] - 33s 72ms/step - loss: 0.6341 - accuracy: 0.7688 - val_loss: 1.1309 - val_accuracy: 0.6278\n",
            "Epoch 92/200\n",
            "450/450 [==============================] - 33s 72ms/step - loss: 0.6314 - accuracy: 0.7644 - val_loss: 1.1021 - val_accuracy: 0.6349\n",
            "Epoch 93/200\n",
            "450/450 [==============================] - 33s 72ms/step - loss: 0.6298 - accuracy: 0.7690 - val_loss: 1.1144 - val_accuracy: 0.6303\n",
            "Epoch 94/200\n",
            "450/450 [==============================] - 33s 72ms/step - loss: 0.6170 - accuracy: 0.7725 - val_loss: 1.2042 - val_accuracy: 0.6206\n",
            "Epoch 95/200\n",
            "450/450 [==============================] - 33s 72ms/step - loss: 0.6186 - accuracy: 0.7702 - val_loss: 1.0659 - val_accuracy: 0.6441\n",
            "Epoch 96/200\n",
            "450/450 [==============================] - 32s 72ms/step - loss: 0.6135 - accuracy: 0.7739 - val_loss: 1.3443 - val_accuracy: 0.5587\n",
            "Epoch 97/200\n",
            "450/450 [==============================] - 32s 72ms/step - loss: 0.6183 - accuracy: 0.7713 - val_loss: 1.0930 - val_accuracy: 0.6410\n",
            "Epoch 98/200\n",
            "450/450 [==============================] - 33s 72ms/step - loss: 0.6004 - accuracy: 0.7782 - val_loss: 1.1408 - val_accuracy: 0.6267\n",
            "Epoch 99/200\n",
            "450/450 [==============================] - 33s 72ms/step - loss: 0.6082 - accuracy: 0.7762 - val_loss: 1.0726 - val_accuracy: 0.6465\n",
            "Epoch 100/200\n",
            "450/450 [==============================] - 32s 72ms/step - loss: 0.6058 - accuracy: 0.7753 - val_loss: 1.0939 - val_accuracy: 0.6378\n",
            "Epoch 101/200\n",
            "450/450 [==============================] - 33s 72ms/step - loss: 0.5986 - accuracy: 0.7797 - val_loss: 1.0975 - val_accuracy: 0.6487\n",
            "Epoch 102/200\n",
            "450/450 [==============================] - 33s 72ms/step - loss: 0.5889 - accuracy: 0.7842 - val_loss: 1.0986 - val_accuracy: 0.6509\n",
            "Epoch 103/200\n",
            "450/450 [==============================] - 33s 72ms/step - loss: 0.5968 - accuracy: 0.7795 - val_loss: 1.1459 - val_accuracy: 0.6329\n",
            "Epoch 104/200\n",
            "450/450 [==============================] - 33s 72ms/step - loss: 0.5885 - accuracy: 0.7834 - val_loss: 1.1578 - val_accuracy: 0.6386\n",
            "Epoch 105/200\n",
            "450/450 [==============================] - 33s 73ms/step - loss: 0.5786 - accuracy: 0.7864 - val_loss: 1.1497 - val_accuracy: 0.6340\n",
            "Epoch 106/200\n",
            "450/450 [==============================] - 33s 72ms/step - loss: 0.5766 - accuracy: 0.7866 - val_loss: 1.0709 - val_accuracy: 0.6568\n",
            "Epoch 107/200\n",
            "450/450 [==============================] - 33s 72ms/step - loss: 0.5734 - accuracy: 0.7893 - val_loss: 1.1801 - val_accuracy: 0.6295\n",
            "Epoch 108/200\n",
            "450/450 [==============================] - 33s 72ms/step - loss: 0.5753 - accuracy: 0.7905 - val_loss: 1.2122 - val_accuracy: 0.6173\n",
            "Epoch 109/200\n",
            "450/450 [==============================] - 33s 73ms/step - loss: 0.5755 - accuracy: 0.7866 - val_loss: 1.1738 - val_accuracy: 0.6231\n",
            "Epoch 110/200\n",
            "450/450 [==============================] - 33s 72ms/step - loss: 0.5704 - accuracy: 0.7914 - val_loss: 1.1589 - val_accuracy: 0.6400\n",
            "Epoch 111/200\n",
            "450/450 [==============================] - 33s 72ms/step - loss: 0.5674 - accuracy: 0.7903 - val_loss: 1.4098 - val_accuracy: 0.5713\n",
            "Epoch 112/200\n",
            "450/450 [==============================] - 33s 72ms/step - loss: 0.5640 - accuracy: 0.7927 - val_loss: 1.3933 - val_accuracy: 0.5705\n",
            "Epoch 113/200\n",
            "450/450 [==============================] - 33s 73ms/step - loss: 0.5577 - accuracy: 0.7958 - val_loss: 1.1144 - val_accuracy: 0.6550\n",
            "Epoch 114/200\n",
            "450/450 [==============================] - 33s 72ms/step - loss: 0.5610 - accuracy: 0.7941 - val_loss: 1.2591 - val_accuracy: 0.6033\n",
            "Epoch 115/200\n",
            "450/450 [==============================] - 33s 72ms/step - loss: 0.5521 - accuracy: 0.7959 - val_loss: 1.2342 - val_accuracy: 0.6122\n",
            "Epoch 116/200\n",
            "450/450 [==============================] - 33s 72ms/step - loss: 0.5492 - accuracy: 0.7981 - val_loss: 1.1018 - val_accuracy: 0.6589\n",
            "Epoch 117/200\n",
            "450/450 [==============================] - 33s 72ms/step - loss: 0.5493 - accuracy: 0.7972 - val_loss: 1.1668 - val_accuracy: 0.6453\n",
            "Epoch 118/200\n",
            "450/450 [==============================] - 33s 72ms/step - loss: 0.5479 - accuracy: 0.7978 - val_loss: 1.2614 - val_accuracy: 0.6182\n",
            "Epoch 119/200\n",
            "450/450 [==============================] - 33s 72ms/step - loss: 0.5441 - accuracy: 0.8007 - val_loss: 1.2555 - val_accuracy: 0.6119\n",
            "Epoch 120/200\n",
            "450/450 [==============================] - 33s 72ms/step - loss: 0.5366 - accuracy: 0.8045 - val_loss: 1.1183 - val_accuracy: 0.6557\n",
            "Epoch 121/200\n",
            "450/450 [==============================] - 33s 72ms/step - loss: 0.5402 - accuracy: 0.8018 - val_loss: 1.1582 - val_accuracy: 0.6410\n",
            "Epoch 122/200\n",
            "450/450 [==============================] - 33s 72ms/step - loss: 0.5364 - accuracy: 0.8026 - val_loss: 1.3366 - val_accuracy: 0.5917\n",
            "Epoch 123/200\n",
            "450/450 [==============================] - 33s 72ms/step - loss: 0.5265 - accuracy: 0.8095 - val_loss: 1.1557 - val_accuracy: 0.6444\n",
            "Epoch 124/200\n",
            "450/450 [==============================] - 33s 72ms/step - loss: 0.5261 - accuracy: 0.8075 - val_loss: 1.1567 - val_accuracy: 0.6485\n",
            "Epoch 125/200\n",
            "450/450 [==============================] - 33s 72ms/step - loss: 0.5283 - accuracy: 0.8054 - val_loss: 1.2113 - val_accuracy: 0.6294\n",
            "Epoch 126/200\n",
            "450/450 [==============================] - 33s 72ms/step - loss: 0.5284 - accuracy: 0.8041 - val_loss: 1.1552 - val_accuracy: 0.6407\n",
            "Epoch 127/200\n",
            "450/450 [==============================] - 33s 72ms/step - loss: 0.5176 - accuracy: 0.8095 - val_loss: 1.1164 - val_accuracy: 0.6637\n",
            "Epoch 128/200\n",
            "450/450 [==============================] - 33s 72ms/step - loss: 0.5240 - accuracy: 0.8079 - val_loss: 1.1699 - val_accuracy: 0.6477\n",
            "Epoch 129/200\n",
            "450/450 [==============================] - 33s 72ms/step - loss: 0.5150 - accuracy: 0.8102 - val_loss: 1.1206 - val_accuracy: 0.6516\n",
            "Epoch 130/200\n",
            "450/450 [==============================] - 33s 72ms/step - loss: 0.5136 - accuracy: 0.8123 - val_loss: 1.1293 - val_accuracy: 0.6551\n",
            "Epoch 131/200\n",
            "450/450 [==============================] - 33s 72ms/step - loss: 0.4937 - accuracy: 0.8218 - val_loss: 1.2026 - val_accuracy: 0.6386\n",
            "Epoch 132/200\n",
            "450/450 [==============================] - 33s 72ms/step - loss: 0.5041 - accuracy: 0.8154 - val_loss: 1.1382 - val_accuracy: 0.6523\n",
            "Epoch 133/200\n",
            "450/450 [==============================] - 33s 72ms/step - loss: 0.5058 - accuracy: 0.8174 - val_loss: 1.2415 - val_accuracy: 0.6339\n",
            "Epoch 134/200\n",
            "450/450 [==============================] - 33s 72ms/step - loss: 0.5038 - accuracy: 0.8138 - val_loss: 1.2139 - val_accuracy: 0.6411\n"
          ]
        }
      ],
      "source": [
        "# Fit model\n",
        "\n",
        "history = model.fit(\n",
        "    train_generator, \n",
        "    validation_data = validation_generator,\n",
        "    epochs=jumlah_epochs, \n",
        "    steps_per_epoch = jumlah_training/ukuran_batch,\n",
        "    validation_steps = jumlah_validation/ukuran_batch,\n",
        "    verbose = 1,\n",
        "    callbacks = tf.keras.callbacks.EarlyStopping(monitor='loss', patience=3)\n",
        ")"
      ]
    },
    {
      "cell_type": "code",
      "execution_count": 36,
      "metadata": {
        "id": "6VZEbkXC1UQg",
        "colab": {
          "base_uri": "https://localhost:8080/",
          "height": 545
        },
        "outputId": "88990b0e-1e14-46a9-d638-2f6b0c5938fd"
      },
      "outputs": [
        {
          "output_type": "display_data",
          "data": {
            "text/plain": [
              "<Figure size 432x288 with 1 Axes>"
            ],
            "image/png": "[encoded data removed]"
          },
          "metadata": {
            "needs_background": "light"
          }
        },
        {
          "output_type": "display_data",
          "data": {
            "text/plain": [
              "<Figure size 432x288 with 1 Axes>"
            ],
            "image/png": "[encoded data removed]"
          },
          "metadata": {
            "needs_background": "light"
          }
        }
      ],
      "source": [
        "acc = history.history['accuracy']\n",
        "val_acc = history.history['val_accuracy']\n",
        "loss = history.history['loss']\n",
        "val_loss = history.history['val_loss']\n",
        "\n",
        "epochs = range(len(acc))\n",
        "\n",
        "plt.plot(epochs, acc, 'r', label='Training accuracy')\n",
        "plt.plot(epochs, val_acc, 'b', label='Validation accuracy')\n",
        "plt.title('Training and validation accuracy')\n",
        "plt.legend()\n",
        "\n",
        "plt.figure()\n",
        "\n",
        "plt.plot(epochs, loss, 'r', label='Training Loss')\n",
        "plt.plot(epochs, val_loss, 'b', label='Validation Loss')\n",
        "plt.title('Training and validation loss')\n",
        "plt.legend()\n",
        "\n",
        "plt.show()"
      ]
    },
    {
      "cell_type": "code",
      "source": [
        ""
      ],
      "metadata": {
        "id": "GW9qbho6UWFj"
      },
      "execution_count": null,
      "outputs": []
    }
  ],
  "metadata": {
    "colab": {
      "collapsed_sections": [],
      "name": "Project Akhir MLT.ipynb",
      "provenance": []
    },
    "kernelspec": {
      "display_name": "Python 3",
      "name": "python3"
    },
    "language_info": {
      "name": "python"
    },
    "accelerator": "GPU",
    "gpuClass": "standard"
  },
  "nbformat": 4,
  "nbformat_minor": 0
}