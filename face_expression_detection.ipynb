{
  "cells": [
    {
      "cell_type": "code",
      "execution_count": 1,
      "metadata": {
        "colab": {
          "base_uri": "https://localhost:8080/"
        },
        "id": "N3O33hnwzprk",
        "outputId": "c86eb3bf-848f-468e-fb3d-11c59e1d8ca6"
      },
      "outputs": [
        {
          "output_type": "stream",
          "name": "stdout",
          "text": [
            "Looking in indexes: https://pypi.org/simple, https://us-python.pkg.dev/colab-wheels/public/simple/\n",
            "Collecting wget\n",
            "  Downloading wget-3.2.zip (10 kB)\n",
            "Building wheels for collected packages: wget\n",
            "  Building wheel for wget (setup.py) ... \u001b[?25l\u001b[?25hdone\n",
            "  Created wheel for wget: filename=wget-3.2-py3-none-any.whl size=9675 sha256=22a88990c326e6bac8b7917861f2a90b721ea801cfa45e0853c7176664c069d8\n",
            "  Stored in directory: /root/.cache/pip/wheels/a1/b6/7c/0e63e34eb06634181c63adacca38b79ff8f35c37e3c13e3c02\n",
            "Successfully built wget\n",
            "Installing collected packages: wget\n",
            "Successfully installed wget-3.2\n",
            "Looking in indexes: https://pypi.org/simple, https://us-python.pkg.dev/colab-wheels/public/simple/\n",
            "\u001b[31mERROR: Could not find a version that satisfies the requirement shutil (from versions: none)\u001b[0m\n",
            "\u001b[31mERROR: No matching distribution found for shutil\u001b[0m\n"
          ]
        }
      ],
      "source": [
        "import pandas as pd\n",
        "import numpy as np\n",
        "import matplotlib.pyplot as plt\n",
        "import tensorflow as tf\n",
        "import matplotlib.image as mpimg\n",
        "import seaborn as sns\n",
        "import sys\n",
        "!{sys.executable} -m pip install wget\n",
        "!{sys.executable} -m pip install shutil\n",
        "\n",
        "import os\n",
        "from shutil import unpack_archive\n",
        "pd.set_option(\"display.max_columns\", 101)\n",
        "\n",
        "from tensorflow.keras.preprocessing.image import ImageDataGenerator\n",
        "from tensorflow.keras.optimizers import Adam"
      ]
    },
    {
      "cell_type": "code",
      "execution_count": 2,
      "metadata": {
        "colab": {
          "base_uri": "https://localhost:8080/"
        },
        "id": "PhTuHbNBLmVV",
        "outputId": "fbb3e9b7-8db4-4af1-db95-800185c11087"
      },
      "outputs": [
        {
          "output_type": "stream",
          "name": "stdout",
          "text": [
            "--2022-07-24 08:16:58--  https://docs.google.com/uc?export=download&confirm=t&id=1b4DZIS7VfBI_V8-DbpsaCP0ij8u1K3hJ\n",
            "Resolving docs.google.com (docs.google.com)... 142.251.10.102, 142.251.10.100, 142.251.10.139, ...\n",
            "Connecting to docs.google.com (docs.google.com)|142.251.10.102|:443... connected.\n",
            "HTTP request sent, awaiting response... 303 See Other\n",
            "Location: https://doc-00-90-docs.googleusercontent.com/docs/securesc/ha0ro937gcuc7l7deffksulhg5h7mbp1/r2f55astg475rim35j8cmiqeu73sudrl/1658650575000/11309364930090306574/*/1b4DZIS7VfBI_V8-DbpsaCP0ij8u1K3hJ?e=download&uuid=8db3fe13-28a3-43c3-a231-3f6904b4fab7 [following]\n",
            "Warning: wildcards not supported in HTTP.\n",
            "--2022-07-24 08:16:58--  https://doc-00-90-docs.googleusercontent.com/docs/securesc/ha0ro937gcuc7l7deffksulhg5h7mbp1/r2f55astg475rim35j8cmiqeu73sudrl/1658650575000/11309364930090306574/*/1b4DZIS7VfBI_V8-DbpsaCP0ij8u1K3hJ?e=download&uuid=8db3fe13-28a3-43c3-a231-3f6904b4fab7\n",
            "Resolving doc-00-90-docs.googleusercontent.com (doc-00-90-docs.googleusercontent.com)... 74.125.24.132, 2404:6800:4003:c03::84\n",
            "Connecting to doc-00-90-docs.googleusercontent.com (doc-00-90-docs.googleusercontent.com)|74.125.24.132|:443... connected.\n",
            "HTTP request sent, awaiting response... 200 OK\n",
            "Length: 62282324 (59M) [application/x-zip-compressed]\n",
            "Saving to: ‘dataset.zip’\n",
            "\n",
            "dataset.zip         100%[===================>]  59.40M   228MB/s    in 0.3s    \n",
            "\n",
            "2022-07-24 08:16:59 (228 MB/s) - ‘dataset.zip’ saved [62282324/62282324]\n",
            "\n"
          ]
        }
      ],
      "source": [
        "# Download dan extract dataset\n",
        "\n",
        "!wget --load-cookies /tmp/cookies.txt \"https://docs.google.com/uc?export=download&confirm=$(wget --quiet --save-cookies /tmp/cookies.txt --keep-session-cookies --no-check-certificate 'https://docs.google.com/uc?export=download&id=1b4DZIS7VfBI_V8-DbpsaCP0ij8u1K3hJ' -O- | sed -rn 's/.*confirm=([0-9A-Za-z_]+).*/\\1\\n/p')&id=1b4DZIS7VfBI_V8-DbpsaCP0ij8u1K3hJ\" -O dataset.zip && rm -rf /tmp/cookies.txt\n",
        "\n",
        "unpack_archive('dataset.zip', '')\n",
        "\n",
        "os.remove('dataset.zip')"
      ]
    },
    {
      "cell_type": "code",
      "execution_count": 3,
      "metadata": {
        "colab": {
          "base_uri": "https://localhost:8080/"
        },
        "id": "lqJMTvKizwQw",
        "outputId": "e82b653b-3704-4c21-f79d-f95294914b31"
      },
      "outputs": [
        {
          "output_type": "stream",
          "name": "stdout",
          "text": [
            "['angry', 'fear', 'neutral', 'happy', 'surprise', 'sad', 'disgust']\n"
          ]
        }
      ],
      "source": [
        "# get label\n",
        "label = os.listdir('train')\n",
        "print(label)"
      ]
    },
    {
      "cell_type": "code",
      "execution_count": 4,
      "metadata": {
        "colab": {
          "base_uri": "https://localhost:8080/"
        },
        "id": "T526KBxe9GOP",
        "outputId": "bc75eb06-c441-4c80-bc83-76cda100677d"
      },
      "outputs": [
        {
          "output_type": "stream",
          "name": "stdout",
          "text": [
            "[['angry', 3993], ['fear', 4103], ['neutral', 4982], ['happy', 7164], ['surprise', 3205], ['sad', 4938], ['disgust', 436]]\n"
          ]
        }
      ],
      "source": [
        "data_label = []\n",
        "for nama_label in label:\n",
        "    jumlah = len(os.listdir(os.path.join('train', nama_label)))\n",
        "    #print(jumlah)\n",
        "    detail_label = [nama_label, jumlah]\n",
        "    data_label.append(detail_label)\n",
        "\n",
        "print(data_label)"
      ]
    },
    {
      "cell_type": "code",
      "execution_count": 5,
      "metadata": {
        "colab": {
          "base_uri": "https://localhost:8080/",
          "height": 269
        },
        "id": "37xW2HQR9Mz2",
        "outputId": "53bb3346-c0ac-44b3-f583-a447208b38ce"
      },
      "outputs": [
        {
          "output_type": "execute_result",
          "data": {
            "text/plain": [
              "   Ekspresi  Jumlah\n",
              "0     angry    3993\n",
              "1      fear    4103\n",
              "2   neutral    4982\n",
              "3     happy    7164\n",
              "4  surprise    3205\n",
              "5       sad    4938\n",
              "6   disgust     436"
            ],
            "text/html": [
              "\n",
              "  <div id=\"df-fb618187-0b87-466a-9c8b-6210fca1dc83\">\n",
              "    <div class=\"colab-df-container\">\n",
              "      <div>\n",
              "<style scoped>\n",
              "    .dataframe tbody tr th:only-of-type {\n",
              "        vertical-align: middle;\n",
              "    }\n",
              "\n",
              "    .dataframe tbody tr th {\n",
              "        vertical-align: top;\n",
              "    }\n",
              "\n",
              "    .dataframe thead th {\n",
              "        text-align: right;\n",
              "    }\n",
              "</style>\n",
              "<table border=\"1\" class=\"dataframe\">\n",
              "  <thead>\n",
              "    <tr style=\"text-align: right;\">\n",
              "      <th></th>\n",
              "      <th>Ekspresi</th>\n",
              "      <th>Jumlah</th>\n",
              "    </tr>\n",
              "  </thead>\n",
              "  <tbody>\n",
              "    <tr>\n",
              "      <th>0</th>\n",
              "      <td>angry</td>\n",
              "      <td>3993</td>\n",
              "    </tr>\n",
              "    <tr>\n",
              "      <th>1</th>\n",
              "      <td>fear</td>\n",
              "      <td>4103</td>\n",
              "    </tr>\n",
              "    <tr>\n",
              "      <th>2</th>\n",
              "      <td>neutral</td>\n",
              "      <td>4982</td>\n",
              "    </tr>\n",
              "    <tr>\n",
              "      <th>3</th>\n",
              "      <td>happy</td>\n",
              "      <td>7164</td>\n",
              "    </tr>\n",
              "    <tr>\n",
              "      <th>4</th>\n",
              "      <td>surprise</td>\n",
              "      <td>3205</td>\n",
              "    </tr>\n",
              "    <tr>\n",
              "      <th>5</th>\n",
              "      <td>sad</td>\n",
              "      <td>4938</td>\n",
              "    </tr>\n",
              "    <tr>\n",
              "      <th>6</th>\n",
              "      <td>disgust</td>\n",
              "      <td>436</td>\n",
              "    </tr>\n",
              "  </tbody>\n",
              "</table>\n",
              "</div>\n",
              "      <button class=\"colab-df-convert\" onclick=\"convertToInteractive('df-fb618187-0b87-466a-9c8b-6210fca1dc83')\"\n",
              "              title=\"Convert this dataframe to an interactive table.\"\n",
              "              style=\"display:none;\">\n",
              "        \n",
              "  <svg xmlns=\"http://www.w3.org/2000/svg\" height=\"24px\"viewBox=\"0 0 24 24\"\n",
              "       width=\"24px\">\n",
              "    <path d=\"M0 0h24v24H0V0z\" fill=\"none\"/>\n",
              "    <path d=\"M18.56 5.44l.94 2.06.94-2.06 2.06-.94-2.06-.94-.94-2.06-.94 2.06-2.06.94zm-11 1L8.5 8.5l.94-2.06 2.06-.94-2.06-.94L8.5 2.5l-.94 2.06-2.06.94zm10 10l.94 2.06.94-2.06 2.06-.94-2.06-.94-.94-2.06-.94 2.06-2.06.94z\"/><path d=\"M17.41 7.96l-1.37-1.37c-.4-.4-.92-.59-1.43-.59-.52 0-1.04.2-1.43.59L10.3 9.45l-7.72 7.72c-.78.78-.78 2.05 0 2.83L4 21.41c.39.39.9.59 1.41.59.51 0 1.02-.2 1.41-.59l7.78-7.78 2.81-2.81c.8-.78.8-2.07 0-2.86zM5.41 20L4 18.59l7.72-7.72 1.47 1.35L5.41 20z\"/>\n",
              "  </svg>\n",
              "      </button>\n",
              "      \n",
              "  <style>\n",
              "    .colab-df-container {\n",
              "      display:flex;\n",
              "      flex-wrap:wrap;\n",
              "      gap: 12px;\n",
              "    }\n",
              "\n",
              "    .colab-df-convert {\n",
              "      background-color: #E8F0FE;\n",
              "      border: none;\n",
              "      border-radius: 50%;\n",
              "      cursor: pointer;\n",
              "      display: none;\n",
              "      fill: #1967D2;\n",
              "      height: 32px;\n",
              "      padding: 0 0 0 0;\n",
              "      width: 32px;\n",
              "    }\n",
              "\n",
              "    .colab-df-convert:hover {\n",
              "      background-color: #E2EBFA;\n",
              "      box-shadow: 0px 1px 2px rgba(60, 64, 67, 0.3), 0px 1px 3px 1px rgba(60, 64, 67, 0.15);\n",
              "      fill: #174EA6;\n",
              "    }\n",
              "\n",
              "    [theme=dark] .colab-df-convert {\n",
              "      background-color: #3B4455;\n",
              "      fill: #D2E3FC;\n",
              "    }\n",
              "\n",
              "    [theme=dark] .colab-df-convert:hover {\n",
              "      background-color: #434B5C;\n",
              "      box-shadow: 0px 1px 3px 1px rgba(0, 0, 0, 0.15);\n",
              "      filter: drop-shadow(0px 1px 2px rgba(0, 0, 0, 0.3));\n",
              "      fill: #FFFFFF;\n",
              "    }\n",
              "  </style>\n",
              "\n",
              "      <script>\n",
              "        const buttonEl =\n",
              "          document.querySelector('#df-fb618187-0b87-466a-9c8b-6210fca1dc83 button.colab-df-convert');\n",
              "        buttonEl.style.display =\n",
              "          google.colab.kernel.accessAllowed ? 'block' : 'none';\n",
              "\n",
              "        async function convertToInteractive(key) {\n",
              "          const element = document.querySelector('#df-fb618187-0b87-466a-9c8b-6210fca1dc83');\n",
              "          const dataTable =\n",
              "            await google.colab.kernel.invokeFunction('convertToInteractive',\n",
              "                                                     [key], {});\n",
              "          if (!dataTable) return;\n",
              "\n",
              "          const docLinkHtml = 'Like what you see? Visit the ' +\n",
              "            '<a target=\"_blank\" href=https://colab.research.google.com/notebooks/data_table.ipynb>data table notebook</a>'\n",
              "            + ' to learn more about interactive tables.';\n",
              "          element.innerHTML = '';\n",
              "          dataTable['output_type'] = 'display_data';\n",
              "          await google.colab.output.renderOutput(dataTable, element);\n",
              "          const docLink = document.createElement('div');\n",
              "          docLink.innerHTML = docLinkHtml;\n",
              "          element.appendChild(docLink);\n",
              "        }\n",
              "      </script>\n",
              "    </div>\n",
              "  </div>\n",
              "  "
            ]
          },
          "metadata": {},
          "execution_count": 5
        }
      ],
      "source": [
        "df_label = pd.DataFrame(data_label)\n",
        "df_label.columns = ['Ekspresi', 'Jumlah']\n",
        "df_label"
      ]
    },
    {
      "cell_type": "code",
      "execution_count": 6,
      "metadata": {
        "colab": {
          "base_uri": "https://localhost:8080/",
          "height": 353
        },
        "id": "z3vue9vngYxj",
        "outputId": "62dd492b-1205-43d6-a367-74d0a361e8a2"
      },
      "outputs": [
        {
          "output_type": "stream",
          "name": "stderr",
          "text": [
            "/usr/local/lib/python3.7/dist-packages/seaborn/_decorators.py:43: FutureWarning: Pass the following variables as keyword args: x, y. From version 0.12, the only valid positional argument will be `data`, and passing other arguments without an explicit keyword will result in an error or misinterpretation.\n",
            "  FutureWarning\n"
          ]
        },
        {
          "output_type": "display_data",
          "data": {
            "text/plain": [
              "<Figure size 432x288 with 1 Axes>"
            ],
            "image/png": "[encoded data removed]"
          },
          "metadata": {
            "needs_background": "light"
          }
        }
      ],
      "source": [
        "plt.figure(figsize=(6,4))\n",
        "sns.barplot(df_label.Ekspresi, df_label.Jumlah)\n",
        "plt.title('Class distribution')\n",
        "plt.ylabel('Jumlah', fontsize=12)\n",
        "plt.xlabel('Ekspresi', fontsize=12)\n",
        "plt.show()"
      ]
    },
    {
      "cell_type": "code",
      "execution_count": 7,
      "metadata": {
        "colab": {
          "base_uri": "https://localhost:8080/"
        },
        "id": "vxh1N_I925AG",
        "outputId": "c35cbd38-125b-4e61-f899-5b0e846c0471"
      },
      "outputs": [
        {
          "output_type": "stream",
          "name": "stdout",
          "text": [
            "jumlah data training sebanyak 28821\n",
            "jumlah data validaiton sebanyak 7066\n"
          ]
        }
      ],
      "source": [
        "# Jumlah data training\n",
        "\n",
        "jumlah_training = 0\n",
        "jumlah_validation = 0 \n",
        "for nama_label in label:\n",
        "    jumlah_train = len(os.listdir(os.path.join('train', nama_label)))\n",
        "    jumlah_val = len(os.listdir(os.path.join('validation', nama_label)))\n",
        "    jumlah_training += jumlah_train\n",
        "    jumlah_validation += jumlah_val\n",
        "\n",
        "print('jumlah data training sebanyak', jumlah_training)\n",
        "print('jumlah data validaiton sebanyak', jumlah_validation)"
      ]
    },
    {
      "cell_type": "code",
      "execution_count": 8,
      "metadata": {
        "colab": {
          "base_uri": "https://localhost:8080/",
          "height": 554
        },
        "id": "FNb9GeDigeZr",
        "outputId": "9f34816a-52aa-475f-923f-c41f781a73bc"
      },
      "outputs": [
        {
          "output_type": "display_data",
          "data": {
            "text/plain": [
              "<Figure size 1152x720 with 7 Axes>"
            ],
            "image/png": "[encoded data removed]"
          },
          "metadata": {
            "needs_background": "light"
          }
        }
      ],
      "source": [
        "def gambarWajah(gambar, jenis_ekpresi, path):\n",
        "    #pixels, emotion = row['pixels'], emotion_map[row['emotion']]\n",
        "    #img = np.array(pixels.split())\n",
        "    gambar_dir = os.path.join(path, jenis_ekpresi)\n",
        "    gambar_path = os.path.join(gambar_dir, gambar)\n",
        "    img = mpimg.imread(gambar_path)\n",
        "    img = img.reshape(48,48)\n",
        "    image = np.zeros((48,48,3))\n",
        "    image[:,:,0] = img\n",
        "    image[:,:,1] = img\n",
        "    image[:,:,2] = img\n",
        "    return np.array([image.astype(np.uint8), jenis_ekpresi], dtype=object)\n",
        "\n",
        "plt.figure(0, figsize=(16,10))\n",
        "i = 1;\n",
        "for nama_ekspresi in label:\n",
        "    #print(nama_ekspresi)\n",
        "    gambar_dir = os.path.join('train', nama_ekspresi)\n",
        "    list_gambar_ekspresi = os.listdir(gambar_dir)\n",
        "    nama_gambar = list_gambar_ekspresi[0]\n",
        "    img = gambarWajah(nama_gambar, nama_ekspresi, 'train')\n",
        "    plt.subplot(2,4,i)\n",
        "    plt.imshow(img[0])\n",
        "    plt.title(img[1])\n",
        "    i+=1\n",
        "\n",
        "plt.show()  "
      ]
    },
    {
      "cell_type": "code",
      "execution_count": 9,
      "metadata": {
        "colab": {
          "base_uri": "https://localhost:8080/"
        },
        "id": "JNhGBfEIIi6q",
        "outputId": "43ec941e-5e8b-4f5f-f35b-906c8d70b5ce"
      },
      "outputs": [
        {
          "output_type": "stream",
          "name": "stdout",
          "text": [
            "<class 'pandas.core.frame.DataFrame'>\n",
            "RangeIndex: 28821 entries, 0 to 28820\n",
            "Data columns (total 2 columns):\n",
            " #   Column  Non-Null Count  Dtype \n",
            "---  ------  --------------  ----- \n",
            " 0   image   28821 non-null  object\n",
            " 1   label   28821 non-null  object\n",
            "dtypes: object(2)\n",
            "memory usage: 450.5+ KB\n",
            "<class 'pandas.core.frame.DataFrame'>\n",
            "RangeIndex: 7066 entries, 0 to 7065\n",
            "Data columns (total 2 columns):\n",
            " #   Column  Non-Null Count  Dtype \n",
            "---  ------  --------------  ----- \n",
            " 0   image   7066 non-null   object\n",
            " 1   label   7066 non-null   object\n",
            "dtypes: object(2)\n",
            "memory usage: 110.5+ KB\n"
          ]
        }
      ],
      "source": [
        "# Membuat Dataframe\n",
        "\n",
        "data_foto_1 = []\n",
        "nama_class_1 = []\n",
        "for label in os.listdir(os.path.join('train')):\n",
        "  for img in os.listdir(os.path.join('train', label)):\n",
        "    data_foto_1.append(img)\n",
        "    nama_class_1.append(label)\n",
        "\n",
        "training_df = pd.DataFrame({'image' : data_foto_1, 'label' : nama_class_1})\n",
        "\n",
        "data_foto_2 = []\n",
        "nama_class_2 = []\n",
        "for label in os.listdir(os.path.join('validation')):\n",
        "  for img in os.listdir(os.path.join('validation', label)):\n",
        "    data_foto_2.append(img)\n",
        "    nama_class_2.append(label)\n",
        "\n",
        "validation_df = pd.DataFrame({'image' : data_foto_2, 'label' : nama_class_2})\n",
        "\n",
        "training_df.info()\n",
        "validation_df.info()"
      ]
    },
    {
      "cell_type": "code",
      "execution_count": 10,
      "metadata": {
        "id": "AYspHTghA8IR"
      },
      "outputs": [],
      "source": [
        "#initilize parameters\n",
        "jumlah_class = 7\n",
        "#width, height = 48, 48\n",
        "jumlah_epochs = 200\n",
        "ukuran_batch = 64\n",
        "jumlah_features = 64"
      ]
    },
    {
      "cell_type": "code",
      "execution_count": 11,
      "metadata": {
        "id": "L8M5Rc3BgoFB"
      },
      "outputs": [],
      "source": [
        "# Image Data Generator\n",
        "train_datagen = ImageDataGenerator(\n",
        "      # featurewise_center = True,\n",
        "      # featurewise_std_normalization = True,\n",
        "      rotation_range = 10,\n",
        "      width_shift_range = 0.1,\n",
        "      height_shift_range = 0.1,\n",
        "      zoom_range = 0.1,\n",
        "      horizontal_flip = True,\n",
        "      fill_mode = 'nearest'\n",
        ")\n",
        "validation_datagen = ImageDataGenerator(horizontal_flip = True)"
      ]
    },
    {
      "cell_type": "code",
      "execution_count": 12,
      "metadata": {
        "colab": {
          "base_uri": "https://localhost:8080/"
        },
        "id": "SgtX3bXes79N",
        "outputId": "2271d129-0ebe-492f-a833-e4b131d618d2"
      },
      "outputs": [
        {
          "output_type": "stream",
          "name": "stdout",
          "text": [
            "Found 28821 images belonging to 7 classes.\n",
            "Found 7066 images belonging to 7 classes.\n"
          ]
        }
      ],
      "source": [
        "# Preprocess Data Biasa\n",
        "\n",
        "train_generator = train_datagen.flow_from_directory(\n",
        "    \"train/\",\n",
        "    target_size=(48,48),\n",
        "    batch_size = ukuran_batch,\n",
        "    color_mode = 'grayscale',\n",
        "    class_mode = \"categorical\"\n",
        ")\n",
        "\n",
        "validation_generator = validation_datagen.flow_from_directory(\n",
        "    \"validation/\",\n",
        "    target_size=(48,48),\n",
        "    batch_size = ukuran_batch,\n",
        "    color_mode = 'grayscale',\n",
        "    class_mode = \"categorical\"\n",
        ")"
      ]
    },
    {
      "cell_type": "markdown",
      "source": [
        "Model terbaik saat ini dengan akurasi train 0.59 dan akurasi validation 0.60 adalah\n",
        "model = tf.keras.models.Sequential([\n",
        "                                    tf.keras.layers.Conv2D(64, (3,3), activation=\"relu\", input_shape=(48,48,1)),\n",
        "                                    tf.keras.layers.BatchNormalization(),\n",
        "                                    tf.keras.layers.MaxPooling2D(2,2),\n",
        "                                    tf.keras.layers.Conv2D(32, (3,3), activation=\"relu\"),\n",
        "                                    tf.keras.layers.BatchNormalization(),\n",
        "                                    tf.keras.layers.MaxPooling2D(2,2),\n",
        "                                    tf.keras.layers.Conv2D(32, (3,3), activation=\"relu\"),\n",
        "                                    tf.keras.layers.BatchNormalization(),\n",
        "                                    tf.keras.layers.MaxPooling2D(2,2),\n",
        "                                    tf.keras.layers.Conv2D(16, (3,3), activation=\"relu\"),\n",
        "                                    tf.keras.layers.BatchNormalization(),\n",
        "                                    tf.keras.layers.MaxPooling2D(2,2),\n",
        "                                    tf.keras.layers.Flatten(),\n",
        "                                    tf.keras.layers.Dense(128, activation=\"relu\"),\n",
        "                                    tf.keras.layers.BatchNormalization(),\n",
        "                                    tf.keras.layers.Dense(7, activation=\"softmax\")\n",
        "])"
      ],
      "metadata": {
        "id": "fSuK18KBLfjV"
      }
    },
    {
      "cell_type": "code",
      "execution_count": 13,
      "metadata": {
        "colab": {
          "base_uri": "https://localhost:8080/"
        },
        "id": "x4W-Vszz0B2i",
        "outputId": "06778c8f-b169-4274-9982-e28d2e9515ba"
      },
      "outputs": [
        {
          "output_type": "stream",
          "name": "stdout",
          "text": [
            "Model: \"sequential\"\n",
            "_________________________________________________________________\n",
            " Layer (type)                Output Shape              Param #   \n",
            "=================================================================\n",
            " conv2d (Conv2D)             (None, 46, 46, 512)       5120      \n",
            "                                                                 \n",
            " batch_normalization (BatchN  (None, 46, 46, 512)      2048      \n",
            " ormalization)                                                   \n",
            "                                                                 \n",
            " max_pooling2d (MaxPooling2D  (None, 23, 23, 512)      0         \n",
            " )                                                               \n",
            "                                                                 \n",
            " conv2d_1 (Conv2D)           (None, 23, 23, 512)       2359808   \n",
            "                                                                 \n",
            " batch_normalization_1 (Batc  (None, 23, 23, 512)      2048      \n",
            " hNormalization)                                                 \n",
            "                                                                 \n",
            " max_pooling2d_1 (MaxPooling  (None, 11, 11, 512)      0         \n",
            " 2D)                                                             \n",
            "                                                                 \n",
            " conv2d_2 (Conv2D)           (None, 11, 11, 512)       2359808   \n",
            "                                                                 \n",
            " batch_normalization_2 (Batc  (None, 11, 11, 512)      2048      \n",
            " hNormalization)                                                 \n",
            "                                                                 \n",
            " max_pooling2d_2 (MaxPooling  (None, 5, 5, 512)        0         \n",
            " 2D)                                                             \n",
            "                                                                 \n",
            " conv2d_3 (Conv2D)           (None, 5, 5, 512)         2359808   \n",
            "                                                                 \n",
            " batch_normalization_3 (Batc  (None, 5, 5, 512)        2048      \n",
            " hNormalization)                                                 \n",
            "                                                                 \n",
            " max_pooling2d_3 (MaxPooling  (None, 2, 2, 512)        0         \n",
            " 2D)                                                             \n",
            "                                                                 \n",
            " flatten (Flatten)           (None, 2048)              0         \n",
            "                                                                 \n",
            " dense (Dense)               (None, 128)               262272    \n",
            "                                                                 \n",
            " batch_normalization_4 (Batc  (None, 128)              512       \n",
            " hNormalization)                                                 \n",
            "                                                                 \n",
            " dropout (Dropout)           (None, 128)               0         \n",
            "                                                                 \n",
            " dense_1 (Dense)             (None, 64)                8256      \n",
            "                                                                 \n",
            " batch_normalization_5 (Batc  (None, 64)               256       \n",
            " hNormalization)                                                 \n",
            "                                                                 \n",
            " dropout_1 (Dropout)         (None, 64)                0         \n",
            "                                                                 \n",
            " dense_2 (Dense)             (None, 32)                2080      \n",
            "                                                                 \n",
            " batch_normalization_6 (Batc  (None, 32)               128       \n",
            " hNormalization)                                                 \n",
            "                                                                 \n",
            " dropout_2 (Dropout)         (None, 32)                0         \n",
            "                                                                 \n",
            " dense_3 (Dense)             (None, 7)                 231       \n",
            "                                                                 \n",
            "=================================================================\n",
            "Total params: 7,366,471\n",
            "Trainable params: 7,361,927\n",
            "Non-trainable params: 4,544\n",
            "_________________________________________________________________\n"
          ]
        }
      ],
      "source": [
        "model = tf.keras.models.Sequential([\n",
        "                                    tf.keras.layers.Conv2D(512, (3,3), activation=\"relu\", input_shape=(48,48,1)),\n",
        "                                    tf.keras.layers.BatchNormalization(),\n",
        "                                    tf.keras.layers.MaxPooling2D(2,2),\n",
        "                                    # tf.keras.layers.Dropout(0.2),\n",
        "                                    tf.keras.layers.Conv2D(512, (3,3), activation=\"relu\", padding='same'),\n",
        "                                    tf.keras.layers.BatchNormalization(),\n",
        "                                    tf.keras.layers.MaxPooling2D(2,2),\n",
        "                                    # tf.keras.layers.Dropout(0.2),\n",
        "                                    tf.keras.layers.Conv2D(512, (3,3), activation=\"relu\", padding='same'),\n",
        "                                    tf.keras.layers.BatchNormalization(),\n",
        "                                    tf.keras.layers.MaxPooling2D(2,2),\n",
        "                                    # tf.keras.layers.Dropout(0.2),\n",
        "                                    tf.keras.layers.Conv2D(512, (3,3), activation=\"relu\", padding='same'),\n",
        "                                    tf.keras.layers.BatchNormalization(),\n",
        "                                    tf.keras.layers.MaxPooling2D(2,2),\n",
        "                                    # tf.keras.layers.Dropout(0.2),\n",
        "                                    tf.keras.layers.Flatten(),\n",
        "                                    tf.keras.layers.Dense(128, activation=\"relu\"),\n",
        "                                    tf.keras.layers.BatchNormalization(),\n",
        "                                    tf.keras.layers.Dropout(0.2),\n",
        "                                    tf.keras.layers.Dense(64, activation=\"relu\"),\n",
        "                                    tf.keras.layers.BatchNormalization(),\n",
        "                                    tf.keras.layers.Dropout(0.2),\n",
        "                                    tf.keras.layers.Dense(32, activation=\"relu\"),\n",
        "                                    tf.keras.layers.BatchNormalization(),\n",
        "                                    tf.keras.layers.Dropout(0.2),\n",
        "                                    tf.keras.layers.Dense(7, activation=\"softmax\")\n",
        "])\n",
        "\n",
        "model.summary()"
      ]
    },
    {
      "cell_type": "code",
      "execution_count": 14,
      "metadata": {
        "colab": {
          "base_uri": "https://localhost:8080/"
        },
        "id": "NWl9RxGT0La9",
        "outputId": "9a4cd3b8-488b-4e49-eb21-3e56332413e5"
      },
      "outputs": [
        {
          "output_type": "stream",
          "name": "stderr",
          "text": [
            "/usr/local/lib/python3.7/dist-packages/keras/optimizer_v2/adam.py:105: UserWarning: The `lr` argument is deprecated, use `learning_rate` instead.\n",
            "  super(Adam, self).__init__(name, **kwargs)\n"
          ]
        }
      ],
      "source": [
        "# Compile model\n",
        "\n",
        "model.compile(optimizer=Adam(lr=0.0001), loss=\"categorical_crossentropy\", metrics = [\"accuracy\"])"
      ]
    },
    {
      "cell_type": "code",
      "execution_count": 15,
      "metadata": {
        "colab": {
          "base_uri": "https://localhost:8080/"
        },
        "id": "80GtPHS70OQe",
        "outputId": "047f1e05-d3aa-40ce-af8d-dbfca2fd3c9f"
      },
      "outputs": [
        {
          "output_type": "stream",
          "name": "stdout",
          "text": [
            "Epoch 1/200\n",
            "450/450 [==============================] - 68s 115ms/step - loss: 2.2458 - accuracy: 0.1992 - val_loss: 1.8722 - val_accuracy: 0.2791\n",
            "Epoch 2/200\n",
            "450/450 [==============================] - 50s 110ms/step - loss: 1.9779 - accuracy: 0.2647 - val_loss: 1.7289 - val_accuracy: 0.3288\n",
            "Epoch 3/200\n",
            "450/450 [==============================] - 50s 111ms/step - loss: 1.7803 - accuracy: 0.3309 - val_loss: 1.5595 - val_accuracy: 0.3987\n",
            "Epoch 4/200\n",
            "450/450 [==============================] - 50s 111ms/step - loss: 1.6500 - accuracy: 0.3791 - val_loss: 1.4468 - val_accuracy: 0.4472\n",
            "Epoch 5/200\n",
            "450/450 [==============================] - 50s 111ms/step - loss: 1.5499 - accuracy: 0.4166 - val_loss: 1.3872 - val_accuracy: 0.4761\n",
            "Epoch 6/200\n",
            "450/450 [==============================] - 50s 111ms/step - loss: 1.4738 - accuracy: 0.4482 - val_loss: 1.3054 - val_accuracy: 0.5061\n",
            "Epoch 7/200\n",
            "450/450 [==============================] - 50s 111ms/step - loss: 1.4037 - accuracy: 0.4698 - val_loss: 1.2632 - val_accuracy: 0.5229\n",
            "Epoch 8/200\n",
            "450/450 [==============================] - 50s 110ms/step - loss: 1.3505 - accuracy: 0.4930 - val_loss: 1.2438 - val_accuracy: 0.5299\n",
            "Epoch 9/200\n",
            "450/450 [==============================] - 50s 111ms/step - loss: 1.3002 - accuracy: 0.5127 - val_loss: 1.2311 - val_accuracy: 0.5306\n",
            "Epoch 10/200\n",
            "450/450 [==============================] - 50s 111ms/step - loss: 1.2705 - accuracy: 0.5238 - val_loss: 1.1899 - val_accuracy: 0.5425\n",
            "Epoch 11/200\n",
            "450/450 [==============================] - 50s 111ms/step - loss: 1.2433 - accuracy: 0.5357 - val_loss: 1.2578 - val_accuracy: 0.5133\n",
            "Epoch 12/200\n",
            "450/450 [==============================] - 50s 110ms/step - loss: 1.2106 - accuracy: 0.5479 - val_loss: 1.1315 - val_accuracy: 0.5759\n",
            "Epoch 13/200\n",
            "450/450 [==============================] - 50s 110ms/step - loss: 1.1900 - accuracy: 0.5556 - val_loss: 1.1624 - val_accuracy: 0.5565\n",
            "Epoch 14/200\n",
            "450/450 [==============================] - 50s 111ms/step - loss: 1.1726 - accuracy: 0.5628 - val_loss: 1.1313 - val_accuracy: 0.5720\n",
            "Epoch 15/200\n",
            "450/450 [==============================] - 50s 111ms/step - loss: 1.1545 - accuracy: 0.5720 - val_loss: 1.1206 - val_accuracy: 0.5760\n",
            "Epoch 16/200\n",
            "450/450 [==============================] - 50s 110ms/step - loss: 1.1294 - accuracy: 0.5828 - val_loss: 1.0751 - val_accuracy: 0.5937\n",
            "Epoch 17/200\n",
            "450/450 [==============================] - 50s 111ms/step - loss: 1.1095 - accuracy: 0.5878 - val_loss: 1.0686 - val_accuracy: 0.5952\n",
            "Epoch 18/200\n",
            "450/450 [==============================] - 50s 111ms/step - loss: 1.0940 - accuracy: 0.5923 - val_loss: 1.1026 - val_accuracy: 0.5822\n",
            "Epoch 19/200\n",
            "450/450 [==============================] - 50s 110ms/step - loss: 1.0735 - accuracy: 0.6045 - val_loss: 1.0758 - val_accuracy: 0.5903\n",
            "Epoch 20/200\n",
            "450/450 [==============================] - 50s 111ms/step - loss: 1.0680 - accuracy: 0.6040 - val_loss: 1.0552 - val_accuracy: 0.6087\n",
            "Epoch 21/200\n",
            "450/450 [==============================] - 50s 110ms/step - loss: 1.0459 - accuracy: 0.6146 - val_loss: 1.0405 - val_accuracy: 0.6063\n",
            "Epoch 22/200\n",
            "450/450 [==============================] - 50s 110ms/step - loss: 1.0397 - accuracy: 0.6151 - val_loss: 1.0427 - val_accuracy: 0.6098\n",
            "Epoch 23/200\n",
            "450/450 [==============================] - 50s 110ms/step - loss: 1.0228 - accuracy: 0.6239 - val_loss: 1.1031 - val_accuracy: 0.5805\n",
            "Epoch 24/200\n",
            "450/450 [==============================] - 50s 110ms/step - loss: 1.0115 - accuracy: 0.6295 - val_loss: 1.1773 - val_accuracy: 0.5551\n",
            "Epoch 25/200\n",
            "450/450 [==============================] - 50s 110ms/step - loss: 0.9951 - accuracy: 0.6326 - val_loss: 1.0926 - val_accuracy: 0.5841\n",
            "Epoch 26/200\n",
            "450/450 [==============================] - 50s 110ms/step - loss: 0.9836 - accuracy: 0.6393 - val_loss: 1.0281 - val_accuracy: 0.6160\n",
            "Epoch 27/200\n",
            "450/450 [==============================] - 50s 110ms/step - loss: 0.9684 - accuracy: 0.6440 - val_loss: 1.0156 - val_accuracy: 0.6261\n",
            "Epoch 28/200\n",
            "450/450 [==============================] - 50s 110ms/step - loss: 0.9585 - accuracy: 0.6484 - val_loss: 1.0136 - val_accuracy: 0.6228\n",
            "Epoch 29/200\n",
            "450/450 [==============================] - 50s 110ms/step - loss: 0.9464 - accuracy: 0.6540 - val_loss: 1.0166 - val_accuracy: 0.6281\n",
            "Epoch 30/200\n",
            "450/450 [==============================] - 50s 110ms/step - loss: 0.9315 - accuracy: 0.6596 - val_loss: 1.0903 - val_accuracy: 0.6056\n",
            "Epoch 31/200\n",
            "450/450 [==============================] - 50s 110ms/step - loss: 0.9187 - accuracy: 0.6672 - val_loss: 1.1052 - val_accuracy: 0.6044\n",
            "Epoch 32/200\n",
            "450/450 [==============================] - 50s 110ms/step - loss: 0.9126 - accuracy: 0.6691 - val_loss: 1.2101 - val_accuracy: 0.5552\n",
            "Epoch 33/200\n",
            "450/450 [==============================] - 50s 110ms/step - loss: 0.8956 - accuracy: 0.6746 - val_loss: 1.0260 - val_accuracy: 0.6233\n",
            "Epoch 34/200\n",
            "450/450 [==============================] - 50s 110ms/step - loss: 0.8794 - accuracy: 0.6820 - val_loss: 1.1028 - val_accuracy: 0.5971\n",
            "Epoch 35/200\n",
            "450/450 [==============================] - 50s 110ms/step - loss: 0.8751 - accuracy: 0.6835 - val_loss: 1.0221 - val_accuracy: 0.6292\n",
            "Epoch 36/200\n",
            "450/450 [==============================] - 50s 110ms/step - loss: 0.8654 - accuracy: 0.6857 - val_loss: 1.1429 - val_accuracy: 0.5797\n",
            "Epoch 37/200\n",
            "450/450 [==============================] - 50s 110ms/step - loss: 0.8616 - accuracy: 0.6899 - val_loss: 1.0196 - val_accuracy: 0.6311\n",
            "Epoch 38/200\n",
            "450/450 [==============================] - 50s 110ms/step - loss: 0.8465 - accuracy: 0.6954 - val_loss: 1.0091 - val_accuracy: 0.6370\n",
            "Epoch 39/200\n",
            "450/450 [==============================] - 50s 110ms/step - loss: 0.8332 - accuracy: 0.7015 - val_loss: 1.1041 - val_accuracy: 0.5985\n",
            "Epoch 40/200\n",
            "450/450 [==============================] - 50s 110ms/step - loss: 0.8235 - accuracy: 0.6996 - val_loss: 0.9863 - val_accuracy: 0.6514\n",
            "Epoch 41/200\n",
            "450/450 [==============================] - 50s 110ms/step - loss: 0.8156 - accuracy: 0.7064 - val_loss: 1.0352 - val_accuracy: 0.6318\n",
            "Epoch 42/200\n",
            "450/450 [==============================] - 50s 110ms/step - loss: 0.8053 - accuracy: 0.7135 - val_loss: 1.0527 - val_accuracy: 0.6190\n",
            "Epoch 43/200\n",
            "450/450 [==============================] - 50s 110ms/step - loss: 0.8011 - accuracy: 0.7133 - val_loss: 1.0111 - val_accuracy: 0.6429\n",
            "Epoch 44/200\n",
            "450/450 [==============================] - 50s 110ms/step - loss: 0.7923 - accuracy: 0.7171 - val_loss: 0.9838 - val_accuracy: 0.6469\n",
            "Epoch 45/200\n",
            "450/450 [==============================] - 50s 110ms/step - loss: 0.7726 - accuracy: 0.7241 - val_loss: 1.1814 - val_accuracy: 0.5831\n",
            "Epoch 46/200\n",
            "450/450 [==============================] - 50s 110ms/step - loss: 0.7569 - accuracy: 0.7301 - val_loss: 1.1508 - val_accuracy: 0.5950\n",
            "Epoch 47/200\n",
            "450/450 [==============================] - 50s 110ms/step - loss: 0.7582 - accuracy: 0.7298 - val_loss: 1.0160 - val_accuracy: 0.6429\n",
            "Epoch 48/200\n",
            "450/450 [==============================] - 50s 110ms/step - loss: 0.7510 - accuracy: 0.7328 - val_loss: 1.0001 - val_accuracy: 0.6485\n",
            "Epoch 49/200\n",
            "450/450 [==============================] - 50s 110ms/step - loss: 0.7397 - accuracy: 0.7371 - val_loss: 1.1059 - val_accuracy: 0.6176\n",
            "Epoch 50/200\n",
            "450/450 [==============================] - 50s 111ms/step - loss: 0.7255 - accuracy: 0.7426 - val_loss: 1.0361 - val_accuracy: 0.6391\n",
            "Epoch 51/200\n",
            "450/450 [==============================] - 50s 111ms/step - loss: 0.7213 - accuracy: 0.7442 - val_loss: 1.0759 - val_accuracy: 0.6272\n",
            "Epoch 52/200\n",
            "450/450 [==============================] - 50s 111ms/step - loss: 0.7155 - accuracy: 0.7455 - val_loss: 1.1365 - val_accuracy: 0.6158\n",
            "Epoch 53/200\n",
            "450/450 [==============================] - 50s 111ms/step - loss: 0.7031 - accuracy: 0.7501 - val_loss: 1.0328 - val_accuracy: 0.6422\n",
            "Epoch 54/200\n",
            "450/450 [==============================] - 50s 110ms/step - loss: 0.7034 - accuracy: 0.7486 - val_loss: 1.0803 - val_accuracy: 0.6357\n",
            "Epoch 55/200\n",
            "450/450 [==============================] - 50s 110ms/step - loss: 0.6772 - accuracy: 0.7606 - val_loss: 1.0517 - val_accuracy: 0.6461\n",
            "Epoch 56/200\n",
            "450/450 [==============================] - 50s 110ms/step - loss: 0.6835 - accuracy: 0.7626 - val_loss: 1.1073 - val_accuracy: 0.6277\n",
            "Epoch 57/200\n",
            "450/450 [==============================] - 50s 110ms/step - loss: 0.6618 - accuracy: 0.7671 - val_loss: 1.0229 - val_accuracy: 0.6465\n",
            "Epoch 58/200\n",
            "450/450 [==============================] - 50s 110ms/step - loss: 0.6528 - accuracy: 0.7685 - val_loss: 1.0590 - val_accuracy: 0.6451\n",
            "Epoch 59/200\n",
            "450/450 [==============================] - 50s 111ms/step - loss: 0.6478 - accuracy: 0.7728 - val_loss: 1.2129 - val_accuracy: 0.5993\n",
            "Epoch 60/200\n",
            "450/450 [==============================] - 50s 110ms/step - loss: 0.6482 - accuracy: 0.7738 - val_loss: 1.0303 - val_accuracy: 0.6536\n",
            "Epoch 61/200\n",
            "450/450 [==============================] - 50s 110ms/step - loss: 0.6314 - accuracy: 0.7757 - val_loss: 1.0942 - val_accuracy: 0.6325\n",
            "Epoch 62/200\n",
            "450/450 [==============================] - 50s 110ms/step - loss: 0.6256 - accuracy: 0.7779 - val_loss: 1.2187 - val_accuracy: 0.6152\n",
            "Epoch 63/200\n",
            "450/450 [==============================] - 50s 110ms/step - loss: 0.6223 - accuracy: 0.7808 - val_loss: 1.2393 - val_accuracy: 0.6053\n",
            "Epoch 64/200\n",
            "450/450 [==============================] - 50s 110ms/step - loss: 0.6115 - accuracy: 0.7853 - val_loss: 1.0966 - val_accuracy: 0.6438\n",
            "Epoch 65/200\n",
            "450/450 [==============================] - 50s 110ms/step - loss: 0.6151 - accuracy: 0.7843 - val_loss: 1.1379 - val_accuracy: 0.6288\n",
            "Epoch 66/200\n",
            "450/450 [==============================] - 50s 110ms/step - loss: 0.6018 - accuracy: 0.7878 - val_loss: 1.0429 - val_accuracy: 0.6599\n",
            "Epoch 67/200\n",
            "450/450 [==============================] - 50s 110ms/step - loss: 0.5814 - accuracy: 0.7971 - val_loss: 1.0723 - val_accuracy: 0.6561\n",
            "Epoch 68/200\n",
            "450/450 [==============================] - 50s 110ms/step - loss: 0.5853 - accuracy: 0.7981 - val_loss: 1.2347 - val_accuracy: 0.6146\n",
            "Epoch 69/200\n",
            "450/450 [==============================] - 50s 110ms/step - loss: 0.5714 - accuracy: 0.7982 - val_loss: 1.1318 - val_accuracy: 0.6485\n",
            "Epoch 70/200\n",
            "450/450 [==============================] - 50s 110ms/step - loss: 0.5698 - accuracy: 0.8015 - val_loss: 1.3452 - val_accuracy: 0.5817\n",
            "Epoch 71/200\n",
            "450/450 [==============================] - 50s 110ms/step - loss: 0.5570 - accuracy: 0.8073 - val_loss: 1.3489 - val_accuracy: 0.5962\n",
            "Epoch 72/200\n",
            "450/450 [==============================] - 50s 110ms/step - loss: 0.5540 - accuracy: 0.8080 - val_loss: 1.1022 - val_accuracy: 0.6592\n",
            "Epoch 73/200\n",
            "450/450 [==============================] - 50s 110ms/step - loss: 0.5465 - accuracy: 0.8090 - val_loss: 1.1399 - val_accuracy: 0.6398\n",
            "Epoch 74/200\n",
            "450/450 [==============================] - 50s 110ms/step - loss: 0.5400 - accuracy: 0.8106 - val_loss: 1.0634 - val_accuracy: 0.6677\n",
            "Epoch 75/200\n",
            "450/450 [==============================] - 50s 110ms/step - loss: 0.5350 - accuracy: 0.8157 - val_loss: 1.2598 - val_accuracy: 0.6107\n",
            "Epoch 76/200\n",
            "450/450 [==============================] - 50s 110ms/step - loss: 0.5232 - accuracy: 0.8190 - val_loss: 1.1436 - val_accuracy: 0.6418\n",
            "Epoch 77/200\n",
            "450/450 [==============================] - 50s 110ms/step - loss: 0.5267 - accuracy: 0.8171 - val_loss: 1.1034 - val_accuracy: 0.6562\n",
            "Epoch 78/200\n",
            "450/450 [==============================] - 50s 110ms/step - loss: 0.5189 - accuracy: 0.8199 - val_loss: 1.1967 - val_accuracy: 0.6442\n",
            "Epoch 79/200\n",
            "450/450 [==============================] - 50s 110ms/step - loss: 0.5159 - accuracy: 0.8208 - val_loss: 1.2904 - val_accuracy: 0.5978\n",
            "Epoch 80/200\n",
            "450/450 [==============================] - 50s 110ms/step - loss: 0.4993 - accuracy: 0.8263 - val_loss: 1.1579 - val_accuracy: 0.6436\n",
            "Epoch 81/200\n",
            "450/450 [==============================] - 50s 110ms/step - loss: 0.5021 - accuracy: 0.8277 - val_loss: 1.1153 - val_accuracy: 0.6616\n",
            "Epoch 82/200\n",
            "450/450 [==============================] - 50s 110ms/step - loss: 0.4998 - accuracy: 0.8270 - val_loss: 1.1965 - val_accuracy: 0.6404\n",
            "Epoch 83/200\n",
            "450/450 [==============================] - 50s 111ms/step - loss: 0.4854 - accuracy: 0.8306 - val_loss: 1.2935 - val_accuracy: 0.6170\n",
            "Epoch 84/200\n",
            "450/450 [==============================] - 50s 110ms/step - loss: 0.4820 - accuracy: 0.8339 - val_loss: 1.2536 - val_accuracy: 0.6374\n",
            "Epoch 85/200\n",
            "450/450 [==============================] - 50s 111ms/step - loss: 0.4841 - accuracy: 0.8302 - val_loss: 1.1264 - val_accuracy: 0.6635\n",
            "Epoch 86/200\n",
            "450/450 [==============================] - 50s 110ms/step - loss: 0.4688 - accuracy: 0.8395 - val_loss: 1.1507 - val_accuracy: 0.6578\n",
            "Epoch 87/200\n",
            "450/450 [==============================] - 50s 110ms/step - loss: 0.4534 - accuracy: 0.8422 - val_loss: 1.1543 - val_accuracy: 0.6526\n",
            "Epoch 88/200\n",
            "450/450 [==============================] - 50s 110ms/step - loss: 0.4581 - accuracy: 0.8400 - val_loss: 1.2079 - val_accuracy: 0.6537\n",
            "Epoch 89/200\n",
            "450/450 [==============================] - 50s 111ms/step - loss: 0.4647 - accuracy: 0.8403 - val_loss: 1.2739 - val_accuracy: 0.6269\n",
            "Epoch 90/200\n",
            "450/450 [==============================] - 50s 111ms/step - loss: 0.4419 - accuracy: 0.8478 - val_loss: 1.1972 - val_accuracy: 0.6526\n",
            "Epoch 91/200\n",
            "450/450 [==============================] - 50s 111ms/step - loss: 0.4519 - accuracy: 0.8455 - val_loss: 1.1654 - val_accuracy: 0.6684\n",
            "Epoch 92/200\n",
            "450/450 [==============================] - 50s 111ms/step - loss: 0.4374 - accuracy: 0.8500 - val_loss: 1.1962 - val_accuracy: 0.6504\n",
            "Epoch 93/200\n",
            "450/450 [==============================] - 50s 110ms/step - loss: 0.4399 - accuracy: 0.8473 - val_loss: 1.1784 - val_accuracy: 0.6620\n",
            "Epoch 94/200\n",
            "450/450 [==============================] - 50s 110ms/step - loss: 0.4399 - accuracy: 0.8493 - val_loss: 1.2019 - val_accuracy: 0.6649\n",
            "Epoch 95/200\n",
            "450/450 [==============================] - 50s 110ms/step - loss: 0.4279 - accuracy: 0.8536 - val_loss: 1.2220 - val_accuracy: 0.6524\n",
            "Epoch 96/200\n",
            "450/450 [==============================] - 50s 110ms/step - loss: 0.4256 - accuracy: 0.8534 - val_loss: 1.5292 - val_accuracy: 0.5834\n",
            "Epoch 97/200\n",
            "450/450 [==============================] - 50s 110ms/step - loss: 0.4209 - accuracy: 0.8531 - val_loss: 1.2241 - val_accuracy: 0.6526\n",
            "Epoch 98/200\n",
            "450/450 [==============================] - 50s 110ms/step - loss: 0.4216 - accuracy: 0.8556 - val_loss: 1.1527 - val_accuracy: 0.6739\n",
            "Epoch 99/200\n",
            "450/450 [==============================] - 50s 110ms/step - loss: 0.4086 - accuracy: 0.8603 - val_loss: 1.6353 - val_accuracy: 0.5650\n",
            "Epoch 100/200\n",
            "450/450 [==============================] - 50s 111ms/step - loss: 0.4053 - accuracy: 0.8623 - val_loss: 1.3278 - val_accuracy: 0.6339\n",
            "Epoch 101/200\n",
            "450/450 [==============================] - 50s 110ms/step - loss: 0.4099 - accuracy: 0.8598 - val_loss: 1.1741 - val_accuracy: 0.6720\n",
            "Epoch 102/200\n",
            "450/450 [==============================] - 50s 111ms/step - loss: 0.3902 - accuracy: 0.8660 - val_loss: 1.2616 - val_accuracy: 0.6411\n",
            "Epoch 103/200\n",
            "450/450 [==============================] - 50s 111ms/step - loss: 0.3993 - accuracy: 0.8631 - val_loss: 1.1791 - val_accuracy: 0.6678\n",
            "Epoch 104/200\n",
            "450/450 [==============================] - 50s 111ms/step - loss: 0.3961 - accuracy: 0.8644 - val_loss: 1.2316 - val_accuracy: 0.6537\n",
            "Epoch 105/200\n",
            "450/450 [==============================] - 50s 110ms/step - loss: 0.3871 - accuracy: 0.8667 - val_loss: 1.4269 - val_accuracy: 0.6152\n",
            "Epoch 106/200\n",
            "450/450 [==============================] - 50s 110ms/step - loss: 0.3795 - accuracy: 0.8722 - val_loss: 1.1885 - val_accuracy: 0.6663\n",
            "Epoch 107/200\n",
            "450/450 [==============================] - 50s 110ms/step - loss: 0.3810 - accuracy: 0.8706 - val_loss: 1.2469 - val_accuracy: 0.6601\n",
            "Epoch 108/200\n",
            "450/450 [==============================] - 50s 110ms/step - loss: 0.3804 - accuracy: 0.8697 - val_loss: 1.2016 - val_accuracy: 0.6694\n",
            "Epoch 109/200\n",
            "450/450 [==============================] - 50s 110ms/step - loss: 0.3697 - accuracy: 0.8752 - val_loss: 1.3444 - val_accuracy: 0.6393\n",
            "Epoch 110/200\n",
            "450/450 [==============================] - 50s 110ms/step - loss: 0.3591 - accuracy: 0.8764 - val_loss: 1.2937 - val_accuracy: 0.6425\n",
            "Epoch 111/200\n",
            "450/450 [==============================] - 50s 110ms/step - loss: 0.3559 - accuracy: 0.8771 - val_loss: 1.5019 - val_accuracy: 0.6078\n",
            "Epoch 112/200\n",
            "450/450 [==============================] - 50s 110ms/step - loss: 0.3582 - accuracy: 0.8769 - val_loss: 1.2700 - val_accuracy: 0.6564\n",
            "Epoch 113/200\n",
            "450/450 [==============================] - 50s 110ms/step - loss: 0.3544 - accuracy: 0.8779 - val_loss: 1.3349 - val_accuracy: 0.6397\n",
            "Epoch 114/200\n",
            "450/450 [==============================] - 50s 110ms/step - loss: 0.3553 - accuracy: 0.8784 - val_loss: 1.2770 - val_accuracy: 0.6625\n",
            "Epoch 115/200\n",
            "450/450 [==============================] - 50s 110ms/step - loss: 0.3481 - accuracy: 0.8806 - val_loss: 1.2964 - val_accuracy: 0.6519\n",
            "Epoch 116/200\n",
            "450/450 [==============================] - 50s 111ms/step - loss: 0.3493 - accuracy: 0.8795 - val_loss: 1.2528 - val_accuracy: 0.6642\n",
            "Epoch 117/200\n",
            "450/450 [==============================] - 50s 110ms/step - loss: 0.3379 - accuracy: 0.8854 - val_loss: 1.2487 - val_accuracy: 0.6773\n",
            "Epoch 118/200\n",
            "450/450 [==============================] - 50s 110ms/step - loss: 0.3358 - accuracy: 0.8851 - val_loss: 1.3193 - val_accuracy: 0.6537\n",
            "Epoch 119/200\n",
            "450/450 [==============================] - 50s 110ms/step - loss: 0.3366 - accuracy: 0.8861 - val_loss: 1.3142 - val_accuracy: 0.6555\n",
            "Epoch 120/200\n",
            "450/450 [==============================] - 50s 110ms/step - loss: 0.3366 - accuracy: 0.8855 - val_loss: 1.3086 - val_accuracy: 0.6551\n",
            "Epoch 121/200\n",
            "450/450 [==============================] - 50s 110ms/step - loss: 0.3235 - accuracy: 0.8904 - val_loss: 1.2849 - val_accuracy: 0.6664\n",
            "Epoch 122/200\n",
            "450/450 [==============================] - 50s 110ms/step - loss: 0.3331 - accuracy: 0.8878 - val_loss: 1.2982 - val_accuracy: 0.6611\n",
            "Epoch 123/200\n",
            "450/450 [==============================] - 50s 110ms/step - loss: 0.3265 - accuracy: 0.8865 - val_loss: 1.3609 - val_accuracy: 0.6445\n",
            "Epoch 124/200\n",
            "450/450 [==============================] - 50s 110ms/step - loss: 0.3199 - accuracy: 0.8913 - val_loss: 1.2711 - val_accuracy: 0.6684\n",
            "Epoch 125/200\n",
            "450/450 [==============================] - 50s 110ms/step - loss: 0.3253 - accuracy: 0.8885 - val_loss: 1.3995 - val_accuracy: 0.6517\n",
            "Epoch 126/200\n",
            "450/450 [==============================] - 50s 111ms/step - loss: 0.3227 - accuracy: 0.8899 - val_loss: 1.6310 - val_accuracy: 0.6080\n",
            "Epoch 127/200\n",
            "450/450 [==============================] - 50s 110ms/step - loss: 0.3236 - accuracy: 0.8906 - val_loss: 1.2335 - val_accuracy: 0.6708\n"
          ]
        }
      ],
      "source": [
        "# Fit model\n",
        "\n",
        "history = model.fit(\n",
        "    train_generator, \n",
        "    validation_data = validation_generator,\n",
        "    epochs=jumlah_epochs, \n",
        "    steps_per_epoch = jumlah_training/ukuran_batch,\n",
        "    validation_steps = jumlah_validation/ukuran_batch,\n",
        "    verbose = 1,\n",
        "    callbacks = tf.keras.callbacks.EarlyStopping(monitor='loss', patience=3)\n",
        ")"
      ]
    },
    {
      "cell_type": "code",
      "execution_count": 16,
      "metadata": {
        "id": "6VZEbkXC1UQg",
        "colab": {
          "base_uri": "https://localhost:8080/",
          "height": 545
        },
        "outputId": "545c0413-aab4-4533-8264-8330417e5c39"
      },
      "outputs": [
        {
          "output_type": "display_data",
          "data": {
            "text/plain": [
              "<Figure size 432x288 with 1 Axes>"
            ],
            "image/png": "[encoded data removed]"
          },
          "metadata": {
            "needs_background": "light"
          }
        },
        {
          "output_type": "display_data",
          "data": {
            "text/plain": [
              "<Figure size 432x288 with 1 Axes>"
            ],
            "image/png": "[encoded data removed]"
          },
          "metadata": {
            "needs_background": "light"
          }
        }
      ],
      "source": [
        "acc = history.history['accuracy']\n",
        "val_acc = history.history['val_accuracy']\n",
        "loss = history.history['loss']\n",
        "val_loss = history.history['val_loss']\n",
        "\n",
        "epochs = range(len(acc))\n",
        "\n",
        "plt.plot(epochs, acc, 'r', label='Training accuracy')\n",
        "plt.plot(epochs, val_acc, 'b', label='Validation accuracy')\n",
        "plt.title('Training and validation accuracy')\n",
        "plt.legend()\n",
        "\n",
        "plt.figure()\n",
        "\n",
        "plt.plot(epochs, loss, 'r', label='Training Loss')\n",
        "plt.plot(epochs, val_loss, 'b', label='Validation Loss')\n",
        "plt.title('Training and validation loss')\n",
        "plt.legend()\n",
        "\n",
        "plt.show()"
      ]
    },
    {
      "cell_type": "code",
      "source": [
        ""
      ],
      "metadata": {
        "id": "GW9qbho6UWFj"
      },
      "execution_count": null,
      "outputs": []
    }
  ],
  "metadata": {
    "colab": {
      "collapsed_sections": [],
      "name": "face_expression_detection.ipynb",
      "provenance": []
    },
    "kernelspec": {
      "display_name": "Python 3",
      "name": "python3"
    },
    "language_info": {
      "name": "python"
    },
    "accelerator": "GPU",
    "gpuClass": "standard"
  },
  "nbformat": 4,
  "nbformat_minor": 0
}